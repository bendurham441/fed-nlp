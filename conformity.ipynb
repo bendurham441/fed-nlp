{
 "cells": [
  {
   "cell_type": "code",
   "execution_count": 2,
   "metadata": {},
   "outputs": [],
   "source": [
    "import pandas as pd\n",
    "import math\n",
    "import matplotlib.pyplot as plt"
   ]
  },
  {
   "cell_type": "code",
   "execution_count": 3,
   "metadata": {},
   "outputs": [],
   "source": [
    "fdf = pd.read_csv('working-csvs/fomc_w_topics.csv', index_col=0)"
   ]
  },
  {
   "cell_type": "code",
   "execution_count": 4,
   "metadata": {},
   "outputs": [
    {
     "data": {
      "text/plain": [
       "Index(['date', 'speaker', 'text_enhanced', 'tokens', 'tprob_0', 'tprob_1',\n",
       "       'tprob_2', 'tprob_3', 'tprob_4', 'tprob_5', 'tprob_6', 'tprob_7',\n",
       "       'tprob_8', 'tprob_9', 'tprob_10', 'tprob_11', 'tprob_12', 'tprob_13',\n",
       "       'tprob_14', 'tprob_15', 'tprob_16', 'tprob_17', 'tprob_18', 'tprob_19',\n",
       "       'tprob_20', 'tprob_21', 'tprob_22', 'tprob_23', 'tprob_24', 'tprob_25',\n",
       "       'tprob_26', 'tprob_27', 'tprob_28', 'tprob_29', 'tprob_30', 'tprob_31',\n",
       "       'tprob_32', 'tprob_33', 'tprob_34', 'tprob_35', 'tprob_36', 'tprob_37',\n",
       "       'tprob_38', 'tprob_39', 'tprob_40', 'tprob_41', 'tprob_42', 'tprob_43',\n",
       "       'tprob_44', 'len', 'lname', 'is_fomc'],\n",
       "      dtype='object')"
      ]
     },
     "execution_count": 4,
     "metadata": {},
     "output_type": "execute_result"
    }
   ],
   "source": [
    "fdf.columns"
   ]
  },
  {
   "cell_type": "code",
   "execution_count": 5,
   "metadata": {},
   "outputs": [],
   "source": [
    "trpob_cols = [f'tprob_{i}' for i in range(45)]"
   ]
  },
  {
   "cell_type": "code",
   "execution_count": 6,
   "metadata": {},
   "outputs": [],
   "source": [
    "fdf[[f'tprob_{i}_avg' for i in range(45)]] = fdf.groupby('date')[trpob_cols].transform('mean')\n",
    "# fdf.groupby('date')[trpob_cols].mean().reset_index()[trpob_cols]\n",
    "\n",
    "# fdf[trpob_cols].mean()"
   ]
  },
  {
   "cell_type": "code",
   "execution_count": 7,
   "metadata": {},
   "outputs": [
    {
     "data": {
      "text/html": [
       "<div>\n",
       "<style scoped>\n",
       "    .dataframe tbody tr th:only-of-type {\n",
       "        vertical-align: middle;\n",
       "    }\n",
       "\n",
       "    .dataframe tbody tr th {\n",
       "        vertical-align: top;\n",
       "    }\n",
       "\n",
       "    .dataframe thead th {\n",
       "        text-align: right;\n",
       "    }\n",
       "</style>\n",
       "<table border=\"1\" class=\"dataframe\">\n",
       "  <thead>\n",
       "    <tr style=\"text-align: right;\">\n",
       "      <th></th>\n",
       "      <th>date</th>\n",
       "      <th>speaker</th>\n",
       "      <th>text_enhanced</th>\n",
       "      <th>tokens</th>\n",
       "      <th>tprob_0</th>\n",
       "      <th>tprob_1</th>\n",
       "      <th>tprob_2</th>\n",
       "      <th>tprob_3</th>\n",
       "      <th>tprob_4</th>\n",
       "      <th>tprob_5</th>\n",
       "      <th>...</th>\n",
       "      <th>tprob_35_avg</th>\n",
       "      <th>tprob_36_avg</th>\n",
       "      <th>tprob_37_avg</th>\n",
       "      <th>tprob_38_avg</th>\n",
       "      <th>tprob_39_avg</th>\n",
       "      <th>tprob_40_avg</th>\n",
       "      <th>tprob_41_avg</th>\n",
       "      <th>tprob_42_avg</th>\n",
       "      <th>tprob_43_avg</th>\n",
       "      <th>tprob_44_avg</th>\n",
       "    </tr>\n",
       "  </thead>\n",
       "  <tbody>\n",
       "    <tr>\n",
       "      <th>1696</th>\n",
       "      <td>1994-02-04</td>\n",
       "      <td>CHAIRMAN GREENSPAN.</td>\n",
       "      <td>As you know, this is our organizational meetin...</td>\n",
       "      <td>['know', 'organiz', 'meet', 'alway', 'meet', '...</td>\n",
       "      <td>0.002360</td>\n",
       "      <td>0.001847</td>\n",
       "      <td>0.002183</td>\n",
       "      <td>0.080568</td>\n",
       "      <td>0.031129</td>\n",
       "      <td>0.001038</td>\n",
       "      <td>...</td>\n",
       "      <td>0.00963</td>\n",
       "      <td>0.016656</td>\n",
       "      <td>0.011385</td>\n",
       "      <td>0.008738</td>\n",
       "      <td>0.011269</td>\n",
       "      <td>0.008637</td>\n",
       "      <td>0.017393</td>\n",
       "      <td>0.012649</td>\n",
       "      <td>0.076129</td>\n",
       "      <td>0.015007</td>\n",
       "    </tr>\n",
       "    <tr>\n",
       "      <th>1698</th>\n",
       "      <td>1994-02-04</td>\n",
       "      <td>MR. BOEHNE.</td>\n",
       "      <td>Normally in an economic expansion, development...</td>\n",
       "      <td>['normal', 'econom', 'expans', 'develop', 'rea...</td>\n",
       "      <td>0.005527</td>\n",
       "      <td>0.006127</td>\n",
       "      <td>0.005889</td>\n",
       "      <td>0.045383</td>\n",
       "      <td>0.098863</td>\n",
       "      <td>0.003816</td>\n",
       "      <td>...</td>\n",
       "      <td>0.00963</td>\n",
       "      <td>0.016656</td>\n",
       "      <td>0.011385</td>\n",
       "      <td>0.008738</td>\n",
       "      <td>0.011269</td>\n",
       "      <td>0.008637</td>\n",
       "      <td>0.017393</td>\n",
       "      <td>0.012649</td>\n",
       "      <td>0.076129</td>\n",
       "      <td>0.015007</td>\n",
       "    </tr>\n",
       "    <tr>\n",
       "      <th>1699</th>\n",
       "      <td>1994-02-04</td>\n",
       "      <td>MR. BROADDUS.</td>\n",
       "      <td>My report is going to be pretty bland after th...</td>\n",
       "      <td>['report', 'go', 'pretti', 'bland', 'develop',...</td>\n",
       "      <td>0.006002</td>\n",
       "      <td>0.012405</td>\n",
       "      <td>0.006998</td>\n",
       "      <td>0.094474</td>\n",
       "      <td>0.018949</td>\n",
       "      <td>0.003959</td>\n",
       "      <td>...</td>\n",
       "      <td>0.00963</td>\n",
       "      <td>0.016656</td>\n",
       "      <td>0.011385</td>\n",
       "      <td>0.008738</td>\n",
       "      <td>0.011269</td>\n",
       "      <td>0.008637</td>\n",
       "      <td>0.017393</td>\n",
       "      <td>0.012649</td>\n",
       "      <td>0.076129</td>\n",
       "      <td>0.015007</td>\n",
       "    </tr>\n",
       "    <tr>\n",
       "      <th>1703</th>\n",
       "      <td>1994-02-04</td>\n",
       "      <td>MR. FORRESTAL.</td>\n",
       "      <td>Joan, do you have an \"add need\" tomorrow as we...</td>\n",
       "      <td>['joan', 'add', 'need', 'tomorrow', 'well', 'w...</td>\n",
       "      <td>0.020140</td>\n",
       "      <td>0.091074</td>\n",
       "      <td>0.006324</td>\n",
       "      <td>0.057786</td>\n",
       "      <td>0.028165</td>\n",
       "      <td>0.022221</td>\n",
       "      <td>...</td>\n",
       "      <td>0.00963</td>\n",
       "      <td>0.016656</td>\n",
       "      <td>0.011385</td>\n",
       "      <td>0.008738</td>\n",
       "      <td>0.011269</td>\n",
       "      <td>0.008637</td>\n",
       "      <td>0.017393</td>\n",
       "      <td>0.012649</td>\n",
       "      <td>0.076129</td>\n",
       "      <td>0.015007</td>\n",
       "    </tr>\n",
       "    <tr>\n",
       "      <th>1704</th>\n",
       "      <td>1994-02-04</td>\n",
       "      <td>MR. HOENIG.</td>\n",
       "      <td>Mr. Chairman, our District continues to grow a...</td>\n",
       "      <td>['mr', 'chairman', 'district', 'continu', 'gro...</td>\n",
       "      <td>0.012011</td>\n",
       "      <td>0.040295</td>\n",
       "      <td>0.013197</td>\n",
       "      <td>0.111359</td>\n",
       "      <td>0.062660</td>\n",
       "      <td>0.007633</td>\n",
       "      <td>...</td>\n",
       "      <td>0.00963</td>\n",
       "      <td>0.016656</td>\n",
       "      <td>0.011385</td>\n",
       "      <td>0.008738</td>\n",
       "      <td>0.011269</td>\n",
       "      <td>0.008637</td>\n",
       "      <td>0.017393</td>\n",
       "      <td>0.012649</td>\n",
       "      <td>0.076129</td>\n",
       "      <td>0.015007</td>\n",
       "    </tr>\n",
       "  </tbody>\n",
       "</table>\n",
       "<p>5 rows × 97 columns</p>\n",
       "</div>"
      ],
      "text/plain": [
       "            date              speaker  \\\n",
       "1696  1994-02-04  CHAIRMAN GREENSPAN.   \n",
       "1698  1994-02-04          MR. BOEHNE.   \n",
       "1699  1994-02-04        MR. BROADDUS.   \n",
       "1703  1994-02-04       MR. FORRESTAL.   \n",
       "1704  1994-02-04          MR. HOENIG.   \n",
       "\n",
       "                                          text_enhanced  \\\n",
       "1696  As you know, this is our organizational meetin...   \n",
       "1698  Normally in an economic expansion, development...   \n",
       "1699  My report is going to be pretty bland after th...   \n",
       "1703  Joan, do you have an \"add need\" tomorrow as we...   \n",
       "1704  Mr. Chairman, our District continues to grow a...   \n",
       "\n",
       "                                                 tokens   tprob_0   tprob_1  \\\n",
       "1696  ['know', 'organiz', 'meet', 'alway', 'meet', '...  0.002360  0.001847   \n",
       "1698  ['normal', 'econom', 'expans', 'develop', 'rea...  0.005527  0.006127   \n",
       "1699  ['report', 'go', 'pretti', 'bland', 'develop',...  0.006002  0.012405   \n",
       "1703  ['joan', 'add', 'need', 'tomorrow', 'well', 'w...  0.020140  0.091074   \n",
       "1704  ['mr', 'chairman', 'district', 'continu', 'gro...  0.012011  0.040295   \n",
       "\n",
       "       tprob_2   tprob_3   tprob_4   tprob_5  ...  tprob_35_avg  tprob_36_avg  \\\n",
       "1696  0.002183  0.080568  0.031129  0.001038  ...       0.00963      0.016656   \n",
       "1698  0.005889  0.045383  0.098863  0.003816  ...       0.00963      0.016656   \n",
       "1699  0.006998  0.094474  0.018949  0.003959  ...       0.00963      0.016656   \n",
       "1703  0.006324  0.057786  0.028165  0.022221  ...       0.00963      0.016656   \n",
       "1704  0.013197  0.111359  0.062660  0.007633  ...       0.00963      0.016656   \n",
       "\n",
       "      tprob_37_avg  tprob_38_avg  tprob_39_avg  tprob_40_avg  tprob_41_avg  \\\n",
       "1696      0.011385      0.008738      0.011269      0.008637      0.017393   \n",
       "1698      0.011385      0.008738      0.011269      0.008637      0.017393   \n",
       "1699      0.011385      0.008738      0.011269      0.008637      0.017393   \n",
       "1703      0.011385      0.008738      0.011269      0.008637      0.017393   \n",
       "1704      0.011385      0.008738      0.011269      0.008637      0.017393   \n",
       "\n",
       "      tprob_42_avg  tprob_43_avg  tprob_44_avg  \n",
       "1696      0.012649      0.076129      0.015007  \n",
       "1698      0.012649      0.076129      0.015007  \n",
       "1699      0.012649      0.076129      0.015007  \n",
       "1703      0.012649      0.076129      0.015007  \n",
       "1704      0.012649      0.076129      0.015007  \n",
       "\n",
       "[5 rows x 97 columns]"
      ]
     },
     "execution_count": 7,
     "metadata": {},
     "output_type": "execute_result"
    }
   ],
   "source": [
    "fdf.head()"
   ]
  },
  {
   "cell_type": "code",
   "execution_count": 28,
   "metadata": {},
   "outputs": [],
   "source": [
    "avg_tprob_cols = [f'tprob_{i}_avg' for i in range(45)]\n",
    "tprob_cols = [f'tprob_{i}' for i in range(45)]"
   ]
  },
  {
   "cell_type": "code",
   "execution_count": 9,
   "metadata": {},
   "outputs": [],
   "source": [
    "def similarities(probs):\n",
    "    dp = 0\n",
    "    bc = 0\n",
    "    kl = 0\n",
    "    for i in range(45):\n",
    "        avg_comp = probs[f'tprob_{i}_avg']\n",
    "        ind_comp = probs[f'tprob_{i}']\n",
    "        prod = ind_comp * avg_comp\n",
    "        bc += math.sqrt(prod)\n",
    "        dp += prod\n",
    "        kl += avg_comp * math.log(avg_comp / ind_comp)\n",
    "\n",
    "    kl = math.exp(-1 * kl)\n",
    "    dp = 1 - dp\n",
    "    return pd.Series([dp, bc, kl], index=['Dot Product Similarity', 'Bhattacharyya Coef', 'KL'])"
   ]
  },
  {
   "cell_type": "code",
   "execution_count": 10,
   "metadata": {},
   "outputs": [],
   "source": [
    "fdf[['dpsim', 'bcsim', 'kl']] = fdf[trpob_cols + avg_tprob_cols].apply(similarities, axis=1)"
   ]
  },
  {
   "cell_type": "code",
   "execution_count": 11,
   "metadata": {},
   "outputs": [],
   "source": [
    "fdf['date'] = pd.to_datetime(fdf['date'])"
   ]
  },
  {
   "cell_type": "code",
   "execution_count": 13,
   "metadata": {},
   "outputs": [
    {
     "data": {
      "text/plain": [
       "<Axes: xlabel='date'>"
      ]
     },
     "execution_count": 13,
     "metadata": {},
     "output_type": "execute_result"
    },
    {
     "data": {
      "image/png": "[encoded data removed]",
      "text/plain": [
       "<Figure size 640x480 with 1 Axes>"
      ]
     },
     "metadata": {},
     "output_type": "display_data"
    }
   ],
   "source": [
    "plt.style.use('ggplot')\n",
    "fdf.groupby('date')[['dpsim', 'bcsim', 'kl']].mean()['kl'].rolling('60D').mean().plot()"
   ]
  },
  {
   "cell_type": "code",
   "execution_count": 117,
   "metadata": {},
   "outputs": [
    {
     "data": {
      "text/plain": [
       "tprob_0_avg     0.009156\n",
       "tprob_1_avg      0.00762\n",
       "tprob_2_avg     0.006795\n",
       "tprob_3_avg     0.027132\n",
       "tprob_4_avg     0.070112\n",
       "tprob_5_avg     0.005426\n",
       "tprob_6_avg      0.00761\n",
       "tprob_7_avg      0.09073\n",
       "tprob_8_avg     0.007276\n",
       "tprob_9_avg      0.00712\n",
       "tprob_10_avg    0.006184\n",
       "tprob_11_avg    0.021469\n",
       "tprob_12_avg    0.006353\n",
       "tprob_13_avg    0.010369\n",
       "tprob_14_avg    0.009334\n",
       "tprob_15_avg    0.012158\n",
       "tprob_16_avg    0.009687\n",
       "tprob_17_avg    0.005598\n",
       "tprob_18_avg    0.013329\n",
       "tprob_19_avg    0.009321\n",
       "tprob_20_avg    0.017973\n",
       "tprob_21_avg    0.017795\n",
       "tprob_22_avg    0.009493\n",
       "tprob_23_avg    0.033476\n",
       "tprob_24_avg    0.009357\n",
       "tprob_25_avg    0.035326\n",
       "tprob_26_avg    0.015499\n",
       "tprob_27_avg     0.00806\n",
       "tprob_28_avg    0.011442\n",
       "tprob_29_avg    0.016721\n",
       "tprob_30_avg    0.034334\n",
       "tprob_31_avg    0.008168\n",
       "tprob_32_avg    0.007034\n",
       "tprob_33_avg    0.272347\n",
       "tprob_34_avg    0.008297\n",
       "tprob_35_avg    0.016672\n",
       "tprob_36_avg    0.006231\n",
       "tprob_37_avg    0.010242\n",
       "tprob_38_avg     0.01177\n",
       "tprob_39_avg    0.007172\n",
       "tprob_40_avg    0.007911\n",
       "tprob_41_avg    0.009773\n",
       "tprob_42_avg     0.05072\n",
       "tprob_43_avg    0.023966\n",
       "tprob_44_avg    0.007442\n",
       "Name: 3701, dtype: object"
      ]
     },
     "execution_count": 117,
     "metadata": {},
     "output_type": "execute_result"
    }
   ],
   "source": [
    "fdf[fdf['date'] == '2003-09-15'].loc[3701][avg_tprob_cols]"
   ]
  },
  {
   "cell_type": "code",
   "execution_count": 39,
   "metadata": {},
   "outputs": [
    {
     "data": {
      "text/plain": [
       "speaker     CHAIRMAN GREENSPAN.\n",
       "kl                     0.271186\n",
       "tprob_0                0.001939\n",
       "tprob_1                0.025932\n",
       "tprob_2                0.001935\n",
       "tprob_3                0.007385\n",
       "tprob_4                0.019716\n",
       "tprob_5                0.012416\n",
       "tprob_6                0.001649\n",
       "tprob_7                0.009472\n",
       "tprob_8                0.050597\n",
       "tprob_9                 0.00207\n",
       "tprob_10               0.064407\n",
       "tprob_11               0.002322\n",
       "tprob_12               0.003047\n",
       "tprob_13               0.002129\n",
       "tprob_14               0.002751\n",
       "tprob_15               0.004979\n",
       "tprob_16               0.001729\n",
       "tprob_17               0.001671\n",
       "tprob_18               0.009652\n",
       "tprob_19               0.029107\n",
       "tprob_20               0.002269\n",
       "tprob_21               0.007491\n",
       "tprob_22               0.002372\n",
       "tprob_23               0.030108\n",
       "tprob_24               0.005901\n",
       "tprob_25               0.001791\n",
       "tprob_26               0.003363\n",
       "tprob_27               0.004431\n",
       "tprob_28               0.014785\n",
       "tprob_29               0.001944\n",
       "tprob_30                0.00162\n",
       "tprob_31               0.020398\n",
       "tprob_32               0.018827\n",
       "tprob_33               0.202493\n",
       "tprob_34               0.372459\n",
       "tprob_35               0.018053\n",
       "tprob_36               0.004291\n",
       "tprob_37               0.003032\n",
       "tprob_38               0.009826\n",
       "tprob_39               0.002041\n",
       "tprob_40               0.002537\n",
       "tprob_41               0.005592\n",
       "tprob_42               0.005428\n",
       "tprob_43               0.002361\n",
       "tprob_44               0.001685\n",
       "Name: 4132, dtype: object"
      ]
     },
     "execution_count": 39,
     "metadata": {},
     "output_type": "execute_result"
    }
   ],
   "source": [
    "\n",
    "fdf[fdf['date'] == '2005-08-09'].loc[4132][['speaker', 'kl'] + tprob_cols]"
   ]
  },
  {
   "cell_type": "code",
   "execution_count": 19,
   "metadata": {},
   "outputs": [],
   "source": [
    "\n",
    "sim = fdf.groupby('date')[['dpsim', 'bcsim', 'kl']].mean()['kl'].rolling('60D').mean()"
   ]
  },
  {
   "cell_type": "code",
   "execution_count": 20,
   "metadata": {},
   "outputs": [
    {
     "data": {
      "text/plain": [
       "date\n",
       "2004-01-28    0.614519\n",
       "2004-03-16    0.609275\n",
       "2004-05-04    0.594041\n",
       "2004-06-30    0.602104\n",
       "2004-08-10    0.608930\n",
       "2004-09-21    0.625505\n",
       "2004-11-10    0.609765\n",
       "2004-12-14    0.598053\n",
       "2005-02-02    0.615191\n",
       "2005-03-22    0.619375\n",
       "2005-05-03    0.606941\n",
       "2005-06-30    0.574684\n",
       "2005-08-09    0.560243\n",
       "2005-09-20    0.593611\n",
       "2005-11-01    0.592206\n",
       "2005-12-13    0.572937\n",
       "Name: kl, dtype: float64"
      ]
     },
     "execution_count": 20,
     "metadata": {},
     "output_type": "execute_result"
    }
   ],
   "source": [
    "sim[(sim.index > '2004-01-01') & (sim.index < '2006-01-01')]"
   ]
  },
  {
   "cell_type": "code",
   "execution_count": 1,
   "metadata": {},
   "outputs": [
    {
     "ename": "NameError",
     "evalue": "name 'fdf' is not defined",
     "output_type": "error",
     "traceback": [
      "\u001b[0;31m---------------------------------------------------------------------------\u001b[0m",
      "\u001b[0;31mNameError\u001b[0m                                 Traceback (most recent call last)",
      "Cell \u001b[0;32mIn[1], line 1\u001b[0m\n\u001b[0;32m----> 1\u001b[0m \u001b[43mfdf\u001b[49m\u001b[38;5;241m.\u001b[39mgroupby(\u001b[38;5;124m'\u001b[39m\u001b[38;5;124mdate\u001b[39m\u001b[38;5;124m'\u001b[39m)[[\u001b[38;5;124m'\u001b[39m\u001b[38;5;124mdpsim\u001b[39m\u001b[38;5;124m'\u001b[39m, \u001b[38;5;124m'\u001b[39m\u001b[38;5;124mbcsim\u001b[39m\u001b[38;5;124m'\u001b[39m]]\u001b[38;5;241m.\u001b[39mmean()[\u001b[38;5;124m'\u001b[39m\u001b[38;5;124mdpsim\u001b[39m\u001b[38;5;124m'\u001b[39m]\u001b[38;5;241m.\u001b[39mrolling(\u001b[38;5;124m'\u001b[39m\u001b[38;5;124m60D\u001b[39m\u001b[38;5;124m'\u001b[39m)\u001b[38;5;241m.\u001b[39mmean()\u001b[38;5;241m.\u001b[39mplot()\n",
      "\u001b[0;31mNameError\u001b[0m: name 'fdf' is not defined"
     ]
    }
   ],
   "source": [
    "fdf.groupby('date')[['dpsim', 'bcsim']].mean()['dpsim'].rolling('60D').mean().plot()"
   ]
  },
  {
   "cell_type": "code",
   "execution_count": null,
   "metadata": {},
   "outputs": [],
   "source": []
  }
 ],
 "metadata": {
  "kernelspec": {
   "display_name": "fed-nlp",
   "language": "python",
   "name": "python3"
  },
  "language_info": {
   "codemirror_mode": {
    "name": "ipython",
    "version": 3
   },
   "file_extension": ".py",
   "mimetype": "text/x-python",
   "name": "python",
   "nbconvert_exporter": "python",
   "pygments_lexer": "ipython3",
   "version": "3.11.4"
  }
 },
 "nbformat": 4,
 "nbformat_minor": 2
}
