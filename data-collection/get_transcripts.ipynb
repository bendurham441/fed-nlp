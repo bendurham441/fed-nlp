{
 "cells": [
  {
   "cell_type": "code",
   "execution_count": 1,
   "metadata": {},
   "outputs": [],
   "source": [
    "\n",
    "import requests\n",
    "from bs4 import BeautifulSoup\n",
    "import bs4\n",
    "import random\n",
    "import time\n",
    "import pandas as pd\n",
    "import re\n",
    "import numpy as np\n",
    "import os"
   ]
  },
  {
   "cell_type": "code",
   "execution_count": 2,
   "metadata": {},
   "outputs": [],
   "source": [
    "base_url = 'https://www.federalreserve.gov'"
   ]
  },
  {
   "cell_type": "code",
   "execution_count": 8,
   "metadata": {},
   "outputs": [],
   "source": [
    "def get_minute_links(year):\n",
    "    url = f'{base_url}/monetarypolicy/fomchistorical{year}.htm'\n",
    "    response = requests.get(url).text\n",
    "    soup = BeautifulSoup(response)\n",
    "    # print(soup.prettify())\n",
    "    panels = soup.find_all('div', class_='panel')\n",
    "    links = []\n",
    "    for panel in panels:\n",
    "        transcript_element = panel(text=re.compile(r'Transcript'))\n",
    "        if transcript_element:\n",
    "            anchor = transcript_element[0].parent\n",
    "            links.append(f'{base_url}{anchor[\"href\"]}')\n",
    "    print(len(links))\n",
    "    return links"
   ]
  },
  {
   "cell_type": "code",
   "execution_count": 11,
   "metadata": {},
   "outputs": [
    {
     "name": "stdout",
     "output_type": "stream",
     "text": [
      "1986\n",
      "8\n",
      "1987\n",
      "10\n",
      "1988\n",
      "12\n",
      "1989\n",
      "14\n",
      "1990\n",
      "12\n",
      "1991\n",
      "19\n",
      "1992\n",
      "12\n",
      "1993\n",
      "16\n",
      "1994\n",
      "13\n",
      "1995\n",
      "11\n",
      "1996\n",
      "8\n",
      "1997\n",
      "8\n",
      "1998\n",
      "10\n",
      "1999\n",
      "8\n",
      "2000\n",
      "8\n",
      "2001\n",
      "13\n",
      "2002\n",
      "8\n",
      "2003\n",
      "13\n",
      "2004\n",
      "8\n",
      "2005\n",
      "8\n",
      "2006\n",
      "8\n",
      "2007\n",
      "11\n",
      "2008\n",
      "14\n",
      "2009\n",
      "11\n",
      "2010\n",
      "10\n",
      "2011\n",
      "10\n",
      "2012\n",
      "8\n",
      "2013\n",
      "9\n",
      "2014\n",
      "9\n",
      "2015\n",
      "8\n",
      "2016\n",
      "8\n",
      "2017\n",
      "8\n"
     ]
    }
   ],
   "source": [
    "all_links = []\n",
    "\n",
    "for i in range(1986, 2018):\n",
    "    time.sleep(3 + random.random()* 2)\n",
    "    print(i)\n",
    "    all_links += get_minute_links(i)\n",
    "\n",
    "# print(len(all_links))\n",
    "# print(all_links)\n"
   ]
  },
  {
   "cell_type": "code",
   "execution_count": 14,
   "metadata": {},
   "outputs": [
    {
     "name": "stdout",
     "output_type": "stream",
     "text": [
      "0/333 documents completed.\n",
      "10/333 documents completed.\n",
      "20/333 documents completed.\n",
      "30/333 documents completed.\n",
      "40/333 documents completed.\n",
      "50/333 documents completed.\n",
      "60/333 documents completed.\n",
      "70/333 documents completed.\n",
      "80/333 documents completed.\n",
      "90/333 documents completed.\n",
      "100/333 documents completed.\n",
      "110/333 documents completed.\n",
      "120/333 documents completed.\n",
      "130/333 documents completed.\n",
      "140/333 documents completed.\n",
      "150/333 documents completed.\n",
      "160/333 documents completed.\n",
      "170/333 documents completed.\n",
      "180/333 documents completed.\n",
      "190/333 documents completed.\n",
      "200/333 documents completed.\n",
      "210/333 documents completed.\n",
      "220/333 documents completed.\n",
      "230/333 documents completed.\n",
      "240/333 documents completed.\n",
      "250/333 documents completed.\n",
      "260/333 documents completed.\n",
      "270/333 documents completed.\n",
      "280/333 documents completed.\n",
      "290/333 documents completed.\n",
      "300/333 documents completed.\n",
      "310/333 documents completed.\n",
      "320/333 documents completed.\n",
      "330/333 documents completed.\n"
     ]
    }
   ],
   "source": [
    "os.makedirs('pdfs', exist_ok=True)\n",
    "\n",
    "for i, item in enumerate(all_links):\n",
    "    if i % 10 == 0:\n",
    "        print(f'{i}/{len(all_links)} documents completed.')\n",
    "    response = requests.get(item)\n",
    "    fname = item.split('/')[-1]\n",
    "    # skip any documents that were previously downloaded\n",
    "    if os.path.exists(os.path.join('pdfs', fname)):\n",
    "        continue\n",
    "    with open(os.path.join('pdfs', fname), 'wb') as f:\n",
    "        f.write(response.content)\n",
    "    time.sleep(5 + 5 * random.random())"
   ]
  }
 ],
 "metadata": {
  "kernelspec": {
   "display_name": "fed-nlp",
   "language": "python",
   "name": "python3"
  },
  "language_info": {
   "codemirror_mode": {
    "name": "ipython",
    "version": 3
   },
   "file_extension": ".py",
   "mimetype": "text/x-python",
   "name": "python",
   "nbconvert_exporter": "python",
   "pygments_lexer": "ipython3",
   "version": "3.11.4"
  }
 },
 "nbformat": 4,
 "nbformat_minor": 2
}
