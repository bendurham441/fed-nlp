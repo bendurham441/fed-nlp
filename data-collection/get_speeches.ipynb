{
 "cells": [
  {
   "cell_type": "markdown",
   "metadata": {},
   "source": [
    "# Scraping the Speeches from the Federal Reserve Website"
   ]
  },
  {
   "cell_type": "code",
   "execution_count": 1,
   "metadata": {},
   "outputs": [],
   "source": [
    "import requests\n",
    "import json\n",
    "from bs4 import BeautifulSoup\n",
    "import bs4\n",
    "import pandas as pd\n",
    "import time\n",
    "import random\n",
    "import math"
   ]
  },
  {
   "cell_type": "markdown",
   "metadata": {},
   "source": [
    "I get the request details by copying the request to the `/json/ne-speeches` endpoint as cURL and then using [this website](https://curlconverter.com/) to convert that to a python request"
   ]
  },
  {
   "cell_type": "code",
   "execution_count": 3,
   "metadata": {},
   "outputs": [],
   "source": [
    "cookies = {\n",
    "    'google-analytics_v4_7d17__engagementStart': '1699382345044',\n",
    "    'google-analytics_v4_7d17__counter': '377',\n",
    "    'google-analytics_v4_7d17__session_counter': '32',\n",
    "    'google-analytics_v4_7d17__ga4': '20e77a5d-205a-42f6-8a19-0bd0e82b9f9a',\n",
    "    'google-analytics_v4_7d17__let': '1699382421247',\n",
    "    'cf_clearance': 'BzBM.S_65AbLlNh4OCc4ASoJQYYBHpFte6hyoUZrEsw-1699382102-0-1-1a686270.b107120b.4d693d90-0.2.1699382102',\n",
    "    'google-analytics_v4_7d17__engagementPaused': '1699382421247',\n",
    "    '_cfuvid': 'ZP4rPMFRXHyfqp2Of7OxyC06wR0ULECDDdiMFmudfqs-1699131072732-0-604800000',\n",
    "    '__utma': '197852984.794505660.1699131073.1699131073.1699131073.1',\n",
    "    '__utmb': '197852984.1.10.1699131073',\n",
    "    '__utmc': '197852984',\n",
    "    '__utmz': '197852984.1699131073.1.1.utmcsr=ideas.repec.org|utmccn=(referral)|utmcmd=referral|utmcct=/',\n",
    "    '__cf_bm': '04uG.qUDKAeXwWUu76SR4QkaBe.JaGPPlRIVNxLp66k-1699382086-0-AXqir9G6ifK5a10aO0gDRulBH9bVJ12LmbmFr2wwMY91K6qw5LUBy4Qm83BBTTMaZseZOCXIZu2oJhYUABOa218=',\n",
    "    'google-analytics_v4_7d17__ga4sid': '2027065144',\n",
    "    'BIGipServerwww.federalreserve.gov_hsts.app~www.federalreserve.gov_hsts_pool': '!Y9yC73q6/uK6A9rjGVpQzzWrPrLO+0rNrJymKFw85wbB7O9OAQrn8qBGAO6SakmNp8aadZDpFfKTsw==',\n",
    "}\n",
    "\n",
    "headers = {\n",
    "    'User-Agent': 'Mozilla/5.0 (X11; Ubuntu; Linux x86_64; rv:109.0) Gecko/20100101 Firefox/119.0',\n",
    "    'Accept': 'application/json, text/plain, */*',\n",
    "    'Accept-Language': 'en-US,en;q=0.5',\n",
    "    # 'Accept-Encoding': 'gzip, deflate, br',\n",
    "    'Connection': 'keep-alive',\n",
    "    'Referer': 'https://www.federalreserve.gov/newsevents/speeches.htm',\n",
    "    # 'Cookie': 'google-analytics_v4_7d17__engagementStart=1699382345044; google-analytics_v4_7d17__counter=377; google-analytics_v4_7d17__session_counter=32; google-analytics_v4_7d17__ga4=20e77a5d-205a-42f6-8a19-0bd0e82b9f9a; google-analytics_v4_7d17__let=1699382421247; cf_clearance=BzBM.S_65AbLlNh4OCc4ASoJQYYBHpFte6hyoUZrEsw-1699382102-0-1-1a686270.b107120b.4d693d90-0.2.1699382102; google-analytics_v4_7d17__engagementPaused=1699382421247; _cfuvid=ZP4rPMFRXHyfqp2Of7OxyC06wR0ULECDDdiMFmudfqs-1699131072732-0-604800000; __utma=197852984.794505660.1699131073.1699131073.1699131073.1; __utmb=197852984.1.10.1699131073; __utmc=197852984; __utmz=197852984.1699131073.1.1.utmcsr=ideas.repec.org|utmccn=(referral)|utmcmd=referral|utmcct=/; __cf_bm=04uG.qUDKAeXwWUu76SR4QkaBe.JaGPPlRIVNxLp66k-1699382086-0-AXqir9G6ifK5a10aO0gDRulBH9bVJ12LmbmFr2wwMY91K6qw5LUBy4Qm83BBTTMaZseZOCXIZu2oJhYUABOa218=; google-analytics_v4_7d17__ga4sid=2027065144; BIGipServerwww.federalreserve.gov_hsts.app~www.federalreserve.gov_hsts_pool=!Y9yC73q6/uK6A9rjGVpQzzWrPrLO+0rNrJymKFw85wbB7O9OAQrn8qBGAO6SakmNp8aadZDpFfKTsw==',\n",
    "    'Sec-Fetch-Dest': 'empty',\n",
    "    'Sec-Fetch-Mode': 'cors',\n",
    "    'Sec-Fetch-Site': 'same-origin',\n",
    "    'Pragma': 'no-cache',\n",
    "    'Cache-Control': 'no-cache',\n",
    "}\n",
    "\n",
    "response = requests.get('https://www.federalreserve.gov/json/ne-speeches.json', cookies=cookies, headers=headers)"
   ]
  },
  {
   "cell_type": "markdown",
   "metadata": {},
   "source": [
    "The response text is framed by three irrelevant characters that mess up the parsing, so I ignore those prior to using the parsing package"
   ]
  },
  {
   "cell_type": "code",
   "execution_count": 5,
   "metadata": {},
   "outputs": [],
   "source": [
    "speeches = json.loads(response.text[3:-3])"
   ]
  },
  {
   "cell_type": "code",
   "execution_count": 16,
   "metadata": {},
   "outputs": [],
   "source": [
    "base_url = 'https://www.federalreserve.gov'"
   ]
  },
  {
   "cell_type": "markdown",
   "metadata": {},
   "source": [
    "Thankfully, all of the Federal Reserve speeches during this time interval are on the website in the same exact HTML format, making scraping pretty easy. I use BeautifulSoup to grap the relevant elements, removing references to footnotes and the like, ending with an array of paragraphs."
   ]
  },
  {
   "cell_type": "code",
   "execution_count": 118,
   "metadata": {},
   "outputs": [],
   "source": [
    "def get_article_text(rel_url):\n",
    "    speech_page = requests.get(base_url + rel_url)\n",
    "    soup = BeautifulSoup(speech_page.text)\n",
    "    raw_html = soup.find('div', {'id': 'article'}).find_all('div')[2]\n",
    "    contents = []\n",
    "    for item in raw_html:\n",
    "        if type(item) is bs4.element.Tag:\n",
    "            if item.name == 'hr':\n",
    "                break\n",
    "            elif item.name == 'p':\n",
    "                footnote_check = item.find_all('a')\n",
    "                if footnote_check:\n",
    "                    for link in footnote_check:\n",
    "                        title = link.get('title')\n",
    "                        if title and 'footnote' in title:\n",
    "                            link.clear()\n",
    "                contents.append(item.text)\n",
    "    contents = [item.strip().encode('ascii', 'namereplace').decode('ascii') for item in contents]\n",
    "    contents = [item.replace('\\\\N{LATIN SMALL LETTER A WITH CIRCUMFLEX}\\\\x80\\\\x94', '--') for item in contents]\n",
    "    contents = [{'text': item, 'index': i} for i, item in enumerate(contents)]\n",
    "    return contents"
   ]
  },
  {
   "cell_type": "code",
   "execution_count": 168,
   "metadata": {},
   "outputs": [],
   "source": [
    "def get_speech_range(min, max):\n",
    "    records = []\n",
    "    for i in range(min, max):\n",
    "        speech = speeches[i]\n",
    "        if speech.get('updateDate'):\n",
    "            continue\n",
    "        time.sleep(5 + random.random() * 5)\n",
    "        print(speech['l'])\n",
    "        symbols = []\n",
    "\n",
    "        paras = get_article_text(speech['l'])\n",
    "        meta = {\n",
    "            'speaker': speech['s'],\n",
    "            'date': speech['d'].split(' ')[0],\n",
    "            'title': speech['t']\n",
    "        }\n",
    "        new_records = [{**para, **meta} for para in paras]\n",
    "\n",
    "        records.extend(new_records)\n",
    "    return records"
   ]
  },
  {
   "cell_type": "code",
   "execution_count": null,
   "metadata": {},
   "outputs": [],
   "source": [
    "for i in range(math.ceil(len(speeches) / 100)):\n",
    "    start = i * 100\n",
    "    end = min(i * 100 + 100, len(speeches))\n",
    "    records = get_speech_range(start, end)\n",
    "    df = pd.DataFrame.from_records(records)\n",
    "    df.to_csv(f'speeches_{start}-{end}.csv')"
   ]
  },
  {
   "cell_type": "markdown",
   "metadata": {},
   "source": [
    "Combine CSV files"
   ]
  },
  {
   "cell_type": "code",
   "execution_count": 171,
   "metadata": {},
   "outputs": [],
   "source": [
    "final_fname = 'speeches.csv'\n",
    "\n",
    "for i in range(0, math.ceil(len(speeches) / 100)):\n",
    "    start = i * 100\n",
    "    end = min(i * 100 + 100, len(speeches))\n",
    "    file = f'speeches_{start}-{end}.csv'\n",
    "\n",
    "    df = pd.read_csv(file)\n",
    "    \n",
    "    df.to_csv(final_fname, mode='a', index=False)"
   ]
  },
  {
   "cell_type": "code",
   "execution_count": 124,
   "metadata": {},
   "outputs": [],
   "source": [
    "sdf = pd.read_csv('speeches.csv')\n",
    "import re"
   ]
  },
  {
   "cell_type": "code",
   "execution_count": 125,
   "metadata": {},
   "outputs": [],
   "source": [
    "texts = sdf['text'].to_list()"
   ]
  },
  {
   "cell_type": "code",
   "execution_count": 147,
   "metadata": {},
   "outputs": [],
   "source": [
    "def replace_uc(raw_string):\n",
    "    result = raw_string.replace('\\\\N{REGISTERED SIGN}', '')\n",
    "    result = result.replace('N{NO-BREAK SPACE}', ' ')\n",
    "    result = result.replace('\\\\N{LATIN CAPITAL LETTER A WITH RING ABOVE}', 'a')\n",
    "    result = result.replace('\\\\N{LATIN SMALL LETTER O WITH DOUBLE ACUTE}', 'o')\n",
    "    result = result.replace('\\\\N{LATIN SMALL LETTER E WITH GRAVE}', 'e')\n",
    "    result = result.replace('\\\\N{BROKEN BAR}', ' ')\n",
    "    result = result.replace('\\\\N{INVERTED EXCLAMATION MARK}', '')\n",
    "    result = result.replace('\\\\N{NON-BREAKING HYPHEN}', '-')\n",
    "    result = result.replace('\\\\N{SOFT HYPHEN}', '-')\n",
    "    result = result.replace('\\\\N{HYPHEN}', '-')\n",
    "    result = result.replace('\\\\N{VULGAR FRACTION ONE HALF}', '1/2')\n",
    "    result = result.replace('\\\\N{VULGAR FRACTION ONE QUARTER}', '1/4')\n",
    "    result = result.replace('\\\\N{EURO SIGN}', 'euros')\n",
    "    result = result.replace('\\\\x80', '')\n",
    "    result = result.replace('\\\\x93141', '')\n",
    "    result = re.sub('\\\\\\\\x[0-9]+', '', result)\n",
    "    result = re.sub('\\\\\\\\N\\{LATIN (SMALL|CAPITAL) LETTER U WITH [A-Z]+\\}', 'u', result)\n",
    "    result = re.sub('\\\\\\\\N\\{LATIN (SMALL|CAPITAL) LETTER E WITH [A-Z]+\\}', 'e', result)\n",
    "    result = re.sub('\\\\\\\\N\\{LATIN (SMALL|CAPITAL) LETTER N WITH [A-Z]+\\}', 'n', result)\n",
    "    result = re.sub('\\\\\\\\N\\{LATIN (SMALL|CAPITAL) LETTER I WITH [A-Z]+\\}', 'i', result)\n",
    "    result = re.sub('\\\\\\\\N\\{LATIN (SMALL|CAPITAL) LETTER A WITH [A-Z]+\\}', 'a', result)\n",
    "    result = re.sub('\\\\\\\\N\\{LATIN (SMALL|CAPITAL) LETTER O WITH [A-Z]+\\}', 'o', result)\n",
    "    result = re.sub('\\\\\\\\N\\{LATIN (SMALL|CAPITAL) LETTER C WITH [A-Z]+\\}', 'c', result)\n",
    "    result = re.sub('\\\\\\\\N\\{LATIN (SMALL|CAPITAL) LETTER S WITH [A-Z]+\\}', 's', result)\n",
    "    return result"
   ]
  },
  {
   "cell_type": "code",
   "execution_count": 148,
   "metadata": {},
   "outputs": [],
   "source": [
    "texts = [replace_uc(str(text)) for text in texts]"
   ]
  },
  {
   "cell_type": "code",
   "execution_count": 128,
   "metadata": {},
   "outputs": [
    {
     "name": "stdout",
     "output_type": "stream",
     "text": [
      "\\N{LEFT-POINTING DOUBLE ANGLE QUOTATION MARK}\n",
      "\\N{CURRENCY SIGN}\n"
     ]
    }
   ],
   "source": [
    "for text in texts:\n",
    "    result = re.search('\\\\\\\\N\\{(.*)\\}', str(text))\n",
    "    if result:\n",
    "        print(result.group())"
   ]
  },
  {
   "cell_type": "code",
   "execution_count": 149,
   "metadata": {},
   "outputs": [],
   "source": [
    "for text in texts:\n",
    "    result = re.search('\\\\\\\\x[0-9]+', str(text))\n",
    "    if result:\n",
    "        print(result.group())\n",
    "        print(text)"
   ]
  }
 ],
 "metadata": {
  "kernelspec": {
   "display_name": "fed-nlp",
   "language": "python",
   "name": "python3"
  },
  "language_info": {
   "codemirror_mode": {
    "name": "ipython",
    "version": 3
   },
   "file_extension": ".py",
   "mimetype": "text/x-python",
   "name": "python",
   "nbconvert_exporter": "python",
   "pygments_lexer": "ipython3",
   "version": "3.11.4"
  }
 },
 "nbformat": 4,
 "nbformat_minor": 2
}
