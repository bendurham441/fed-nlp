{
 "cells": [
  {
   "cell_type": "markdown",
   "metadata": {},
   "source": [
    "# Scraping US Federal Bank Speeches from BIS Website"
   ]
  },
  {
   "cell_type": "code",
   "execution_count": 6,
   "metadata": {},
   "outputs": [],
   "source": [
    "from bs4 import BeautifulSoup\n",
    "import urllib.request\n",
    "import time\n",
    "import random\n",
    "import os\n",
    "import requests"
   ]
  },
  {
   "cell_type": "markdown",
   "metadata": {},
   "source": [
    "First, I try to scrape the page containing the links to speeches using static scraping methods. "
   ]
  },
  {
   "cell_type": "code",
   "execution_count": 25,
   "metadata": {},
   "outputs": [],
   "source": [
    "fp = urllib.request.urlopen('https://www.bis.org/doclist/cbspeeches.htm')\n",
    "mybytes = fp.read()\n",
    "page = mybytes.decode('utf8')\n",
    "fp.close()\n",
    "page"
   ]
  },
  {
   "cell_type": "markdown",
   "metadata": {},
   "source": [
    "I use mozilla devtools to find that speeches are store in a `table` tag with each `tr` representing a speech. Further, I see that the link to the individual speech is the first `a` tag in the `tr`. So I try to extract all `tr`s and grab the first `a` from within. "
   ]
  },
  {
   "cell_type": "code",
   "execution_count": 49,
   "metadata": {},
   "outputs": [],
   "source": [
    "soup = BeautifulSoup(page.text)\n",
    "doc_list = soup.find_all('tr')\n",
    "for doc in doc_list:\n",
    "    print(doc.find_all('a')[0]['href'])"
   ]
  },
  {
   "cell_type": "markdown",
   "metadata": {},
   "source": [
    "Seeing that my search isn't returning any items, I look in the network tab of mozilla devtools and confirm my suspicions that the speech rows are populated dynamically. I find an AJAX request to https://www.bis.org/doclist/cbspeeches.htm, which seems like a plausible request to get speeches. Then I use this [firefox extension](https://addons.mozilla.org/en-US/firefox/addon/copy-as-python-requests/) to extract all of the request parameters needed to call out to the AJAX request url.\n",
    "\n",
    "I then create this function to return a given page by using the request data and changing the \"page\" parameter."
   ]
  },
  {
   "cell_type": "code",
   "execution_count": 95,
   "metadata": {},
   "outputs": [],
   "source": [
    "s = requests.session()\n",
    "\n",
    "def retrieve_page(page_num):\n",
    "    response = s.post(\"https://www.bis.org/doclist/cbspeeches.htm\", data={\"from\": None, \"till\": None, \"countries\": \"231\", \"objid\": \"cbspeeches\", \"page\": str(page_num), \"paging_length\": \"10\", \"sort_list\": \"date_desc\", \"theme\": \"cbspeeches\", \"ml\": \"false\", \"mlurl\": None, \"emptylisttext\": None}, headers={\"X-Requested-With\": \"XMLHttpRequest\"}, cookies={\"bisUsrID\": \"1693932373405160405970\", \"_pk_ref.1.6290\": \"[\\\"\\\",\\\"\\\",1693931557,\\\"https://www.google.com/\\\"]\", \"_pk_id.1.6290\": \"299803d0f5123d4e.1693420817.\", \"bisSession\": \"1693932373405\", \"_pk_ses.1.6290\": \"1\"})\n",
    "    soup = BeautifulSoup(response.text)\n",
    "    speech_list = soup.find_all('tr')\n",
    "    result = []\n",
    "    for speech in speech_list:\n",
    "        result.append(speech.find_all('a')[0]['href'])\n",
    "    return result"
   ]
  },
  {
   "cell_type": "markdown",
   "metadata": {},
   "source": [
    "Next, I apply this function to retrieve the links from each of these pages, manually specifying that this should go through 133 pages. I write these links to a file."
   ]
  },
  {
   "cell_type": "code",
   "execution_count": 98,
   "metadata": {},
   "outputs": [
    {
     "name": "stdout",
     "output_type": "stream",
     "text": [
      "102\n",
      "103\n",
      "104\n",
      "105\n",
      "106\n",
      "107\n",
      "108\n",
      "109\n",
      "110\n",
      "111\n",
      "112\n",
      "113\n",
      "114\n",
      "115\n",
      "116\n",
      "117\n",
      "118\n",
      "119\n",
      "120\n",
      "121\n",
      "122\n",
      "123\n",
      "124\n",
      "125\n",
      "126\n",
      "127\n",
      "128\n",
      "129\n",
      "130\n",
      "131\n",
      "132\n",
      "133\n",
      "134\n"
     ]
    }
   ],
   "source": [
    "with open('urls.txt', 'a') as f:\n",
    "\n",
    "    for i in range(134):\n",
    "        print(i + 1)\n",
    "        speech_urls = retrieve_page(i + 1)\n",
    "        for speech_url in speech_urls:\n",
    "            f.write(speech_url + '\\n')\n",
    "\n",
    "        time.sleep(10 + random.random() * 8)"
   ]
  },
  {
   "cell_type": "markdown",
   "metadata": {},
   "source": [
    "I accidentally had to restart this above cell a few times, so I used the following method to remove duplicates and make a new version with only unique urls."
   ]
  },
  {
   "cell_type": "code",
   "execution_count": 121,
   "metadata": {},
   "outputs": [],
   "source": [
    "with open('urls.txt', 'r') as f:\n",
    "    final = []\n",
    "    while line := f.readline():\n",
    "        final.append(line)\n",
    "\n",
    "    final = set(final)\n",
    "    with open('urls_dedup.txt', 'a') as f_new:\n",
    "        for url in final:\n",
    "            f_new.write(url)\n"
   ]
  },
  {
   "cell_type": "markdown",
   "metadata": {},
   "source": [
    "Splitting PDF Retrieval Into Multiple Steps"
   ]
  },
  {
   "cell_type": "markdown",
   "metadata": {},
   "source": [
    "Next, I retrieve the individual pdfs for the speeches by working through the de-duplicated list of speeches."
   ]
  },
  {
   "cell_type": "code",
   "execution_count": 4,
   "metadata": {},
   "outputs": [],
   "source": [
    "base_url = 'https://www.bis.org'\n",
    "\n",
    "def download_pdf(url):\n",
    "    f_name = url.split('/')[2]\n",
    "    response = requests.get(f'{base_url}{url}')\n",
    "    with open(os.path.join('pdfs', f_name), 'wb') as pdf:\n",
    "        pdf.write(response.content)\n",
    "    "
   ]
  },
  {
   "cell_type": "markdown",
   "metadata": {},
   "source": [
    "I now read in the de-duplicated list of speech urls and change the file extension to pdf for the ones that end in `.htm` since it appears speeches and their corresponding pages use the same naming scheme, just with different file extensions."
   ]
  },
  {
   "cell_type": "code",
   "execution_count": 1,
   "metadata": {},
   "outputs": [],
   "source": [
    "final = []\n",
    "with open('urls_dedup.txt', 'r') as f:\n",
    "    while line := f.readline():\n",
    "        final.append(line)\n",
    "\n",
    "final = [f'{url.split(\".\")[0]}.pdf' for url in final]"
   ]
  },
  {
   "cell_type": "code",
   "execution_count": 14,
   "metadata": {},
   "outputs": [
    {
     "data": {
      "text/plain": [
       "1333"
      ]
     },
     "execution_count": 14,
     "metadata": {},
     "output_type": "execute_result"
    }
   ],
   "source": [
    "len(final)"
   ]
  },
  {
   "cell_type": "markdown",
   "metadata": {},
   "source": [
    "I now apply this to retrieve the pdfs in chunks so execution time isn't too long."
   ]
  },
  {
   "cell_type": "code",
   "execution_count": 134,
   "metadata": {},
   "outputs": [],
   "source": [
    "for i in range(5):\n",
    "    time.sleep(10 + random.random() * 10)\n",
    "    download_pdf(final[i])"
   ]
  },
  {
   "cell_type": "code",
   "execution_count": 135,
   "metadata": {},
   "outputs": [],
   "source": [
    "for i in range(5, 50):\n",
    "    time.sleep(10 + random.random() * 10)\n",
    "    download_pdf(final[i])"
   ]
  },
  {
   "cell_type": "code",
   "execution_count": 136,
   "metadata": {},
   "outputs": [],
   "source": [
    "for i in range(50, 150):\n",
    "    time.sleep(10 + random.random() * 10)\n",
    "    download_pdf(final[i])"
   ]
  },
  {
   "cell_type": "code",
   "execution_count": 137,
   "metadata": {},
   "outputs": [],
   "source": [
    "for i in range(150, 350):\n",
    "    time.sleep(10 + random.random() * 10)\n",
    "    download_pdf(final[i])"
   ]
  },
  {
   "cell_type": "code",
   "execution_count": 138,
   "metadata": {},
   "outputs": [],
   "source": [
    "for i in range(350, 400):\n",
    "    time.sleep(10 + random.random() * 10)\n",
    "    download_pdf(final[i])"
   ]
  },
  {
   "cell_type": "code",
   "execution_count": 9,
   "metadata": {},
   "outputs": [],
   "source": [
    "\n",
    "for i in range(400, 500):\n",
    "    time.sleep(10 + random.random() * 10)\n",
    "    download_pdf(final[i])"
   ]
  },
  {
   "cell_type": "code",
   "execution_count": 10,
   "metadata": {},
   "outputs": [],
   "source": [
    "for i in range(500, 600):\n",
    "    time.sleep(10 + random.random() * 10)\n",
    "    download_pdf(final[i])"
   ]
  },
  {
   "cell_type": "code",
   "execution_count": 11,
   "metadata": {},
   "outputs": [],
   "source": [
    "for i in range(600, 900):\n",
    "    time.sleep(10 + random.random() * 10)\n",
    "    download_pdf(final[i])"
   ]
  },
  {
   "cell_type": "code",
   "execution_count": 12,
   "metadata": {},
   "outputs": [
    {
     "data": {
      "text/plain": [
       "1333"
      ]
     },
     "execution_count": 12,
     "metadata": {},
     "output_type": "execute_result"
    }
   ],
   "source": [
    "len(final)"
   ]
  },
  {
   "cell_type": "code",
   "execution_count": 13,
   "metadata": {},
   "outputs": [
    {
     "ename": "IndexError",
     "evalue": "list index out of range",
     "output_type": "error",
     "traceback": [
      "\u001b[0;31m---------------------------------------------------------------------------\u001b[0m",
      "\u001b[0;31mIndexError\u001b[0m                                Traceback (most recent call last)",
      "Cell \u001b[0;32mIn[13], line 3\u001b[0m\n\u001b[1;32m      1\u001b[0m \u001b[39mfor\u001b[39;00m i \u001b[39min\u001b[39;00m \u001b[39mrange\u001b[39m(\u001b[39m900\u001b[39m, \u001b[39m1334\u001b[39m):\n\u001b[1;32m      2\u001b[0m     time\u001b[39m.\u001b[39msleep(\u001b[39m10\u001b[39m \u001b[39m+\u001b[39m random\u001b[39m.\u001b[39mrandom() \u001b[39m*\u001b[39m \u001b[39m10\u001b[39m)\n\u001b[0;32m----> 3\u001b[0m     download_pdf(final[i])\n",
      "\u001b[0;31mIndexError\u001b[0m: list index out of range"
     ]
    }
   ],
   "source": [
    "for i in range(900, 1334):\n",
    "    time.sleep(10 + random.random() * 10)\n",
    "    download_pdf(final[i])"
   ]
  },
  {
   "cell_type": "code",
   "execution_count": 15,
   "metadata": {},
   "outputs": [
    {
     "ename": "IndexError",
     "evalue": "list index out of range",
     "output_type": "error",
     "traceback": [
      "\u001b[0;31m---------------------------------------------------------------------------\u001b[0m",
      "\u001b[0;31mIndexError\u001b[0m                                Traceback (most recent call last)",
      "Cell \u001b[0;32mIn[15], line 3\u001b[0m\n\u001b[1;32m      1\u001b[0m \u001b[39mfor\u001b[39;00m i \u001b[39min\u001b[39;00m \u001b[39mrange\u001b[39m(\u001b[39m1324\u001b[39m, \u001b[39m1334\u001b[39m):\n\u001b[1;32m      2\u001b[0m     time\u001b[39m.\u001b[39msleep(\u001b[39m10\u001b[39m \u001b[39m+\u001b[39m random\u001b[39m.\u001b[39mrandom() \u001b[39m*\u001b[39m \u001b[39m10\u001b[39m)\n\u001b[0;32m----> 3\u001b[0m     download_pdf(final[i])\n",
      "\u001b[0;31mIndexError\u001b[0m: list index out of range"
     ]
    }
   ],
   "source": [
    "for i in range(1324, 1334):\n",
    "    time.sleep(10 + random.random() * 10)\n",
    "    download_pdf(final[i])"
   ]
  }
 ],
 "metadata": {
  "kernelspec": {
   "display_name": "fed-nlp",
   "language": "python",
   "name": "python3"
  },
  "language_info": {
   "codemirror_mode": {
    "name": "ipython",
    "version": 3
   },
   "file_extension": ".py",
   "mimetype": "text/x-python",
   "name": "python",
   "nbconvert_exporter": "python",
   "pygments_lexer": "ipython3",
   "version": "3.11.4"
  },
  "orig_nbformat": 4
 },
 "nbformat": 4,
 "nbformat_minor": 2
}
