{
 "cells": [
  {
   "cell_type": "code",
   "execution_count": 48,
   "metadata": {},
   "outputs": [
    {
     "name": "stdout",
     "output_type": "stream",
     "text": [
      "Author: William C Dudley\n",
      "Title: The case for TIPS - an examination of the costs and benefits\n",
      "Date: 10 February 2009\n"
     ]
    }
   ],
   "source": [
    "from PyPDF2 import PdfReader\n",
    "import os\n",
    "import re\n",
    "\n",
    "reader = PdfReader(os.path.join(\"pdfs\", \"r090213a.pdf\"))\n",
    "reader.pages[0].extract_text()\n",
    "meta = reader.metadata\n",
    "\n",
    "split_title = meta['/Title'].split(':')\n",
    "author = split_title[0]\n",
    "title = split_title[1].strip()\n",
    "print(f'Author: {author}')\n",
    "print(f'Title: {title}')\n",
    "\n",
    "date = re.search('[0-9]{2} \\w* [0-9]{4}', meta['/Subject']).group()\n",
    "print(f'Date: {date}')\n",
    "\n",
    "# page = reader.pages[0].extract_text().split('*')[-1].strip()\n",
    "\n",
    "# page[:page.rfind('\\n')].replace('\\n', '')\n",
    "\n",
    "combined_text = \"\"\n",
    "for i, page in enumerate(reader.pages):\n",
    "    text = page.extract_text()\n",
    "    if i == 0:\n",
    "        text = text.split('*')[-1]\n",
    "    text = text.strip()\n",
    "    # print(text.strip())\n",
    "    # print()\n",
    "    # print(text)\n",
    "    text = text[:text.rfind('\\n')].replace('\\n', '')\n",
    "    combined_text = (combined_text + ' ' + text).strip()\n",
    "\n",
    "# combined_text"
   ]
  },
  {
   "cell_type": "markdown",
   "metadata": {},
   "source": [
    "Deal with footnotes"
   ]
  }
 ],
 "metadata": {
  "kernelspec": {
   "display_name": "fed-nlp",
   "language": "python",
   "name": "python3"
  },
  "language_info": {
   "codemirror_mode": {
    "name": "ipython",
    "version": 3
   },
   "file_extension": ".py",
   "mimetype": "text/x-python",
   "name": "python",
   "nbconvert_exporter": "python",
   "pygments_lexer": "ipython3",
   "version": "3.11.4"
  },
  "orig_nbformat": 4
 },
 "nbformat": 4,
 "nbformat_minor": 2
}
