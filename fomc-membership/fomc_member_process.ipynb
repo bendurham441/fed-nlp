{
 "cells": [
  {
   "cell_type": "code",
   "execution_count": 2,
   "metadata": {},
   "outputs": [],
   "source": [
    "import pandas as pd\n",
    "import datetime"
   ]
  },
  {
   "cell_type": "code",
   "execution_count": 3,
   "metadata": {},
   "outputs": [],
   "source": [
    "bog = pd.read_csv('bog.csv')"
   ]
  },
  {
   "cell_type": "code",
   "execution_count": 4,
   "metadata": {},
   "outputs": [],
   "source": [
    "bog.fillna('', inplace=True)"
   ]
  },
  {
   "cell_type": "code",
   "execution_count": 5,
   "metadata": {},
   "outputs": [],
   "source": [
    "def to_date(string):\n",
    "    if string != '':\n",
    "        return datetime.datetime.strptime(string, '%m-%d-%Y')\n",
    "    return datetime.date.today()"
   ]
  },
  {
   "cell_type": "code",
   "execution_count": 8,
   "metadata": {},
   "outputs": [],
   "source": [
    "def make_member_dict():\n",
    "    members = {}\n",
    "\n",
    "    for i, row in bog.iterrows():\n",
    "        new = [to_date(row['start']), to_date(row['end'])]\n",
    "        name = row['lname']\n",
    "        if name in members:\n",
    "            members[name].append(new)\n",
    "        else:\n",
    "            members[name] = [new]\n",
    "    return members"
   ]
  },
  {
   "cell_type": "code",
   "execution_count": null,
   "metadata": {},
   "outputs": [],
   "source": [
    "make_member_dict()"
   ]
  },
  {
   "cell_type": "code",
   "execution_count": 10,
   "metadata": {},
   "outputs": [
    {
     "data": {
      "text/html": [
       "<div>\n",
       "<style scoped>\n",
       "    .dataframe tbody tr th:only-of-type {\n",
       "        vertical-align: middle;\n",
       "    }\n",
       "\n",
       "    .dataframe tbody tr th {\n",
       "        vertical-align: top;\n",
       "    }\n",
       "\n",
       "    .dataframe thead th {\n",
       "        text-align: right;\n",
       "    }\n",
       "</style>\n",
       "<table border=\"1\" class=\"dataframe\">\n",
       "  <thead>\n",
       "    <tr style=\"text-align: right;\">\n",
       "      <th></th>\n",
       "      <th>Name</th>\n",
       "      <th>Bank</th>\n",
       "      <th>In</th>\n",
       "      <th>Out</th>\n",
       "      <th>Interim</th>\n",
       "    </tr>\n",
       "  </thead>\n",
       "  <tbody>\n",
       "    <tr>\n",
       "      <th>0</th>\n",
       "      <td>Frank E. Morris</td>\n",
       "      <td>Boston</td>\n",
       "      <td>08/15/68</td>\n",
       "      <td>12-31-1988</td>\n",
       "      <td>0.0</td>\n",
       "    </tr>\n",
       "    <tr>\n",
       "      <th>1</th>\n",
       "      <td>Richard F. Syron</td>\n",
       "      <td>Boston</td>\n",
       "      <td>01/01/89</td>\n",
       "      <td>03-31-1994</td>\n",
       "      <td>0.0</td>\n",
       "    </tr>\n",
       "    <tr>\n",
       "      <th>2</th>\n",
       "      <td>Cathy E. Minehan</td>\n",
       "      <td>Boston</td>\n",
       "      <td>07/13/94</td>\n",
       "      <td>07-20-2007</td>\n",
       "      <td>0.0</td>\n",
       "    </tr>\n",
       "    <tr>\n",
       "      <th>3</th>\n",
       "      <td>Eric Rosengren</td>\n",
       "      <td>Boston</td>\n",
       "      <td>07/20/07</td>\n",
       "      <td>09-30-2021</td>\n",
       "      <td>0.0</td>\n",
       "    </tr>\n",
       "    <tr>\n",
       "      <th>4</th>\n",
       "      <td>Anthony M. Solomon</td>\n",
       "      <td>New York</td>\n",
       "      <td>04/01/80</td>\n",
       "      <td>01-01-1985</td>\n",
       "      <td>0.0</td>\n",
       "    </tr>\n",
       "  </tbody>\n",
       "</table>\n",
       "</div>"
      ],
      "text/plain": [
       "                 Name      Bank        In         Out  Interim\n",
       "0     Frank E. Morris    Boston  08/15/68  12-31-1988      0.0\n",
       "1    Richard F. Syron    Boston  01/01/89  03-31-1994      0.0\n",
       "2    Cathy E. Minehan    Boston  07/13/94  07-20-2007      0.0\n",
       "3      Eric Rosengren    Boston  07/20/07  09-30-2021      0.0\n",
       "4  Anthony M. Solomon  New York  04/01/80  01-01-1985      0.0"
      ]
     },
     "execution_count": 10,
     "metadata": {},
     "output_type": "execute_result"
    }
   ],
   "source": [
    "prdf = pd.read_csv('presidents.csv')\n",
    "prdf.fillna({'Out': '', 'Interim': 0}, inplace=True)\n",
    "prdf.head()"
   ]
  },
  {
   "cell_type": "code",
   "execution_count": 11,
   "metadata": {},
   "outputs": [],
   "source": [
    "def lname_extract(full_name):\n",
    "    name_arr = [part.lower() for part in full_name.split(' ')]\n",
    "    if name_arr[-1] == 'jr.':\n",
    "        name_arr = name_arr[:-1]\n",
    "    return name_arr[-1]"
   ]
  },
  {
   "cell_type": "code",
   "execution_count": 12,
   "metadata": {},
   "outputs": [],
   "source": [
    "prdf['lname'] = prdf['Name'].apply(lname_extract)"
   ]
  },
  {
   "cell_type": "code",
   "execution_count": 33,
   "metadata": {},
   "outputs": [
    {
     "data": {
      "text/html": [
       "<div>\n",
       "<style scoped>\n",
       "    .dataframe tbody tr th:only-of-type {\n",
       "        vertical-align: middle;\n",
       "    }\n",
       "\n",
       "    .dataframe tbody tr th {\n",
       "        vertical-align: top;\n",
       "    }\n",
       "\n",
       "    .dataframe thead th {\n",
       "        text-align: right;\n",
       "    }\n",
       "</style>\n",
       "<table border=\"1\" class=\"dataframe\">\n",
       "  <thead>\n",
       "    <tr style=\"text-align: right;\">\n",
       "      <th></th>\n",
       "      <th>Name</th>\n",
       "      <th>Bank</th>\n",
       "      <th>In</th>\n",
       "      <th>Out</th>\n",
       "      <th>Interim</th>\n",
       "      <th>lname</th>\n",
       "    </tr>\n",
       "  </thead>\n",
       "  <tbody>\n",
       "    <tr>\n",
       "      <th>0</th>\n",
       "      <td>Frank E. Morris</td>\n",
       "      <td>Boston</td>\n",
       "      <td>08/15/68</td>\n",
       "      <td>12-31-1988</td>\n",
       "      <td>0.0</td>\n",
       "      <td>morris</td>\n",
       "    </tr>\n",
       "    <tr>\n",
       "      <th>1</th>\n",
       "      <td>Richard F. Syron</td>\n",
       "      <td>Boston</td>\n",
       "      <td>01/01/89</td>\n",
       "      <td>03-31-1994</td>\n",
       "      <td>0.0</td>\n",
       "      <td>syron</td>\n",
       "    </tr>\n",
       "    <tr>\n",
       "      <th>2</th>\n",
       "      <td>Cathy E. Minehan</td>\n",
       "      <td>Boston</td>\n",
       "      <td>07/13/94</td>\n",
       "      <td>07-20-2007</td>\n",
       "      <td>0.0</td>\n",
       "      <td>minehan</td>\n",
       "    </tr>\n",
       "    <tr>\n",
       "      <th>3</th>\n",
       "      <td>Eric Rosengren</td>\n",
       "      <td>Boston</td>\n",
       "      <td>07/20/07</td>\n",
       "      <td>09-30-2021</td>\n",
       "      <td>0.0</td>\n",
       "      <td>rosengren</td>\n",
       "    </tr>\n",
       "    <tr>\n",
       "      <th>4</th>\n",
       "      <td>Anthony M. Solomon</td>\n",
       "      <td>New York</td>\n",
       "      <td>04/01/80</td>\n",
       "      <td>01-01-1985</td>\n",
       "      <td>0.0</td>\n",
       "      <td>solomon</td>\n",
       "    </tr>\n",
       "  </tbody>\n",
       "</table>\n",
       "</div>"
      ],
      "text/plain": [
       "                 Name      Bank        In         Out  Interim      lname\n",
       "0     Frank E. Morris    Boston  08/15/68  12-31-1988      0.0     morris\n",
       "1    Richard F. Syron    Boston  01/01/89  03-31-1994      0.0      syron\n",
       "2    Cathy E. Minehan    Boston  07/13/94  07-20-2007      0.0    minehan\n",
       "3      Eric Rosengren    Boston  07/20/07  09-30-2021      0.0  rosengren\n",
       "4  Anthony M. Solomon  New York  04/01/80  01-01-1985      0.0    solomon"
      ]
     },
     "execution_count": 33,
     "metadata": {},
     "output_type": "execute_result"
    }
   ],
   "source": [
    "prdf.head()"
   ]
  },
  {
   "cell_type": "markdown",
   "metadata": {},
   "source": [
    "Voting member schedule"
   ]
  },
  {
   "cell_type": "code",
   "execution_count": 14,
   "metadata": {},
   "outputs": [],
   "source": [
    "vm_schedule = [\n",
    "    {'bank': 'St. Louis', 'start': 1980, 'interval': 3},\n",
    "    {'bank': 'Boston', 'start': 1980, 'interval': 3},\n",
    "    {'bank': 'Philadelphia', 'start': 1981, 'interval': 3},\n",
    "    {'bank': 'Richmond', 'start': 1982, 'interval': 3},\n",
    "    {'bank': 'Cleveland', 'start': 1980, 'interval': 2},\n",
    "    {'bank': 'Chicago', 'start': 1981, 'interval': 2},\n",
    "    {'bank': 'Atlanta', 'start': 1979, 'interval': 3},\n",
    "    {'bank': 'Dallas', 'start': 1981, 'interval': 3},\n",
    "    {'bank': 'Minneapolis', 'start': 1981, 'interval': 3},\n",
    "    {'bank': 'Kansas City', 'start': 1980, 'interval': 3},\n",
    "    {'bank': 'San Francisco', 'start': 1979, 'interval': 3},\n",
    "    {'bank': 'New York', 'start': 1980, 'interval': 1},\n",
    "]"
   ]
  },
  {
   "cell_type": "code",
   "execution_count": 15,
   "metadata": {},
   "outputs": [],
   "source": [
    "def which_bank_votes(year):\n",
    "    voters = []\n",
    "    for bank in vm_schedule:\n",
    "        if (year - bank['start']) % bank['interval'] == 0:\n",
    "            voters.append(bank['bank'])\n",
    "    return voters"
   ]
  },
  {
   "cell_type": "code",
   "execution_count": 16,
   "metadata": {},
   "outputs": [
    {
     "data": {
      "text/plain": [
       "['St. Louis', 'Boston', 'Cleveland', 'Kansas City', 'New York']"
      ]
     },
     "execution_count": 16,
     "metadata": {},
     "output_type": "execute_result"
    }
   ],
   "source": [
    "which_bank_votes(2022)"
   ]
  },
  {
   "cell_type": "code",
   "execution_count": 17,
   "metadata": {},
   "outputs": [],
   "source": [
    "def get_pres(region, date):\n",
    "    for i, row in prdf[prdf['Bank'] == region].iterrows():\n",
    "        range = pd.period_range(row.In, to_date(row.Out))\n",
    "        if date in range:\n",
    "            return row.lname\n",
    "    return f'{region}-{date}'"
   ]
  },
  {
   "cell_type": "code",
   "execution_count": 18,
   "metadata": {},
   "outputs": [],
   "source": [
    "def get_bog(date):\n",
    "    bog_members = []\n",
    "    for i, row in bog.iterrows():\n",
    "        range = pd.period_range(row.start, to_date(row.end))\n",
    "        if date in range:\n",
    "            bog_members.append(row.lname)\n",
    "    return bog_members"
   ]
  },
  {
   "cell_type": "code",
   "execution_count": 19,
   "metadata": {},
   "outputs": [
    {
     "data": {
      "text/plain": [
       "['lacker',\n",
       " 'harker',\n",
       " 'williams',\n",
       " 'bullard',\n",
       " 'mester',\n",
       " 'evans',\n",
       " 'rosengren',\n",
       " 'kashkari',\n",
       " 'lockhart',\n",
       " 'kaplan',\n",
       " 'dudley',\n",
       " 'george',\n",
       " 'brainard',\n",
       " 'fischer',\n",
       " 'powell',\n",
       " 'tarullo',\n",
       " 'yellen']"
      ]
     },
     "execution_count": 19,
     "metadata": {},
     "output_type": "execute_result"
    }
   ],
   "source": [
    "regions = ['Richmond', 'Philadelphia', 'San Francisco', 'St. Louis', 'Cleveland',\n",
    "           'Chicago', 'Boston', 'Minneapolis', 'Atlanta', 'Dallas', 'New York', 'Kansas City']\n",
    "\n",
    "[get_pres(region, '02-13-17') for region in regions] + get_bog('02-13-17')"
   ]
  },
  {
   "cell_type": "code",
   "execution_count": 20,
   "metadata": {},
   "outputs": [],
   "source": [
    "def get_fomc(date):\n",
    "    return [get_pres(region, date) for region in regions] + get_bog(date)"
   ]
  },
  {
   "cell_type": "markdown",
   "metadata": {},
   "source": [
    "Speakers at each meeting"
   ]
  },
  {
   "cell_type": "code",
   "execution_count": 21,
   "metadata": {},
   "outputs": [],
   "source": [
    "smdf = pd.read_csv('../grouped_w_topics.csv', index_col=0)[['date', 'speaker']]"
   ]
  },
  {
   "cell_type": "code",
   "execution_count": 22,
   "metadata": {},
   "outputs": [],
   "source": [
    "def get_capped_lname(string):\n",
    "    return string.split(' ')[-1][:-1].lower()"
   ]
  },
  {
   "cell_type": "code",
   "execution_count": 23,
   "metadata": {},
   "outputs": [],
   "source": [
    "smdf['lname'] = smdf['speaker'].apply(get_capped_lname)\n",
    "speaker_date = smdf.groupby('date')['lname'].agg(' '.join).apply(lambda x : x.split(' '))"
   ]
  },
  {
   "cell_type": "code",
   "execution_count": 32,
   "metadata": {},
   "outputs": [
    {
     "name": "stdout",
     "output_type": "stream",
     "text": [
      "1994-02-04{'mullins'}\n",
      "1996-01-31{'blinder'}\n",
      "1997-02-05{'yellen', 'lindsey'}\n",
      "1998-02-04{'St. Louis-1998-02-04'}\n",
      "1999-06-30{'rivlin'}\n",
      "2000-11-15{'jordan'}\n",
      "2002-01-30{'meyer'}\n",
      "2004-12-14{'bies'}\n",
      "2005-05-03{'bernanke'}\n",
      "2005-08-09{'gramlich'}\n",
      "2006-03-28{'ferguson'}\n",
      "2006-10-25{'Atlanta-2006-10-25'}\n",
      "2006-12-12{'Atlanta-2006-12-12'}\n",
      "2007-03-21{'bies'}\n",
      "2008-09-16{'geithner'}\n",
      "2008-12-16{'geithner'}\n",
      "2009-01-28{'tarullo'}\n",
      "2011-03-15{'warsh'}\n",
      "2013-09-18{'raskin'}\n",
      "2013-10-30{'raskin'}\n",
      "2013-12-18{'raskin'}\n",
      "2014-01-29{'raskin'}\n",
      "2017-09-20{'quarles'}\n",
      "23\n"
     ]
    }
   ],
   "source": [
    "count = 0\n",
    "for date, list in zip(speaker_date.index, speaker_date.values):\n",
    "    theory = set(get_fomc(date))\n",
    "    in_transcript = set(list)\n",
    "    # print(date)\n",
    "    diff = theory.difference(in_transcript)\n",
    "    diffvote = set([get_pres(region, date) for region in which_bank_votes(int(date.split('-')[0]))] + get_bog(date)).difference(in_transcript)\n",
    "    if len(diffvote) > 0:\n",
    "        print(date + str(diffvote))\n",
    "        count += 1\n",
    "\n",
    "print(count)"
   ]
  },
  {
   "cell_type": "code",
   "execution_count": 35,
   "metadata": {},
   "outputs": [],
   "source": [
    "tdf = pd.read_csv('../grouped_w_topics.csv', index_col=0)"
   ]
  },
  {
   "cell_type": "code",
   "execution_count": null,
   "metadata": {},
   "outputs": [],
   "source": [
    "def is_fomc_member(lname, date):\n",
    "    return lname in get_fomc(date)"
   ]
  },
  {
   "cell_type": "code",
   "execution_count": 39,
   "metadata": {},
   "outputs": [],
   "source": [
    "tdf['lname'] = tdf['speaker'].apply(get_capped_lname)"
   ]
  },
  {
   "cell_type": "code",
   "execution_count": 40,
   "metadata": {},
   "outputs": [
    {
     "data": {
      "text/html": [
       "<div>\n",
       "<style scoped>\n",
       "    .dataframe tbody tr th:only-of-type {\n",
       "        vertical-align: middle;\n",
       "    }\n",
       "\n",
       "    .dataframe tbody tr th {\n",
       "        vertical-align: top;\n",
       "    }\n",
       "\n",
       "    .dataframe thead th {\n",
       "        text-align: right;\n",
       "    }\n",
       "</style>\n",
       "<table border=\"1\" class=\"dataframe\">\n",
       "  <thead>\n",
       "    <tr style=\"text-align: right;\">\n",
       "      <th></th>\n",
       "      <th>date</th>\n",
       "      <th>speaker</th>\n",
       "      <th>text_enhanced</th>\n",
       "      <th>tokens</th>\n",
       "      <th>tprob_0</th>\n",
       "      <th>tprob_1</th>\n",
       "      <th>tprob_2</th>\n",
       "      <th>tprob_3</th>\n",
       "      <th>tprob_4</th>\n",
       "      <th>tprob_5</th>\n",
       "      <th>...</th>\n",
       "      <th>tprob_37</th>\n",
       "      <th>tprob_38</th>\n",
       "      <th>tprob_39</th>\n",
       "      <th>tprob_40</th>\n",
       "      <th>tprob_41</th>\n",
       "      <th>tprob_42</th>\n",
       "      <th>tprob_43</th>\n",
       "      <th>tprob_44</th>\n",
       "      <th>len</th>\n",
       "      <th>lname</th>\n",
       "    </tr>\n",
       "  </thead>\n",
       "  <tbody>\n",
       "    <tr>\n",
       "      <th>1696</th>\n",
       "      <td>1994-02-04</td>\n",
       "      <td>CHAIRMAN GREENSPAN.</td>\n",
       "      <td>As you know, this is our organizational meetin...</td>\n",
       "      <td>['know', 'organiz', 'meet', 'alway', 'meet', '...</td>\n",
       "      <td>0.002360</td>\n",
       "      <td>0.001847</td>\n",
       "      <td>0.002183</td>\n",
       "      <td>0.080568</td>\n",
       "      <td>0.031129</td>\n",
       "      <td>0.001038</td>\n",
       "      <td>...</td>\n",
       "      <td>0.002370</td>\n",
       "      <td>0.004235</td>\n",
       "      <td>0.003070</td>\n",
       "      <td>0.001608</td>\n",
       "      <td>0.002960</td>\n",
       "      <td>0.023677</td>\n",
       "      <td>0.029818</td>\n",
       "      <td>0.001092</td>\n",
       "      <td>3330</td>\n",
       "      <td>greenspan</td>\n",
       "    </tr>\n",
       "    <tr>\n",
       "      <th>1697</th>\n",
       "      <td>1994-02-04</td>\n",
       "      <td>MR. BERNARD.</td>\n",
       "      <td>Secretary and Economist, Donald Kohn; Deputy S...</td>\n",
       "      <td>['secretari', 'economist', 'donald', 'kohn', '...</td>\n",
       "      <td>0.005522</td>\n",
       "      <td>0.005147</td>\n",
       "      <td>0.005976</td>\n",
       "      <td>0.004956</td>\n",
       "      <td>0.004744</td>\n",
       "      <td>0.006510</td>\n",
       "      <td>...</td>\n",
       "      <td>0.006113</td>\n",
       "      <td>0.004755</td>\n",
       "      <td>0.005623</td>\n",
       "      <td>0.006206</td>\n",
       "      <td>0.006836</td>\n",
       "      <td>0.006363</td>\n",
       "      <td>0.006006</td>\n",
       "      <td>0.006229</td>\n",
       "      <td>290</td>\n",
       "      <td>bernard</td>\n",
       "    </tr>\n",
       "    <tr>\n",
       "      <th>1698</th>\n",
       "      <td>1994-02-04</td>\n",
       "      <td>MR. BOEHNE.</td>\n",
       "      <td>Normally in an economic expansion, development...</td>\n",
       "      <td>['normal', 'econom', 'expans', 'develop', 'rea...</td>\n",
       "      <td>0.005527</td>\n",
       "      <td>0.006127</td>\n",
       "      <td>0.005889</td>\n",
       "      <td>0.045383</td>\n",
       "      <td>0.098863</td>\n",
       "      <td>0.003816</td>\n",
       "      <td>...</td>\n",
       "      <td>0.011927</td>\n",
       "      <td>0.015376</td>\n",
       "      <td>0.007200</td>\n",
       "      <td>0.006452</td>\n",
       "      <td>0.050246</td>\n",
       "      <td>0.017779</td>\n",
       "      <td>0.171482</td>\n",
       "      <td>0.004548</td>\n",
       "      <td>528</td>\n",
       "      <td>boehne</td>\n",
       "    </tr>\n",
       "    <tr>\n",
       "      <th>1699</th>\n",
       "      <td>1994-02-04</td>\n",
       "      <td>MR. BROADDUS.</td>\n",
       "      <td>My report is going to be pretty bland after th...</td>\n",
       "      <td>['report', 'go', 'pretti', 'bland', 'develop',...</td>\n",
       "      <td>0.006002</td>\n",
       "      <td>0.012405</td>\n",
       "      <td>0.006998</td>\n",
       "      <td>0.094474</td>\n",
       "      <td>0.018949</td>\n",
       "      <td>0.003959</td>\n",
       "      <td>...</td>\n",
       "      <td>0.012009</td>\n",
       "      <td>0.010079</td>\n",
       "      <td>0.004729</td>\n",
       "      <td>0.005816</td>\n",
       "      <td>0.009277</td>\n",
       "      <td>0.005711</td>\n",
       "      <td>0.037993</td>\n",
       "      <td>0.006824</td>\n",
       "      <td>596</td>\n",
       "      <td>broaddus</td>\n",
       "    </tr>\n",
       "    <tr>\n",
       "      <th>1700</th>\n",
       "      <td>1994-02-04</td>\n",
       "      <td>MR. COYNE.</td>\n",
       "      <td>Oh, believe me, you will get asked!  I think i...</td>\n",
       "      <td>['oh', 'believ', 'get', 'ask', 'think', 'take'...</td>\n",
       "      <td>0.022475</td>\n",
       "      <td>0.020367</td>\n",
       "      <td>0.019531</td>\n",
       "      <td>0.023227</td>\n",
       "      <td>0.030781</td>\n",
       "      <td>0.019507</td>\n",
       "      <td>...</td>\n",
       "      <td>0.021079</td>\n",
       "      <td>0.021056</td>\n",
       "      <td>0.019952</td>\n",
       "      <td>0.020426</td>\n",
       "      <td>0.020811</td>\n",
       "      <td>0.020512</td>\n",
       "      <td>0.021888</td>\n",
       "      <td>0.019169</td>\n",
       "      <td>10</td>\n",
       "      <td>coyne</td>\n",
       "    </tr>\n",
       "  </tbody>\n",
       "</table>\n",
       "<p>5 rows × 51 columns</p>\n",
       "</div>"
      ],
      "text/plain": [
       "            date              speaker  \\\n",
       "1696  1994-02-04  CHAIRMAN GREENSPAN.   \n",
       "1697  1994-02-04         MR. BERNARD.   \n",
       "1698  1994-02-04          MR. BOEHNE.   \n",
       "1699  1994-02-04        MR. BROADDUS.   \n",
       "1700  1994-02-04           MR. COYNE.   \n",
       "\n",
       "                                          text_enhanced  \\\n",
       "1696  As you know, this is our organizational meetin...   \n",
       "1697  Secretary and Economist, Donald Kohn; Deputy S...   \n",
       "1698  Normally in an economic expansion, development...   \n",
       "1699  My report is going to be pretty bland after th...   \n",
       "1700  Oh, believe me, you will get asked!  I think i...   \n",
       "\n",
       "                                                 tokens   tprob_0   tprob_1  \\\n",
       "1696  ['know', 'organiz', 'meet', 'alway', 'meet', '...  0.002360  0.001847   \n",
       "1697  ['secretari', 'economist', 'donald', 'kohn', '...  0.005522  0.005147   \n",
       "1698  ['normal', 'econom', 'expans', 'develop', 'rea...  0.005527  0.006127   \n",
       "1699  ['report', 'go', 'pretti', 'bland', 'develop',...  0.006002  0.012405   \n",
       "1700  ['oh', 'believ', 'get', 'ask', 'think', 'take'...  0.022475  0.020367   \n",
       "\n",
       "       tprob_2   tprob_3   tprob_4   tprob_5  ...  tprob_37  tprob_38  \\\n",
       "1696  0.002183  0.080568  0.031129  0.001038  ...  0.002370  0.004235   \n",
       "1697  0.005976  0.004956  0.004744  0.006510  ...  0.006113  0.004755   \n",
       "1698  0.005889  0.045383  0.098863  0.003816  ...  0.011927  0.015376   \n",
       "1699  0.006998  0.094474  0.018949  0.003959  ...  0.012009  0.010079   \n",
       "1700  0.019531  0.023227  0.030781  0.019507  ...  0.021079  0.021056   \n",
       "\n",
       "      tprob_39  tprob_40  tprob_41  tprob_42  tprob_43  tprob_44   len  \\\n",
       "1696  0.003070  0.001608  0.002960  0.023677  0.029818  0.001092  3330   \n",
       "1697  0.005623  0.006206  0.006836  0.006363  0.006006  0.006229   290   \n",
       "1698  0.007200  0.006452  0.050246  0.017779  0.171482  0.004548   528   \n",
       "1699  0.004729  0.005816  0.009277  0.005711  0.037993  0.006824   596   \n",
       "1700  0.019952  0.020426  0.020811  0.020512  0.021888  0.019169    10   \n",
       "\n",
       "          lname  \n",
       "1696  greenspan  \n",
       "1697    bernard  \n",
       "1698     boehne  \n",
       "1699   broaddus  \n",
       "1700      coyne  \n",
       "\n",
       "[5 rows x 51 columns]"
      ]
     },
     "execution_count": 40,
     "metadata": {},
     "output_type": "execute_result"
    }
   ],
   "source": [
    "tdf.head()"
   ]
  },
  {
   "cell_type": "code",
   "execution_count": 62,
   "metadata": {},
   "outputs": [],
   "source": [
    "tdf['is_fomc'] = tdf[['lname', 'date']].apply(lambda x : x.lname in get_fomc(x.date), axis=1)"
   ]
  },
  {
   "cell_type": "code",
   "execution_count": 66,
   "metadata": {},
   "outputs": [],
   "source": [
    "tdf = tdf[tdf['is_fomc'] == True]"
   ]
  },
  {
   "cell_type": "code",
   "execution_count": 69,
   "metadata": {},
   "outputs": [],
   "source": [
    "tdf.to_csv('../working-csvs/fomc_w_topics.csv')"
   ]
  }
 ],
 "metadata": {
  "kernelspec": {
   "display_name": "fed-nlp",
   "language": "python",
   "name": "python3"
  },
  "language_info": {
   "codemirror_mode": {
    "name": "ipython",
    "version": 3
   },
   "file_extension": ".py",
   "mimetype": "text/x-python",
   "name": "python",
   "nbconvert_exporter": "python",
   "pygments_lexer": "ipython3",
   "version": "3.11.4"
  }
 },
 "nbformat": 4,
 "nbformat_minor": 2
}
