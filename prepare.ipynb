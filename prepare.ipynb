{
 "cells": [
  {
   "cell_type": "markdown",
   "metadata": {},
   "source": [
    "# Preparation For Topic Modelling\n",
    "\n",
    "Eventually to include tf-idf threshold"
   ]
  },
  {
   "cell_type": "code",
   "execution_count": 1,
   "metadata": {},
   "outputs": [],
   "source": [
    "import os\n",
    "import pandas as pd\n",
    "from nltk import word_tokenize, wordpunct_tokenize\n",
    "from nltk.stem import PorterStemmer\n",
    "from gensim.corpora import Dictionary\n",
    "import string\n",
    "import math\n",
    "import matplotlib.pyplot as plt\n",
    "\n",
    "import setup_modules\n",
    "from lib.fomc import init_fomc, get_fomc, get_lname\n",
    "from lib.preprocessing import process"
   ]
  },
  {
   "cell_type": "code",
   "execution_count": 2,
   "metadata": {},
   "outputs": [],
   "source": [
    "tdf = pd.read_csv('working-csvs/raw_transcripts_sectioned.csv', index_col=0)"
   ]
  },
  {
   "cell_type": "code",
   "execution_count": 3,
   "metadata": {},
   "outputs": [],
   "source": [
    "prdf, bog = init_fomc('fomc-membership/presidents.csv', 'fomc-membership/bog.csv')"
   ]
  },
  {
   "cell_type": "code",
   "execution_count": 4,
   "metadata": {},
   "outputs": [],
   "source": [
    "tdf['lname'] = tdf['speaker'].map(get_lname)"
   ]
  },
  {
   "cell_type": "code",
   "execution_count": 5,
   "metadata": {},
   "outputs": [],
   "source": [
    "tdf['is_fomc'] = tdf[['lname', 'date']].apply(lambda x : x.lname in get_fomc(x.date, prdf, bog), axis=1)"
   ]
  },
  {
   "cell_type": "code",
   "execution_count": 6,
   "metadata": {},
   "outputs": [],
   "source": [
    "tdf[tdf['is_fomc'] == True].reset_index(drop=True).drop(columns='is_fomc').to_csv('working-csvs/fomc_sectioned.csv')"
   ]
  },
  {
   "cell_type": "markdown",
   "metadata": {},
   "source": [
    "**Run Bigram and trigram detection here**"
   ]
  },
  {
   "cell_type": "code",
   "execution_count": 7,
   "metadata": {},
   "outputs": [],
   "source": [
    "tdf = pd.read_csv('./working-csvs/fomc_sectioned.csv', index_col=0)"
   ]
  },
  {
   "cell_type": "markdown",
   "metadata": {},
   "source": [
    "## Bi and Trigram enhancements"
   ]
  },
  {
   "cell_type": "code",
   "execution_count": 8,
   "metadata": {},
   "outputs": [],
   "source": [
    "bigrams = set()\n",
    "\n",
    "with open(os.path.join('ngrams', 'bigrams')) as bg_file:\n",
    "    for bg in bg_file.readlines():\n",
    "        bigrams.add(bg.strip())"
   ]
  },
  {
   "cell_type": "code",
   "execution_count": 9,
   "metadata": {},
   "outputs": [],
   "source": [
    "trigrams = set()\n",
    "\n",
    "with open(os.path.join('ngrams', 'trigrams')) as tg_file:\n",
    "    for tf in tg_file.readlines():\n",
    "        trigrams.add(tf.strip())"
   ]
  },
  {
   "cell_type": "code",
   "execution_count": 10,
   "metadata": {},
   "outputs": [],
   "source": [
    "def ngram_enhance(raw_string):\n",
    "    to_add = []\n",
    "    raw_string = str(raw_string)\n",
    "    for bg in bigrams:\n",
    "        if str(bg) in raw_string.lower():\n",
    "            to_add.append('_'.join(bg.split(' ')))\n",
    "    for tg in trigrams:\n",
    "        if str(tg) in raw_string.lower():\n",
    "            to_add.append('_'.join(tg.split(' ')))\n",
    "\n",
    "    return raw_string + ' ' + ' '.join(to_add)"
   ]
  },
  {
   "cell_type": "code",
   "execution_count": 11,
   "metadata": {},
   "outputs": [],
   "source": [
    "tdf['text_enhanced'] = tdf['content'].apply(ngram_enhance)"
   ]
  },
  {
   "cell_type": "code",
   "execution_count": 12,
   "metadata": {},
   "outputs": [],
   "source": [
    "tdf.to_csv('working-csvs/fomc_sectioned_enhanced.csv')"
   ]
  },
  {
   "cell_type": "markdown",
   "metadata": {},
   "source": [
    "## Create Speaker-Meeting observations"
   ]
  },
  {
   "cell_type": "code",
   "execution_count": 13,
   "metadata": {},
   "outputs": [],
   "source": [
    "tdf_e = pd.read_csv('working-csvs/fomc_sectioned_enhanced.csv')"
   ]
  },
  {
   "cell_type": "code",
   "execution_count": 14,
   "metadata": {},
   "outputs": [
    {
     "data": {
      "text/plain": [
       "type\n",
       "meeting    26051\n",
       "Name: count, dtype: int64"
      ]
     },
     "execution_count": 14,
     "metadata": {},
     "output_type": "execute_result"
    }
   ],
   "source": [
    "tdf_e['type'].value_counts()"
   ]
  },
  {
   "cell_type": "code",
   "execution_count": 15,
   "metadata": {},
   "outputs": [],
   "source": [
    "stemmer = PorterStemmer()\n",
    "stopwords = []\n",
    "with open('stopwords/StopWords_DatesandNumbers.txt') as f:\n",
    "    lines = [line.split('|')[0].strip().lower() for line in f]\n",
    "    stopwords.extend(lines)\n",
    "with open('stopwords/StopWords_GenericLong.txt') as f:\n",
    "    lines = [line.strip().lower() for line in f]\n",
    "    stopwords.extend(lines)\n",
    "stopwords = [word for word in stopwords if len(word) > 1]\n",
    "stopwords.extend(['i', 'don'])"
   ]
  },
  {
   "cell_type": "code",
   "execution_count": 16,
   "metadata": {},
   "outputs": [],
   "source": [
    "tdf_e['tokens'] = tdf_e['text_enhanced'].apply(lambda x : process(x, stemmer=stemmer, stopwords=stopwords)) "
   ]
  },
  {
   "cell_type": "code",
   "execution_count": 17,
   "metadata": {},
   "outputs": [
    {
     "data": {
      "text/plain": [
       "14214"
      ]
     },
     "execution_count": 17,
     "metadata": {},
     "output_type": "execute_result"
    }
   ],
   "source": [
    "texts = tdf_e['tokens'].tolist()\n",
    "dictionary = Dictionary(texts)\n",
    "len(dictionary)"
   ]
  },
  {
   "cell_type": "code",
   "execution_count": 18,
   "metadata": {},
   "outputs": [],
   "source": [
    "count = 0\n",
    "\n",
    "freqs = {}\n",
    "doc_appears = {}\n",
    "\n",
    "for text in texts:\n",
    "    for token, freq in dictionary.doc2bow(text):\n",
    "        if token in freqs:\n",
    "            freqs[token] += freq\n",
    "        else:\n",
    "            freqs[token] = freq\n",
    "        if token in doc_appears:\n",
    "            doc_appears[token] += 1\n",
    "        else:\n",
    "            doc_appears[token] = 1\n",
    "    count +=1"
   ]
  },
  {
   "cell_type": "code",
   "execution_count": 19,
   "metadata": {},
   "outputs": [],
   "source": [
    "idf = {i: math.log(len(texts) / doc_appears[i]) for i in range(len(dictionary))}\n",
    "tfidf_global = {i: idf[i] * (1 + math.log(freqs[i])) for i in range(len(dictionary))}\n",
    "tfidf_vals = sorted([rank for rank in tfidf_global.values()], reverse=True)"
   ]
  },
  {
   "cell_type": "code",
   "execution_count": 20,
   "metadata": {},
   "outputs": [
    {
     "data": {
      "image/png": "[encoded data removed]",
      "text/plain": [
       "<Figure size 640x480 with 1 Axes>"
      ]
     },
     "metadata": {},
     "output_type": "display_data"
    }
   ],
   "source": [
    "fig, ax = plt.subplots()\n",
    "\n",
    "ax.set_title('TF-IDF Weights and Cutoff')\n",
    "\n",
    "ax.axvline(x=9100, color='gray', linestyle='--')\n",
    "ax.set_xlabel('Rank of Stems Ordered by TF-IDF')\n",
    "ax.set_ylabel('TF-IDF Weight')\n",
    "\n",
    "ax.plot(tfidf_vals)\n",
    "\n",
    "plt.savefig('./figures/tfidf.png')"
   ]
  },
  {
   "cell_type": "code",
   "execution_count": 21,
   "metadata": {},
   "outputs": [
    {
     "data": {
      "text/plain": [
       "9047"
      ]
     },
     "execution_count": 21,
     "metadata": {},
     "output_type": "execute_result"
    }
   ],
   "source": [
    "tokens_to_keep = [i for i, tfidf in tfidf_global.items() if tfidf > tfidf_vals[9100]]\n",
    "len(tokens_to_keep)"
   ]
  },
  {
   "cell_type": "code",
   "execution_count": 22,
   "metadata": {},
   "outputs": [
    {
     "data": {
      "text/plain": [
       "9047"
      ]
     },
     "execution_count": 22,
     "metadata": {},
     "output_type": "execute_result"
    }
   ],
   "source": [
    "dictionary.filter_tokens(good_ids=tokens_to_keep)\n",
    "dictionary.compactify()\n",
    "len(dictionary)"
   ]
  },
  {
   "cell_type": "code",
   "execution_count": 23,
   "metadata": {},
   "outputs": [],
   "source": [
    "dictionary.save('./models/02-29/02-29dict')"
   ]
  },
  {
   "cell_type": "code",
   "execution_count": 24,
   "metadata": {},
   "outputs": [],
   "source": [
    "speaker_grouped = tdf_e.groupby(['date', 'speaker'])['text_enhanced'].agg(' '.join).reset_index()"
   ]
  },
  {
   "cell_type": "code",
   "execution_count": 25,
   "metadata": {},
   "outputs": [],
   "source": [
    "speaker_grouped.to_csv('working-csvs/fomc_sectioned_speaker_grouped.csv')"
   ]
  }
 ],
 "metadata": {
  "kernelspec": {
   "display_name": "fed-nlp",
   "language": "python",
   "name": "python3"
  },
  "language_info": {
   "codemirror_mode": {
    "name": "ipython",
    "version": 3
   },
   "file_extension": ".py",
   "mimetype": "text/x-python",
   "name": "python",
   "nbconvert_exporter": "python",
   "pygments_lexer": "ipython3",
   "version": "3.11.4"
  }
 },
 "nbformat": 4,
 "nbformat_minor": 2
}
