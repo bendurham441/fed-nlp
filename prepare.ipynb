{
 "cells": [
  {
   "cell_type": "markdown",
   "metadata": {},
   "source": [
    "# Preparation For Topic Modelling\n",
    "\n",
    "Eventually to include tf-idf threshold"
   ]
  },
  {
   "cell_type": "code",
   "execution_count": 2,
   "metadata": {},
   "outputs": [],
   "source": [
    "import os\n",
    "import pandas as pd\n",
    "from nltk import word_tokenize, wordpunct_tokenize\n",
    "from nltk.stem import PorterStemmer\n",
    "from gensim.corpora import Dictionary\n",
    "import string\n",
    "import utils\n",
    "import math\n",
    "import matplotlib.pyplot as plt"
   ]
  },
  {
   "cell_type": "code",
   "execution_count": 5,
   "metadata": {},
   "outputs": [],
   "source": [
    "# sdf = pd.read_csv('transcripts/speeches.csv')\n",
    "tdf = pd.read_csv('working-csvs/raw_transcripts.csv', index_col=0)"
   ]
  },
  {
   "cell_type": "markdown",
   "metadata": {},
   "source": [
    "A function to eliminate utterances less than 5 words long. Not currently sure if I will use this. I would if I was replicating Shapiro Wilson 2021, but that is no longer the plan. Keeping it around for now."
   ]
  },
  {
   "cell_type": "code",
   "execution_count": 1,
   "metadata": {},
   "outputs": [],
   "source": [
    "def long_enough(text):\n",
    "    cleaned_tokens = [token for token in word_tokenize(str(text)) if token not in string.punctuation]\n",
    "    if len(cleaned_tokens) < 5:\n",
    "        return False\n",
    "    return True"
   ]
  },
  {
   "cell_type": "code",
   "execution_count": 4,
   "metadata": {},
   "outputs": [],
   "source": [
    "tdf_filtered = tdf[tdf.content.apply(long_enough) == True]"
   ]
  },
  {
   "cell_type": "code",
   "execution_count": 5,
   "metadata": {},
   "outputs": [],
   "source": [
    "tdf_filtered = tdf_filtered.reset_index().drop('level_0', axis=1)"
   ]
  },
  {
   "cell_type": "markdown",
   "metadata": {},
   "source": [
    "Another idea from Shapiro and Wilson, which I don't know if I will use. The idea is to remove \"stand alone utterances\" where the speakers of the utterances before and after is different. In practice, I don't know how useful this is. It is possible I am misinterpreting their meaning. Either way, for now I am not using this but I'm leaving it around for now."
   ]
  },
  {
   "cell_type": "code",
   "execution_count": 6,
   "metadata": {},
   "outputs": [],
   "source": [
    "def check_bef_aft_speakers(row):\n",
    "    row_ind = row.name\n",
    "    # print(row_ind)\n",
    "    if row_ind == 0 or row_ind == len(tdf) - 1:\n",
    "        return True\n",
    "    if tdf.loc[row_ind].date != tdf.loc[row_ind + 1].date:\n",
    "        return True\n",
    "    prev_speaker = tdf.loc[row_ind - 1].speaker\n",
    "    next_speaker = tdf.loc[row_ind + 1].speaker\n",
    "    curr_speaker = tdf.loc[row_ind].speaker\n",
    "\n",
    "    print('---------')\n",
    "    print(row.content)\n",
    "    print(prev_speaker)\n",
    "    print(curr_speaker)\n",
    "    print(next_speaker)\n",
    "\n",
    "    if curr_speaker != prev_speaker and curr_speaker != next_speaker and prev_speaker != next_speaker:\n",
    "        print('get rid')\n",
    "        return False\n",
    "    return True"
   ]
  },
  {
   "cell_type": "code",
   "execution_count": 7,
   "metadata": {},
   "outputs": [],
   "source": [
    "# tdf_filtered['test'] = tdf_filtered.apply(check_bef_aft_speakers, axis=1)"
   ]
  },
  {
   "cell_type": "code",
   "execution_count": 8,
   "metadata": {},
   "outputs": [
    {
     "data": {
      "text/html": [
       "<div>\n",
       "<style scoped>\n",
       "    .dataframe tbody tr th:only-of-type {\n",
       "        vertical-align: middle;\n",
       "    }\n",
       "\n",
       "    .dataframe tbody tr th {\n",
       "        vertical-align: top;\n",
       "    }\n",
       "\n",
       "    .dataframe thead th {\n",
       "        text-align: right;\n",
       "    }\n",
       "</style>\n",
       "<table border=\"1\" class=\"dataframe\">\n",
       "  <thead>\n",
       "    <tr style=\"text-align: right;\">\n",
       "      <th></th>\n",
       "      <th>speaker</th>\n",
       "      <th>content</th>\n",
       "      <th>index</th>\n",
       "      <th>date</th>\n",
       "      <th>type</th>\n",
       "    </tr>\n",
       "  </thead>\n",
       "  <tbody>\n",
       "    <tr>\n",
       "      <th>0</th>\n",
       "      <td>CHAIR YELLEN.</td>\n",
       "      <td>Good morning, everybody.  As you know, we had ...</td>\n",
       "      <td>0</td>\n",
       "      <td>2015-03-18</td>\n",
       "      <td>meeting</td>\n",
       "    </tr>\n",
       "    <tr>\n",
       "      <th>1</th>\n",
       "      <td>CHAIR YELLEN.</td>\n",
       "      <td>Thank you.  Without objection.  I am going to ...</td>\n",
       "      <td>2</td>\n",
       "      <td>2015-03-18</td>\n",
       "      <td>meeting</td>\n",
       "    </tr>\n",
       "    <tr>\n",
       "      <th>2</th>\n",
       "      <td>MR. POTTER.</td>\n",
       "      <td>Thank you, Madam Chair. We will be splitting t...</td>\n",
       "      <td>3</td>\n",
       "      <td>2015-03-18</td>\n",
       "      <td>meeting</td>\n",
       "    </tr>\n",
       "    <tr>\n",
       "      <th>3</th>\n",
       "      <td>MR. KOCHERLAKOTA.</td>\n",
       "      <td>Yes. Actually, it is more of a comment than a ...</td>\n",
       "      <td>5</td>\n",
       "      <td>2015-03-18</td>\n",
       "      <td>meeting</td>\n",
       "    </tr>\n",
       "    <tr>\n",
       "      <th>4</th>\n",
       "      <td>MR. POTTER.</td>\n",
       "      <td>In the past week, that is true. The TIPS break...</td>\n",
       "      <td>6</td>\n",
       "      <td>2015-03-18</td>\n",
       "      <td>meeting</td>\n",
       "    </tr>\n",
       "    <tr>\n",
       "      <th>...</th>\n",
       "      <td>...</td>\n",
       "      <td>...</td>\n",
       "      <td>...</td>\n",
       "      <td>...</td>\n",
       "      <td>...</td>\n",
       "    </tr>\n",
       "    <tr>\n",
       "      <th>37005</th>\n",
       "      <td>CHAIRMAN BERNANKE.</td>\n",
       "      <td>Thank you very much.  Thank you, all, for bear...</td>\n",
       "      <td>373</td>\n",
       "      <td>2012-03-13</td>\n",
       "      <td>meeting</td>\n",
       "    </tr>\n",
       "    <tr>\n",
       "      <th>37006</th>\n",
       "      <td>MR. LACKER.</td>\n",
       "      <td>Earlier in the meeting about today's statement...</td>\n",
       "      <td>374</td>\n",
       "      <td>2012-03-13</td>\n",
       "      <td>meeting</td>\n",
       "    </tr>\n",
       "    <tr>\n",
       "      <th>37007</th>\n",
       "      <td>CHAIRMAN BERNANKE.</td>\n",
       "      <td>Well, I asked for discussion of that point tod...</td>\n",
       "      <td>375</td>\n",
       "      <td>2012-03-13</td>\n",
       "      <td>meeting</td>\n",
       "    </tr>\n",
       "    <tr>\n",
       "      <th>37008</th>\n",
       "      <td>CHAIRMAN BERNANKE.</td>\n",
       "      <td>And I was very clear that that is certainly no...</td>\n",
       "      <td>377</td>\n",
       "      <td>2012-03-13</td>\n",
       "      <td>meeting</td>\n",
       "    </tr>\n",
       "    <tr>\n",
       "      <th>37009</th>\n",
       "      <td>CHAIRMAN BERNANKE.</td>\n",
       "      <td>Okay.  Thank you, all.  The next meeting will ...</td>\n",
       "      <td>379</td>\n",
       "      <td>2012-03-13</td>\n",
       "      <td>meeting</td>\n",
       "    </tr>\n",
       "  </tbody>\n",
       "</table>\n",
       "<p>37010 rows × 5 columns</p>\n",
       "</div>"
      ],
      "text/plain": [
       "                  speaker                                            content  \\\n",
       "0           CHAIR YELLEN.  Good morning, everybody.  As you know, we had ...   \n",
       "1           CHAIR YELLEN.  Thank you.  Without objection.  I am going to ...   \n",
       "2             MR. POTTER.  Thank you, Madam Chair. We will be splitting t...   \n",
       "3       MR. KOCHERLAKOTA.  Yes. Actually, it is more of a comment than a ...   \n",
       "4             MR. POTTER.  In the past week, that is true. The TIPS break...   \n",
       "...                   ...                                                ...   \n",
       "37005  CHAIRMAN BERNANKE.  Thank you very much.  Thank you, all, for bear...   \n",
       "37006         MR. LACKER.  Earlier in the meeting about today's statement...   \n",
       "37007  CHAIRMAN BERNANKE.  Well, I asked for discussion of that point tod...   \n",
       "37008  CHAIRMAN BERNANKE.  And I was very clear that that is certainly no...   \n",
       "37009  CHAIRMAN BERNANKE.  Okay.  Thank you, all.  The next meeting will ...   \n",
       "\n",
       "       index        date     type  \n",
       "0          0  2015-03-18  meeting  \n",
       "1          2  2015-03-18  meeting  \n",
       "2          3  2015-03-18  meeting  \n",
       "3          5  2015-03-18  meeting  \n",
       "4          6  2015-03-18  meeting  \n",
       "...      ...         ...      ...  \n",
       "37005    373  2012-03-13  meeting  \n",
       "37006    374  2012-03-13  meeting  \n",
       "37007    375  2012-03-13  meeting  \n",
       "37008    377  2012-03-13  meeting  \n",
       "37009    379  2012-03-13  meeting  \n",
       "\n",
       "[37010 rows x 5 columns]"
      ]
     },
     "execution_count": 8,
     "metadata": {},
     "output_type": "execute_result"
    }
   ],
   "source": [
    "tdf_filtered"
   ]
  },
  {
   "cell_type": "markdown",
   "metadata": {},
   "source": [
    "## Bi and Trigram enhancements"
   ]
  },
  {
   "cell_type": "code",
   "execution_count": 6,
   "metadata": {},
   "outputs": [],
   "source": [
    "bigrams = set()\n",
    "\n",
    "with open(os.path.join('ngrams', 'bigrams')) as bg_file:\n",
    "    for bg in bg_file.readlines():\n",
    "        bigrams.add(bg.strip())"
   ]
  },
  {
   "cell_type": "code",
   "execution_count": 7,
   "metadata": {},
   "outputs": [],
   "source": [
    "trigrams = set()\n",
    "\n",
    "with open(os.path.join('ngrams', 'trigrams')) as tg_file:\n",
    "    for tf in tg_file.readlines():\n",
    "        trigrams.add(tf.strip())"
   ]
  },
  {
   "cell_type": "code",
   "execution_count": 8,
   "metadata": {},
   "outputs": [],
   "source": [
    "def ngram_enhance(raw_string):\n",
    "    to_add = []\n",
    "    raw_string = str(raw_string)\n",
    "    for bg in bigrams:\n",
    "        if str(bg) in raw_string.lower():\n",
    "            to_add.append('_'.join(bg.split(' ')))\n",
    "    for tg in trigrams:\n",
    "        if str(tg) in raw_string.lower():\n",
    "            to_add.append('_'.join(tg.split(' ')))\n",
    "\n",
    "    return raw_string + ' ' + ' '.join(to_add)"
   ]
  },
  {
   "cell_type": "code",
   "execution_count": 9,
   "metadata": {},
   "outputs": [],
   "source": [
    "# sdf['text_enhanced'] = sdf['text'].apply(ngram_enhance)\n",
    "tdf['text_enhanced'] = tdf['content'].apply(ngram_enhance)"
   ]
  },
  {
   "cell_type": "code",
   "execution_count": 10,
   "metadata": {},
   "outputs": [],
   "source": [
    "tdf.to_csv('working-csvs/transcripts_enhanced.csv')"
   ]
  },
  {
   "cell_type": "code",
   "execution_count": null,
   "metadata": {},
   "outputs": [],
   "source": [
    "# sdf.to_csv('speeches_enhanced.csv')"
   ]
  },
  {
   "cell_type": "markdown",
   "metadata": {},
   "source": [
    "## Create Speaker-Meeting observations"
   ]
  },
  {
   "cell_type": "code",
   "execution_count": 11,
   "metadata": {},
   "outputs": [],
   "source": [
    "tdf_e = pd.read_csv('working-csvs/transcripts_enhanced.csv')"
   ]
  },
  {
   "cell_type": "code",
   "execution_count": 12,
   "metadata": {},
   "outputs": [
    {
     "data": {
      "text/plain": [
       "type\n",
       "meeting     86326\n",
       "confcall     4383\n",
       "Name: count, dtype: int64"
      ]
     },
     "execution_count": 12,
     "metadata": {},
     "output_type": "execute_result"
    }
   ],
   "source": [
    "tdf_e['type'].value_counts()"
   ]
  },
  {
   "cell_type": "code",
   "execution_count": 13,
   "metadata": {},
   "outputs": [],
   "source": [
    "tdf_e = tdf_e[tdf_e['type'] == 'meeting']"
   ]
  },
  {
   "cell_type": "code",
   "execution_count": 14,
   "metadata": {},
   "outputs": [],
   "source": [
    "stemmer = PorterStemmer()"
   ]
  },
  {
   "cell_type": "code",
   "execution_count": 15,
   "metadata": {},
   "outputs": [],
   "source": [
    "tdf_e['tokens'] = tdf_e['text_enhanced'].apply(lambda x : utils.process(x, stemmer=stemmer)) "
   ]
  },
  {
   "cell_type": "code",
   "execution_count": 16,
   "metadata": {},
   "outputs": [
    {
     "data": {
      "text/plain": [
       "18541"
      ]
     },
     "execution_count": 16,
     "metadata": {},
     "output_type": "execute_result"
    }
   ],
   "source": [
    "texts = tdf_e['tokens'].tolist()\n",
    "dictionary = Dictionary(texts)\n",
    "len(dictionary)"
   ]
  },
  {
   "cell_type": "code",
   "execution_count": 17,
   "metadata": {},
   "outputs": [],
   "source": [
    "count = 0\n",
    "\n",
    "freqs = {}\n",
    "doc_appears = {}\n",
    "\n",
    "for text in texts:\n",
    "    for token, freq in dictionary.doc2bow(text):\n",
    "        if token in freqs:\n",
    "            freqs[token] += freq\n",
    "        else:\n",
    "            freqs[token] = freq\n",
    "        if token in doc_appears:\n",
    "            doc_appears[token] += 1\n",
    "        else:\n",
    "            doc_appears[token] = 1\n",
    "    count +=1"
   ]
  },
  {
   "cell_type": "code",
   "execution_count": 18,
   "metadata": {},
   "outputs": [],
   "source": [
    "idf = {i: math.log(len(texts) / doc_appears[i]) for i in range(len(dictionary))}\n",
    "tfidf_global = {i: idf[i] * (1 + math.log(freqs[i])) for i in range(len(dictionary))}\n",
    "tfidf_vals = sorted([rank for rank in tfidf_global.values()], reverse=True)"
   ]
  },
  {
   "cell_type": "code",
   "execution_count": 19,
   "metadata": {},
   "outputs": [
    {
     "data": {
      "text/plain": [
       "[(13, 1), (228, 1)]"
      ]
     },
     "execution_count": 19,
     "metadata": {},
     "output_type": "execute_result"
    }
   ],
   "source": [
    "dictionary.doc2bow(['growth', 'product'])"
   ]
  },
  {
   "cell_type": "code",
   "execution_count": 20,
   "metadata": {},
   "outputs": [
    {
     "data": {
      "text/plain": [
       "25.763753301507016"
      ]
     },
     "execution_count": 20,
     "metadata": {},
     "output_type": "execute_result"
    }
   ],
   "source": [
    "tfidf_global[228]"
   ]
  },
  {
   "cell_type": "code",
   "execution_count": 31,
   "metadata": {},
   "outputs": [
    {
     "data": {
      "text/plain": [
       "[<matplotlib.lines.Line2D at 0x7fa1728736d0>]"
      ]
     },
     "execution_count": 31,
     "metadata": {},
     "output_type": "execute_result"
    },
    {
     "data": {
      "image/png": "[encoded data removed]",
      "text/plain": [
       "<Figure size 640x480 with 1 Axes>"
      ]
     },
     "metadata": {},
     "output_type": "display_data"
    }
   ],
   "source": [
    "fig, ax = plt.subplots()\n",
    "\n",
    "ax.set_title('TF-IDF Weights and Cutoff')\n",
    "\n",
    "ax.axvline(x=11000, color='gray', linestyle='--')\n",
    "ax.set_xlabel('Rank of Stems Ordered by TF-IDF')\n",
    "ax.set_ylabel('TF-IDF Weight')\n",
    "\n",
    "ax.plot(tfidf_vals)"
   ]
  },
  {
   "cell_type": "code",
   "execution_count": 38,
   "metadata": {},
   "outputs": [
    {
     "data": {
      "text/plain": [
       "21.54702700484636"
      ]
     },
     "execution_count": 38,
     "metadata": {},
     "output_type": "execute_result"
    }
   ],
   "source": [
    "tfidf_vals[11000]"
   ]
  },
  {
   "cell_type": "code",
   "execution_count": 39,
   "metadata": {},
   "outputs": [
    {
     "data": {
      "text/plain": [
       "10957"
      ]
     },
     "execution_count": 39,
     "metadata": {},
     "output_type": "execute_result"
    }
   ],
   "source": [
    "tokens_to_keep = [i for i, tfidf in tfidf_global.items() if tfidf > tfidf_vals[11000]]\n",
    "len(tokens_to_keep)"
   ]
  },
  {
   "cell_type": "code",
   "execution_count": 40,
   "metadata": {},
   "outputs": [
    {
     "data": {
      "text/plain": [
       "10957"
      ]
     },
     "execution_count": 40,
     "metadata": {},
     "output_type": "execute_result"
    }
   ],
   "source": [
    "dictionary.filter_tokens(good_ids=tokens_to_keep)\n",
    "dictionary.compactify()\n",
    "len(dictionary)"
   ]
  },
  {
   "cell_type": "markdown",
   "metadata": {},
   "source": [
    "EVENTUALLY FIX TO FILTER OUT PRE 1994 FROM DICT CREATION"
   ]
  },
  {
   "cell_type": "code",
   "execution_count": 45,
   "metadata": {},
   "outputs": [],
   "source": [
    "dictionary.save('12-10dict')"
   ]
  },
  {
   "cell_type": "code",
   "execution_count": 48,
   "metadata": {},
   "outputs": [],
   "source": [
    "speaker_grouped = tdf_e.groupby(['date', 'speaker'])['text_enhanced'].agg(' '.join).reset_index()"
   ]
  },
  {
   "cell_type": "code",
   "execution_count": 49,
   "metadata": {},
   "outputs": [],
   "source": [
    "speaker_grouped.to_csv('working-csvs/speaker_grouped.csv')"
   ]
  }
 ],
 "metadata": {
  "kernelspec": {
   "display_name": "fed-nlp",
   "language": "python",
   "name": "python3"
  },
  "language_info": {
   "codemirror_mode": {
    "name": "ipython",
    "version": 3
   },
   "file_extension": ".py",
   "mimetype": "text/x-python",
   "name": "python",
   "nbconvert_exporter": "python",
   "pygments_lexer": "ipython3",
   "version": "3.11.4"
  }
 },
 "nbformat": 4,
 "nbformat_minor": 2
}
