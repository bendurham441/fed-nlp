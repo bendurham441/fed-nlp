{
 "cells": [
  {
   "cell_type": "code",
   "execution_count": 59,
   "metadata": {},
   "outputs": [],
   "source": [
    "import os\n",
    "import pandas as pd\n",
    "from nltk import word_tokenize\n",
    "import string"
   ]
  },
  {
   "cell_type": "code",
   "execution_count": 63,
   "metadata": {},
   "outputs": [],
   "source": [
    "sdf = pd.read_csv('transcripts/speeches.csv')\n",
    "tdf = pd.read_csv('transcripts/transcripts.csv', index_col=0)"
   ]
  },
  {
   "cell_type": "code",
   "execution_count": 65,
   "metadata": {},
   "outputs": [
    {
     "data": {
      "text/plain": [
       "False"
      ]
     },
     "execution_count": 65,
     "metadata": {},
     "output_type": "execute_result"
    }
   ],
   "source": [
    "def long_enough(text):\n",
    "    cleaned_tokens = [token for token in word_tokenize(str(text)) if token not in string.punctuation]\n",
    "    if len(cleaned_tokens) < 5:\n",
    "        return False\n",
    "    return True\n",
    "\n",
    "long_enough('Questions? President Kocherlakota.')"
   ]
  },
  {
   "cell_type": "code",
   "execution_count": 66,
   "metadata": {},
   "outputs": [],
   "source": [
    "tdf_filtered = tdf[tdf.content.apply(long_enough) == True]"
   ]
  },
  {
   "cell_type": "code",
   "execution_count": 80,
   "metadata": {},
   "outputs": [],
   "source": [
    "tdf_filtered = tdf_filtered.reset_index().drop('level_0', axis=1)"
   ]
  },
  {
   "cell_type": "code",
   "execution_count": 97,
   "metadata": {},
   "outputs": [],
   "source": [
    "def check_bef_aft_speakers(row):\n",
    "    row_ind = row.name\n",
    "    # print(row_ind)\n",
    "    if row_ind == 0 or row_ind == len(tdf) - 1:\n",
    "        return True\n",
    "    if tdf.loc[row_ind].date != tdf.loc[row_ind + 1].date:\n",
    "        return True\n",
    "    prev_speaker = tdf.loc[row_ind - 1].speaker\n",
    "    next_speaker = tdf.loc[row_ind + 1].speaker\n",
    "    curr_speaker = tdf.loc[row_ind].speaker\n",
    "\n",
    "    print('---------')\n",
    "    print(row.content)\n",
    "    print(prev_speaker)\n",
    "    print(curr_speaker)\n",
    "    print(next_speaker)\n",
    "\n",
    "\n",
    "\n",
    "    if curr_speaker != prev_speaker and curr_speaker != next_speaker and prev_speaker != next_speaker:\n",
    "        print('get rid')\n",
    "        return False\n",
    "    return True\n",
    "\n",
    "# check_bef_aft_speakers(2)"
   ]
  },
  {
   "cell_type": "code",
   "execution_count": null,
   "metadata": {},
   "outputs": [],
   "source": [
    "# tdf_filtered['test'] = tdf_filtered.apply(check_bef_aft_speakers, axis=1)"
   ]
  },
  {
   "cell_type": "code",
   "execution_count": 85,
   "metadata": {},
   "outputs": [
    {
     "name": "stdout",
     "output_type": "stream",
     "text": [
      "37010\n"
     ]
    },
    {
     "data": {
      "text/plain": [
       "test\n",
       "False    18902\n",
       "True     18108\n",
       "Name: count, dtype: int64"
      ]
     },
     "execution_count": 85,
     "metadata": {},
     "output_type": "execute_result"
    }
   ],
   "source": [
    "# print(len(tdf_filtered))\n",
    "# tdf_filtered['test'].value_counts()"
   ]
  },
  {
   "cell_type": "code",
   "execution_count": 86,
   "metadata": {},
   "outputs": [
    {
     "data": {
      "text/html": [
       "<div>\n",
       "<style scoped>\n",
       "    .dataframe tbody tr th:only-of-type {\n",
       "        vertical-align: middle;\n",
       "    }\n",
       "\n",
       "    .dataframe tbody tr th {\n",
       "        vertical-align: top;\n",
       "    }\n",
       "\n",
       "    .dataframe thead th {\n",
       "        text-align: right;\n",
       "    }\n",
       "</style>\n",
       "<table border=\"1\" class=\"dataframe\">\n",
       "  <thead>\n",
       "    <tr style=\"text-align: right;\">\n",
       "      <th></th>\n",
       "      <th>speaker</th>\n",
       "      <th>content</th>\n",
       "      <th>index</th>\n",
       "      <th>date</th>\n",
       "      <th>type</th>\n",
       "      <th>test</th>\n",
       "    </tr>\n",
       "  </thead>\n",
       "  <tbody>\n",
       "    <tr>\n",
       "      <th>0</th>\n",
       "      <td>CHAIR YELLEN.</td>\n",
       "      <td>Good morning, everybody.  As you know, we had ...</td>\n",
       "      <td>0</td>\n",
       "      <td>2015-03-18</td>\n",
       "      <td>meeting</td>\n",
       "      <td>True</td>\n",
       "    </tr>\n",
       "    <tr>\n",
       "      <th>1</th>\n",
       "      <td>CHAIR YELLEN.</td>\n",
       "      <td>Thank you.  Without objection.  I am going to ...</td>\n",
       "      <td>2</td>\n",
       "      <td>2015-03-18</td>\n",
       "      <td>meeting</td>\n",
       "      <td>True</td>\n",
       "    </tr>\n",
       "    <tr>\n",
       "      <th>2</th>\n",
       "      <td>MR. POTTER.</td>\n",
       "      <td>Thank you, Madam Chair. We will be splitting t...</td>\n",
       "      <td>3</td>\n",
       "      <td>2015-03-18</td>\n",
       "      <td>meeting</td>\n",
       "      <td>False</td>\n",
       "    </tr>\n",
       "    <tr>\n",
       "      <th>3</th>\n",
       "      <td>MR. KOCHERLAKOTA.</td>\n",
       "      <td>Yes. Actually, it is more of a comment than a ...</td>\n",
       "      <td>5</td>\n",
       "      <td>2015-03-18</td>\n",
       "      <td>meeting</td>\n",
       "      <td>True</td>\n",
       "    </tr>\n",
       "    <tr>\n",
       "      <th>4</th>\n",
       "      <td>MR. POTTER.</td>\n",
       "      <td>In the past week, that is true. The TIPS break...</td>\n",
       "      <td>6</td>\n",
       "      <td>2015-03-18</td>\n",
       "      <td>meeting</td>\n",
       "      <td>False</td>\n",
       "    </tr>\n",
       "    <tr>\n",
       "      <th>...</th>\n",
       "      <td>...</td>\n",
       "      <td>...</td>\n",
       "      <td>...</td>\n",
       "      <td>...</td>\n",
       "      <td>...</td>\n",
       "      <td>...</td>\n",
       "    </tr>\n",
       "    <tr>\n",
       "      <th>37005</th>\n",
       "      <td>CHAIRMAN BERNANKE.</td>\n",
       "      <td>Thank you very much.  Thank you, all, for bear...</td>\n",
       "      <td>373</td>\n",
       "      <td>2012-03-13</td>\n",
       "      <td>meeting</td>\n",
       "      <td>False</td>\n",
       "    </tr>\n",
       "    <tr>\n",
       "      <th>37006</th>\n",
       "      <td>MR. LACKER.</td>\n",
       "      <td>Earlier in the meeting about today's statement...</td>\n",
       "      <td>374</td>\n",
       "      <td>2012-03-13</td>\n",
       "      <td>meeting</td>\n",
       "      <td>True</td>\n",
       "    </tr>\n",
       "    <tr>\n",
       "      <th>37007</th>\n",
       "      <td>CHAIRMAN BERNANKE.</td>\n",
       "      <td>Well, I asked for discussion of that point tod...</td>\n",
       "      <td>375</td>\n",
       "      <td>2012-03-13</td>\n",
       "      <td>meeting</td>\n",
       "      <td>True</td>\n",
       "    </tr>\n",
       "    <tr>\n",
       "      <th>37008</th>\n",
       "      <td>CHAIRMAN BERNANKE.</td>\n",
       "      <td>And I was very clear that that is certainly no...</td>\n",
       "      <td>377</td>\n",
       "      <td>2012-03-13</td>\n",
       "      <td>meeting</td>\n",
       "      <td>True</td>\n",
       "    </tr>\n",
       "    <tr>\n",
       "      <th>37009</th>\n",
       "      <td>CHAIRMAN BERNANKE.</td>\n",
       "      <td>Okay.  Thank you, all.  The next meeting will ...</td>\n",
       "      <td>379</td>\n",
       "      <td>2012-03-13</td>\n",
       "      <td>meeting</td>\n",
       "      <td>False</td>\n",
       "    </tr>\n",
       "  </tbody>\n",
       "</table>\n",
       "<p>37010 rows × 6 columns</p>\n",
       "</div>"
      ],
      "text/plain": [
       "                  speaker                                            content  \\\n",
       "0           CHAIR YELLEN.  Good morning, everybody.  As you know, we had ...   \n",
       "1           CHAIR YELLEN.  Thank you.  Without objection.  I am going to ...   \n",
       "2             MR. POTTER.  Thank you, Madam Chair. We will be splitting t...   \n",
       "3       MR. KOCHERLAKOTA.  Yes. Actually, it is more of a comment than a ...   \n",
       "4             MR. POTTER.  In the past week, that is true. The TIPS break...   \n",
       "...                   ...                                                ...   \n",
       "37005  CHAIRMAN BERNANKE.  Thank you very much.  Thank you, all, for bear...   \n",
       "37006         MR. LACKER.  Earlier in the meeting about today's statement...   \n",
       "37007  CHAIRMAN BERNANKE.  Well, I asked for discussion of that point tod...   \n",
       "37008  CHAIRMAN BERNANKE.  And I was very clear that that is certainly no...   \n",
       "37009  CHAIRMAN BERNANKE.  Okay.  Thank you, all.  The next meeting will ...   \n",
       "\n",
       "       index        date     type   test  \n",
       "0          0  2015-03-18  meeting   True  \n",
       "1          2  2015-03-18  meeting   True  \n",
       "2          3  2015-03-18  meeting  False  \n",
       "3          5  2015-03-18  meeting   True  \n",
       "4          6  2015-03-18  meeting  False  \n",
       "...      ...         ...      ...    ...  \n",
       "37005    373  2012-03-13  meeting  False  \n",
       "37006    374  2012-03-13  meeting   True  \n",
       "37007    375  2012-03-13  meeting   True  \n",
       "37008    377  2012-03-13  meeting   True  \n",
       "37009    379  2012-03-13  meeting  False  \n",
       "\n",
       "[37010 rows x 6 columns]"
      ]
     },
     "execution_count": 86,
     "metadata": {},
     "output_type": "execute_result"
    }
   ],
   "source": [
    "tdf_filtered"
   ]
  },
  {
   "cell_type": "code",
   "execution_count": 47,
   "metadata": {},
   "outputs": [
    {
     "data": {
      "text/html": [
       "<div>\n",
       "<style scoped>\n",
       "    .dataframe tbody tr th:only-of-type {\n",
       "        vertical-align: middle;\n",
       "    }\n",
       "\n",
       "    .dataframe tbody tr th {\n",
       "        vertical-align: top;\n",
       "    }\n",
       "\n",
       "    .dataframe thead th {\n",
       "        text-align: right;\n",
       "    }\n",
       "</style>\n",
       "<table border=\"1\" class=\"dataframe\">\n",
       "  <thead>\n",
       "    <tr style=\"text-align: right;\">\n",
       "      <th></th>\n",
       "      <th>test</th>\n",
       "      <th>content</th>\n",
       "    </tr>\n",
       "  </thead>\n",
       "  <tbody>\n",
       "    <tr>\n",
       "      <th>0</th>\n",
       "      <td>True</td>\n",
       "      <td>Good morning, everybody.  As you know, we had ...</td>\n",
       "    </tr>\n",
       "    <tr>\n",
       "      <th>1</th>\n",
       "      <td>True</td>\n",
       "      <td>So moved, Madam Chair.</td>\n",
       "    </tr>\n",
       "    <tr>\n",
       "      <th>2</th>\n",
       "      <td>False</td>\n",
       "      <td>Thank you.  Without objection.  I am going to ...</td>\n",
       "    </tr>\n",
       "    <tr>\n",
       "      <th>3</th>\n",
       "      <td>True</td>\n",
       "      <td>Thank you, Madam Chair. We will be splitting t...</td>\n",
       "    </tr>\n",
       "    <tr>\n",
       "      <th>4</th>\n",
       "      <td>False</td>\n",
       "      <td>Questions?  President Kocherlakota.</td>\n",
       "    </tr>\n",
       "    <tr>\n",
       "      <th>...</th>\n",
       "      <td>...</td>\n",
       "      <td>...</td>\n",
       "    </tr>\n",
       "    <tr>\n",
       "      <th>48757</th>\n",
       "      <td>True</td>\n",
       "      <td>Well, I asked for discussion of that point tod...</td>\n",
       "    </tr>\n",
       "    <tr>\n",
       "      <th>48758</th>\n",
       "      <td>True</td>\n",
       "      <td>Right.</td>\n",
       "    </tr>\n",
       "    <tr>\n",
       "      <th>48759</th>\n",
       "      <td>True</td>\n",
       "      <td>And I was very clear that that is certainly no...</td>\n",
       "    </tr>\n",
       "    <tr>\n",
       "      <th>48760</th>\n",
       "      <td>True</td>\n",
       "      <td>Okay.</td>\n",
       "    </tr>\n",
       "    <tr>\n",
       "      <th>48761</th>\n",
       "      <td>True</td>\n",
       "      <td>Okay.  Thank you, all.  The next meeting will ...</td>\n",
       "    </tr>\n",
       "  </tbody>\n",
       "</table>\n",
       "<p>48762 rows × 2 columns</p>\n",
       "</div>"
      ],
      "text/plain": [
       "        test                                            content\n",
       "0       True  Good morning, everybody.  As you know, we had ...\n",
       "1       True                             So moved, Madam Chair.\n",
       "2      False  Thank you.  Without objection.  I am going to ...\n",
       "3       True  Thank you, Madam Chair. We will be splitting t...\n",
       "4      False                Questions?  President Kocherlakota.\n",
       "...      ...                                                ...\n",
       "48757   True  Well, I asked for discussion of that point tod...\n",
       "48758   True                                             Right.\n",
       "48759   True  And I was very clear that that is certainly no...\n",
       "48760   True                                              Okay.\n",
       "48761   True  Okay.  Thank you, all.  The next meeting will ...\n",
       "\n",
       "[48762 rows x 2 columns]"
      ]
     },
     "execution_count": 47,
     "metadata": {},
     "output_type": "execute_result"
    }
   ],
   "source": [
    "tdf[['test', 'content']]"
   ]
  },
  {
   "cell_type": "code",
   "execution_count": 26,
   "metadata": {},
   "outputs": [
    {
     "data": {
      "text/plain": [
       "0"
      ]
     },
     "execution_count": 26,
     "metadata": {},
     "output_type": "execute_result"
    }
   ],
   "source": [
    "tdf.loc[0]['index']"
   ]
  },
  {
   "cell_type": "markdown",
   "metadata": {},
   "source": [
    "## Filter transcripts like Shapiro Wilson (2021)\n",
    "\n",
    "- Drop utterances of less than 5 words\n",
    "- Drop utterances surrounded by utterances of different speakers"
   ]
  },
  {
   "cell_type": "code",
   "execution_count": 3,
   "metadata": {},
   "outputs": [],
   "source": [
    "bigrams = set()\n",
    "\n",
    "with open(os.path.join('ngrams', 'bigrams')) as bg_file:\n",
    "    for bg in bg_file.readlines():\n",
    "        bigrams.add(bg.strip())"
   ]
  },
  {
   "cell_type": "code",
   "execution_count": 4,
   "metadata": {},
   "outputs": [],
   "source": [
    "trigrams = set()\n",
    "\n",
    "with open(os.path.join('ngrams', 'trigrams')) as tg_file:\n",
    "    for tf in tg_file.readlines():\n",
    "        trigrams.add(tf.strip())"
   ]
  },
  {
   "cell_type": "code",
   "execution_count": 5,
   "metadata": {},
   "outputs": [],
   "source": [
    "def ngram_enhance(raw_string):\n",
    "    to_add = []\n",
    "    raw_string = str(raw_string)\n",
    "    for bg in bigrams:\n",
    "        if str(bg) in raw_string.lower():\n",
    "            to_add.append('_'.join(bg.split(' ')))\n",
    "    for tg in trigrams:\n",
    "        if str(tg) in raw_string.lower():\n",
    "            to_add.append('_'.join(tg.split(' ')))\n",
    "\n",
    "    return raw_string + ' ' + ' '.join(to_add)"
   ]
  },
  {
   "cell_type": "code",
   "execution_count": 7,
   "metadata": {},
   "outputs": [],
   "source": [
    "sdf['text_enhanced'] = sdf['text'].apply(ngram_enhance)\n",
    "tdf['text_enhanced'] = tdf['content'].apply(ngram_enhance)"
   ]
  },
  {
   "cell_type": "code",
   "execution_count": null,
   "metadata": {},
   "outputs": [],
   "source": [
    "tdf.to_csv('transcripts_enhanced.csv')"
   ]
  },
  {
   "cell_type": "code",
   "execution_count": null,
   "metadata": {},
   "outputs": [],
   "source": [
    "sdf.to_csv('speeches_enhanced.csv')"
   ]
  }
 ],
 "metadata": {
  "kernelspec": {
   "display_name": "fed-nlp",
   "language": "python",
   "name": "python3"
  },
  "language_info": {
   "codemirror_mode": {
    "name": "ipython",
    "version": 3
   },
   "file_extension": ".py",
   "mimetype": "text/x-python",
   "name": "python",
   "nbconvert_exporter": "python",
   "pygments_lexer": "ipython3",
   "version": "3.9.18"
  }
 },
 "nbformat": 4,
 "nbformat_minor": 2
}
