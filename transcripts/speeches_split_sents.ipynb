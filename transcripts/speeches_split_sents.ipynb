{
 "cells": [
  {
   "cell_type": "code",
   "execution_count": 2,
   "metadata": {},
   "outputs": [],
   "source": [
    "import pandas as pd\n",
    "from nltk import sent_tokenize"
   ]
  },
  {
   "cell_type": "code",
   "execution_count": 3,
   "metadata": {},
   "outputs": [],
   "source": [
    "df = pd.read_csv('speeches.csv')"
   ]
  },
  {
   "cell_type": "code",
   "execution_count": 29,
   "metadata": {},
   "outputs": [],
   "source": [
    "sent_records = []\n",
    "\n",
    "for i, row in df.iterrows():\n",
    "    del row['Unnamed: 0']\n",
    "    del row['index']\n",
    "    text = row['text']\n",
    "    del row['text']\n",
    "    metadata = row\n",
    "    if str(text) != 'nan':\n",
    "        sents = sent_tokenize(text)\n",
    "        sents = [{'text': sent, **metadata} for sent in sents]\n",
    "        # eventually come back and add within speech index in case I want to use the ordering of things\n",
    "        sent_records.extend(sents)"
   ]
  },
  {
   "cell_type": "code",
   "execution_count": 31,
   "metadata": {},
   "outputs": [],
   "source": [
    "speech_sent_df = df.from_records(sent_records)\n",
    "speech_sent_df.to_csv('speech_sents.csv')"
   ]
  }
 ],
 "metadata": {
  "kernelspec": {
   "display_name": "fed-nlp",
   "language": "python",
   "name": "python3"
  },
  "language_info": {
   "codemirror_mode": {
    "name": "ipython",
    "version": 3
   },
   "file_extension": ".py",
   "mimetype": "text/x-python",
   "name": "python",
   "nbconvert_exporter": "python",
   "pygments_lexer": "ipython3",
   "version": "3.11.4"
  }
 },
 "nbformat": 4,
 "nbformat_minor": 2
}
