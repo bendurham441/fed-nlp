{
 "cells": [
  {
   "cell_type": "code",
   "execution_count": 10,
   "metadata": {},
   "outputs": [],
   "source": [
    "import requests\n",
    "from bs4 import BeautifulSoup\n",
    "import fitz as pymupdf"
   ]
  },
  {
   "cell_type": "code",
   "execution_count": null,
   "metadata": {},
   "outputs": [],
   "source": [
    "# requests.get('')"
   ]
  },
  {
   "cell_type": "code",
   "execution_count": 14,
   "metadata": {},
   "outputs": [
    {
     "name": "stdout",
     "output_type": "stream",
     "text": [
      "2/3-4/98\n",
      "VICE CHAIRMAN MCDONOUGH. I renominate Peter Fisher.\n",
      "CHAIRMAN GREENSPAN. If there are any other nominations, Peter may\n",
      "object, but that is probably irrelevant! I assume there are none. Would somebody like to\n",
      "second that nomination?\n",
      "SPEAKER(?). I second it.\n",
      "CHAIRMAN GREENSPAN. Without objection. Now that he is officially\n",
      "ensconced, we can go back to work. Peter, you are on.\n",
      "MR. FISHER. All right, Mr. Chairman. I sent a memorandum to the Committee\n",
      "suggesting two modest changes to the Authorization for Domestic Open Market\n",
      "Operations. I think that is the next item. One is a permanent increase in the intermeeting\n",
      "leeway from $8 billion to $12 billion. The other is to remove from the Authorization the\n",
      "references to bankers acceptances that have been inoperative lo these many years. I think\n",
      "the memorandum speaks for itself. I would be happy to answer any questions.\n",
      "CHAIRMAN GREENSPAN. If there are no questions, would somebody like to\n",
      "move amend the Authorization as proposed?\n",
      "VICE CHAIRMAN MCDONOUGH. Move approval of the Authorization with\n",
      "the modifications proposed in Mr. Fisher's memo.\n",
      "SPEAKER(?). Second.\n",
      "CHAIRMAN GREENSPAN. Without objection. Mr. Truman.\n",
      "MR. TRUMAN. I sent a memorandum to the Committee containing the current\n",
      "versions of the Foreign Currency Authorization, the Foreign Currency Directive, and the\n",
      "Procedural Instructions. No amendments are recommended. The memorandum includes\n",
      "\n"
     ]
    }
   ],
   "source": [
    "with pymupdf.open('FOMC19980204meeting.pdf') as pages:\n",
    "    print(pages[4].get_text())"
   ]
  }
 ],
 "metadata": {
  "kernelspec": {
   "display_name": "fed-nlp",
   "language": "python",
   "name": "python3"
  },
  "language_info": {
   "codemirror_mode": {
    "name": "ipython",
    "version": 3
   },
   "file_extension": ".py",
   "mimetype": "text/x-python",
   "name": "python",
   "nbconvert_exporter": "python",
   "pygments_lexer": "ipython3",
   "version": "3.9.18"
  }
 },
 "nbformat": 4,
 "nbformat_minor": 2
}
