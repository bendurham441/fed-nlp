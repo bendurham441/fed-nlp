{
 "cells": [
  {
   "cell_type": "code",
   "execution_count": 53,
   "metadata": {},
   "outputs": [],
   "source": [
    "import ast\n",
    "import pandas as pd\n",
    "\n",
    "from functools import reduce\n",
    "\n",
    "from matplotlib import pyplot as plt"
   ]
  },
  {
   "cell_type": "code",
   "execution_count": 126,
   "metadata": {},
   "outputs": [],
   "source": [
    "def str_to_list(s):\n",
    "    return ast.literal_eval(s)\n",
    "\n",
    "df = pd.read_csv('sentences.csv', converters={'tokens': str_to_list, 'raw_tokens': str_to_list}, index_col=0)"
   ]
  },
  {
   "cell_type": "code",
   "execution_count": 127,
   "metadata": {},
   "outputs": [
    {
     "data": {
      "text/html": [
       "<div>\n",
       "<style scoped>\n",
       "    .dataframe tbody tr th:only-of-type {\n",
       "        vertical-align: middle;\n",
       "    }\n",
       "\n",
       "    .dataframe tbody tr th {\n",
       "        vertical-align: top;\n",
       "    }\n",
       "\n",
       "    .dataframe thead th {\n",
       "        text-align: right;\n",
       "    }\n",
       "</style>\n",
       "<table border=\"1\" class=\"dataframe\">\n",
       "  <thead>\n",
       "    <tr style=\"text-align: right;\">\n",
       "      <th></th>\n",
       "      <th>tokens</th>\n",
       "      <th>statement_index</th>\n",
       "      <th>raw_tokens</th>\n",
       "      <th>topic_gen</th>\n",
       "      <th>text</th>\n",
       "      <th>topic_crit</th>\n",
       "    </tr>\n",
       "  </thead>\n",
       "  <tbody>\n",
       "    <tr>\n",
       "      <th>0</th>\n",
       "      <td>[inform, receiv, sinc, feder, open, market, co...</td>\n",
       "      <td>0</td>\n",
       "      <td>[Information, received, since, the, Federal, O...</td>\n",
       "      <td>11.0</td>\n",
       "      <td>inform receiv sinc feder open market committe ...</td>\n",
       "      <td>11.0</td>\n",
       "    </tr>\n",
       "    <tr>\n",
       "      <th>1</th>\n",
       "      <td>[balanc, labor, market, condit, improv, somewh...</td>\n",
       "      <td>0</td>\n",
       "      <td>[On, balance, ,, labor, market, conditions, im...</td>\n",
       "      <td>4.0</td>\n",
       "      <td>balanc labor market condit improv somewhat how...</td>\n",
       "      <td>12.0</td>\n",
       "    </tr>\n",
       "    <tr>\n",
       "      <th>2</th>\n",
       "      <td>[household, spend, appear, rise, moder, busi, ...</td>\n",
       "      <td>0</td>\n",
       "      <td>[Household, spending, appears, to, be, rising,...</td>\n",
       "      <td>8.0</td>\n",
       "      <td>household spend appear rise moder busi fix inv...</td>\n",
       "      <td>8.0</td>\n",
       "    </tr>\n",
       "    <tr>\n",
       "      <th>3</th>\n",
       "      <td>[fiscal, polici, restrain, econom, growth, alt...</td>\n",
       "      <td>0</td>\n",
       "      <td>[Fiscal, policy, is, restraining, economic, gr...</td>\n",
       "      <td>0.0</td>\n",
       "      <td>fiscal polici restrain econom growth although ...</td>\n",
       "      <td>0.0</td>\n",
       "    </tr>\n",
       "    <tr>\n",
       "      <th>4</th>\n",
       "      <td>[inflat, run, committe, 's, longerrun, object]</td>\n",
       "      <td>0</td>\n",
       "      <td>[Inflation, has, been, running, below, the, Co...</td>\n",
       "      <td>10.0</td>\n",
       "      <td>inflat run committe 's longerrun object</td>\n",
       "      <td>10.0</td>\n",
       "    </tr>\n",
       "    <tr>\n",
       "      <th>...</th>\n",
       "      <td>...</td>\n",
       "      <td>...</td>\n",
       "      <td>...</td>\n",
       "      <td>...</td>\n",
       "      <td>...</td>\n",
       "      <td>...</td>\n",
       "    </tr>\n",
       "    <tr>\n",
       "      <th>1488</th>\n",
       "      <td>[discount, rate, interest, rate, charg, deposi...</td>\n",
       "      <td>177</td>\n",
       "      <td>[The, discount, rate, is, the, interest, rate,...</td>\n",
       "      <td>2.0</td>\n",
       "      <td>discount rate interest rate charg depositori i...</td>\n",
       "      <td>2.0</td>\n",
       "    </tr>\n",
       "    <tr>\n",
       "      <th>1489</th>\n",
       "      <td>[feder, open, market, committe, decid, today, ...</td>\n",
       "      <td>179</td>\n",
       "      <td>[The, Federal, Open, Market, Committee, decide...</td>\n",
       "      <td>1.0</td>\n",
       "      <td>feder open market committe decid today eas sta...</td>\n",
       "      <td>1.0</td>\n",
       "    </tr>\n",
       "    <tr>\n",
       "      <th>1490</th>\n",
       "      <td>[action, taken, cushion, effect, prospect, eco...</td>\n",
       "      <td>179</td>\n",
       "      <td>[The, action, was, taken, to, cushion, the, ef...</td>\n",
       "      <td>0.0</td>\n",
       "      <td>action taken cushion effect prospect econom gr...</td>\n",
       "      <td>3.0</td>\n",
       "    </tr>\n",
       "    <tr>\n",
       "      <th>1491</th>\n",
       "      <td>[recent, chang, global, economi, adjust, u.s.,...</td>\n",
       "      <td>179</td>\n",
       "      <td>[The, recent, changes, in, the, global, econom...</td>\n",
       "      <td>0.0</td>\n",
       "      <td>recent chang global economi adjust u.s. financ...</td>\n",
       "      <td>1.0</td>\n",
       "    </tr>\n",
       "    <tr>\n",
       "      <th>1492</th>\n",
       "      <td>[discount, rate, remain, unchang, 5, percent]</td>\n",
       "      <td>179</td>\n",
       "      <td>[The, discount, rate, remains, unchanged, at, ...</td>\n",
       "      <td>1.0</td>\n",
       "      <td>discount rate remain unchang 5 percent</td>\n",
       "      <td>2.0</td>\n",
       "    </tr>\n",
       "  </tbody>\n",
       "</table>\n",
       "<p>1493 rows × 6 columns</p>\n",
       "</div>"
      ],
      "text/plain": [
       "                                                 tokens  statement_index  \\\n",
       "0     [inform, receiv, sinc, feder, open, market, co...                0   \n",
       "1     [balanc, labor, market, condit, improv, somewh...                0   \n",
       "2     [household, spend, appear, rise, moder, busi, ...                0   \n",
       "3     [fiscal, polici, restrain, econom, growth, alt...                0   \n",
       "4        [inflat, run, committe, 's, longerrun, object]                0   \n",
       "...                                                 ...              ...   \n",
       "1488  [discount, rate, interest, rate, charg, deposi...              177   \n",
       "1489  [feder, open, market, committe, decid, today, ...              179   \n",
       "1490  [action, taken, cushion, effect, prospect, eco...              179   \n",
       "1491  [recent, chang, global, economi, adjust, u.s.,...              179   \n",
       "1492      [discount, rate, remain, unchang, 5, percent]              179   \n",
       "\n",
       "                                             raw_tokens  topic_gen  \\\n",
       "0     [Information, received, since, the, Federal, O...       11.0   \n",
       "1     [On, balance, ,, labor, market, conditions, im...        4.0   \n",
       "2     [Household, spending, appears, to, be, rising,...        8.0   \n",
       "3     [Fiscal, policy, is, restraining, economic, gr...        0.0   \n",
       "4     [Inflation, has, been, running, below, the, Co...       10.0   \n",
       "...                                                 ...        ...   \n",
       "1488  [The, discount, rate, is, the, interest, rate,...        2.0   \n",
       "1489  [The, Federal, Open, Market, Committee, decide...        1.0   \n",
       "1490  [The, action, was, taken, to, cushion, the, ef...        0.0   \n",
       "1491  [The, recent, changes, in, the, global, econom...        0.0   \n",
       "1492  [The, discount, rate, remains, unchanged, at, ...        1.0   \n",
       "\n",
       "                                                   text  topic_crit  \n",
       "0     inform receiv sinc feder open market committe ...        11.0  \n",
       "1     balanc labor market condit improv somewhat how...        12.0  \n",
       "2     household spend appear rise moder busi fix inv...         8.0  \n",
       "3     fiscal polici restrain econom growth although ...         0.0  \n",
       "4               inflat run committe 's longerrun object        10.0  \n",
       "...                                                 ...         ...  \n",
       "1488  discount rate interest rate charg depositori i...         2.0  \n",
       "1489  feder open market committe decid today eas sta...         1.0  \n",
       "1490  action taken cushion effect prospect econom gr...         3.0  \n",
       "1491  recent chang global economi adjust u.s. financ...         1.0  \n",
       "1492             discount rate remain unchang 5 percent         2.0  \n",
       "\n",
       "[1493 rows x 6 columns]"
      ]
     },
     "execution_count": 127,
     "metadata": {},
     "output_type": "execute_result"
    }
   ],
   "source": [
    "df"
   ]
  },
  {
   "cell_type": "code",
   "execution_count": 70,
   "metadata": {},
   "outputs": [],
   "source": [
    "ec_sit_topics = [0,3,6,8,12]\n",
    "\n",
    "maybe = [4,9,11,13,14]\n",
    "less_sure = [10]"
   ]
  },
  {
   "cell_type": "code",
   "execution_count": 72,
   "metadata": {},
   "outputs": [],
   "source": [
    "contraction_words = ['decreas', 'decelerat', 'slow', 'weak', 'low', 'loss', 'contract', 'moder', 'subdu', 'fall', 'slower', 'weaker', 'soften', 'deceler', 'cool']\n",
    "expansion_words = ['increas', 'accelerat', 'fast', 'strong', 'high', 'gain', 'expand', 'improv', 'foster', 'rise', 'risen', 'higher', 'acceler', 'faster', 'strength']"
   ]
  },
  {
   "cell_type": "code",
   "execution_count": 128,
   "metadata": {},
   "outputs": [],
   "source": [
    "def count_positive(tokens):\n",
    "    count = 0\n",
    "    for token in tokens:\n",
    "        if token in expansion_words:\n",
    "            count += 1\n",
    "    return count"
   ]
  },
  {
   "cell_type": "code",
   "execution_count": 129,
   "metadata": {},
   "outputs": [],
   "source": [
    "def count_negative(tokens):\n",
    "    count = 0\n",
    "    for token in tokens:\n",
    "        if token in contraction_words:\n",
    "            count += 1\n",
    "    return count"
   ]
  },
  {
   "cell_type": "code",
   "execution_count": 130,
   "metadata": {},
   "outputs": [],
   "source": [
    "def total_positive(series):\n",
    "    return reduce(lambda x, y : x + count_positive(y), series, 0)"
   ]
  },
  {
   "cell_type": "code",
   "execution_count": 131,
   "metadata": {},
   "outputs": [],
   "source": [
    "def total_negative(series):\n",
    "    return reduce(lambda x, y : x + count_negative(y), series, 0)"
   ]
  },
  {
   "cell_type": "code",
   "execution_count": 132,
   "metadata": {},
   "outputs": [],
   "source": [
    "ecsit_sents = df[df['topic_crit'].isin(ec_sit_topics)]"
   ]
  },
  {
   "cell_type": "code",
   "execution_count": 123,
   "metadata": {},
   "outputs": [],
   "source": [
    "def test(x):\n",
    "    print(x)\n",
    "    print(len(x))\n",
    "    return len(x)"
   ]
  },
  {
   "cell_type": "code",
   "execution_count": 134,
   "metadata": {},
   "outputs": [
    {
     "name": "stderr",
     "output_type": "stream",
     "text": [
      "/tmp/ipykernel_31663/1012916860.py:1: SettingWithCopyWarning: \n",
      "A value is trying to be set on a copy of a slice from a DataFrame.\n",
      "Try using .loc[row_indexer,col_indexer] = value instead\n",
      "\n",
      "See the caveats in the documentation: https://pandas.pydata.org/pandas-docs/stable/user_guide/indexing.html#returning-a-view-versus-a-copy\n",
      "  ecsit_sents['sent_length'] = ecsit_sents['raw_tokens'].apply(len)\n"
     ]
    }
   ],
   "source": [
    "ecsit_sents['sent_length'] = ecsit_sents['raw_tokens'].apply(len)"
   ]
  },
  {
   "cell_type": "code",
   "execution_count": 135,
   "metadata": {},
   "outputs": [
    {
     "data": {
      "text/html": [
       "<div>\n",
       "<style scoped>\n",
       "    .dataframe tbody tr th:only-of-type {\n",
       "        vertical-align: middle;\n",
       "    }\n",
       "\n",
       "    .dataframe tbody tr th {\n",
       "        vertical-align: top;\n",
       "    }\n",
       "\n",
       "    .dataframe thead th {\n",
       "        text-align: right;\n",
       "    }\n",
       "</style>\n",
       "<table border=\"1\" class=\"dataframe\">\n",
       "  <thead>\n",
       "    <tr style=\"text-align: right;\">\n",
       "      <th></th>\n",
       "      <th>tokens</th>\n",
       "      <th>statement_index</th>\n",
       "      <th>raw_tokens</th>\n",
       "      <th>topic_gen</th>\n",
       "      <th>text</th>\n",
       "      <th>topic_crit</th>\n",
       "      <th>sent_length</th>\n",
       "    </tr>\n",
       "  </thead>\n",
       "  <tbody>\n",
       "    <tr>\n",
       "      <th>1</th>\n",
       "      <td>[balanc, labor, market, condit, improv, somewh...</td>\n",
       "      <td>0</td>\n",
       "      <td>[On, balance, ,, labor, market, conditions, im...</td>\n",
       "      <td>4.0</td>\n",
       "      <td>balanc labor market condit improv somewhat how...</td>\n",
       "      <td>12.0</td>\n",
       "      <td>35</td>\n",
       "    </tr>\n",
       "    <tr>\n",
       "      <th>2</th>\n",
       "      <td>[household, spend, appear, rise, moder, busi, ...</td>\n",
       "      <td>0</td>\n",
       "      <td>[Household, spending, appears, to, be, rising,...</td>\n",
       "      <td>8.0</td>\n",
       "      <td>household spend appear rise moder busi fix inv...</td>\n",
       "      <td>8.0</td>\n",
       "      <td>24</td>\n",
       "    </tr>\n",
       "    <tr>\n",
       "      <th>3</th>\n",
       "      <td>[fiscal, polici, restrain, econom, growth, alt...</td>\n",
       "      <td>0</td>\n",
       "      <td>[Fiscal, policy, is, restraining, economic, gr...</td>\n",
       "      <td>0.0</td>\n",
       "      <td>fiscal polici restrain econom growth although ...</td>\n",
       "      <td>0.0</td>\n",
       "      <td>15</td>\n",
       "    </tr>\n",
       "    <tr>\n",
       "      <th>7</th>\n",
       "      <td>[committe, expect, appropri, polici, accommod,...</td>\n",
       "      <td>0</td>\n",
       "      <td>[The, Committee, expects, that, ,, with, appro...</td>\n",
       "      <td>4.0</td>\n",
       "      <td>committe expect appropri polici accommod econo...</td>\n",
       "      <td>12.0</td>\n",
       "      <td>37</td>\n",
       "    </tr>\n",
       "    <tr>\n",
       "      <th>8</th>\n",
       "      <td>[committe, see, risk, outlook, econom, activ, ...</td>\n",
       "      <td>0</td>\n",
       "      <td>[The, Committee, sees, the, risks, to, the, ou...</td>\n",
       "      <td>0.0</td>\n",
       "      <td>committe see risk outlook econom activ labor m...</td>\n",
       "      <td>6.0</td>\n",
       "      <td>38</td>\n",
       "    </tr>\n",
       "    <tr>\n",
       "      <th>...</th>\n",
       "      <td>...</td>\n",
       "      <td>...</td>\n",
       "      <td>...</td>\n",
       "      <td>...</td>\n",
       "      <td>...</td>\n",
       "      <td>...</td>\n",
       "      <td>...</td>\n",
       "    </tr>\n",
       "    <tr>\n",
       "      <th>1472</th>\n",
       "      <td>[trend, increas, cost, core, price, gener, rem...</td>\n",
       "      <td>174</td>\n",
       "      <td>[Trend, increases, in, costs, and, core, price...</td>\n",
       "      <td>3.0</td>\n",
       "      <td>trend increas cost core price gener remain qui...</td>\n",
       "      <td>8.0</td>\n",
       "      <td>13</td>\n",
       "    </tr>\n",
       "    <tr>\n",
       "      <th>1473</th>\n",
       "      <td>[domest, financi, market, recov, foreign, econ...</td>\n",
       "      <td>174</td>\n",
       "      <td>[But, domestic, financial, markets, have, reco...</td>\n",
       "      <td>0.0</td>\n",
       "      <td>domest financi market recov foreign econom pro...</td>\n",
       "      <td>12.0</td>\n",
       "      <td>21</td>\n",
       "    </tr>\n",
       "    <tr>\n",
       "      <th>1474</th>\n",
       "      <td>[background, alreadytight, domest, labor, mark...</td>\n",
       "      <td>174</td>\n",
       "      <td>[Against, the, background, of, already-tight, ...</td>\n",
       "      <td>3.0</td>\n",
       "      <td>background alreadytight domest labor market on...</td>\n",
       "      <td>12.0</td>\n",
       "      <td>47</td>\n",
       "    </tr>\n",
       "    <tr>\n",
       "      <th>1486</th>\n",
       "      <td>[backdrop, eas, stanc, monetari, polici, judg,...</td>\n",
       "      <td>177</td>\n",
       "      <td>[Against, this, backdrop, ,, further, easing, ...</td>\n",
       "      <td>0.0</td>\n",
       "      <td>backdrop eas stanc monetari polici judg warran...</td>\n",
       "      <td>3.0</td>\n",
       "      <td>28</td>\n",
       "    </tr>\n",
       "    <tr>\n",
       "      <th>1490</th>\n",
       "      <td>[action, taken, cushion, effect, prospect, eco...</td>\n",
       "      <td>179</td>\n",
       "      <td>[The, action, was, taken, to, cushion, the, ef...</td>\n",
       "      <td>0.0</td>\n",
       "      <td>action taken cushion effect prospect econom gr...</td>\n",
       "      <td>3.0</td>\n",
       "      <td>30</td>\n",
       "    </tr>\n",
       "  </tbody>\n",
       "</table>\n",
       "<p>468 rows × 7 columns</p>\n",
       "</div>"
      ],
      "text/plain": [
       "                                                 tokens  statement_index  \\\n",
       "1     [balanc, labor, market, condit, improv, somewh...                0   \n",
       "2     [household, spend, appear, rise, moder, busi, ...                0   \n",
       "3     [fiscal, polici, restrain, econom, growth, alt...                0   \n",
       "7     [committe, expect, appropri, polici, accommod,...                0   \n",
       "8     [committe, see, risk, outlook, econom, activ, ...                0   \n",
       "...                                                 ...              ...   \n",
       "1472  [trend, increas, cost, core, price, gener, rem...              174   \n",
       "1473  [domest, financi, market, recov, foreign, econ...              174   \n",
       "1474  [background, alreadytight, domest, labor, mark...              174   \n",
       "1486  [backdrop, eas, stanc, monetari, polici, judg,...              177   \n",
       "1490  [action, taken, cushion, effect, prospect, eco...              179   \n",
       "\n",
       "                                             raw_tokens  topic_gen  \\\n",
       "1     [On, balance, ,, labor, market, conditions, im...        4.0   \n",
       "2     [Household, spending, appears, to, be, rising,...        8.0   \n",
       "3     [Fiscal, policy, is, restraining, economic, gr...        0.0   \n",
       "7     [The, Committee, expects, that, ,, with, appro...        4.0   \n",
       "8     [The, Committee, sees, the, risks, to, the, ou...        0.0   \n",
       "...                                                 ...        ...   \n",
       "1472  [Trend, increases, in, costs, and, core, price...        3.0   \n",
       "1473  [But, domestic, financial, markets, have, reco...        0.0   \n",
       "1474  [Against, the, background, of, already-tight, ...        3.0   \n",
       "1486  [Against, this, backdrop, ,, further, easing, ...        0.0   \n",
       "1490  [The, action, was, taken, to, cushion, the, ef...        0.0   \n",
       "\n",
       "                                                   text  topic_crit  \\\n",
       "1     balanc labor market condit improv somewhat how...        12.0   \n",
       "2     household spend appear rise moder busi fix inv...         8.0   \n",
       "3     fiscal polici restrain econom growth although ...         0.0   \n",
       "7     committe expect appropri polici accommod econo...        12.0   \n",
       "8     committe see risk outlook econom activ labor m...         6.0   \n",
       "...                                                 ...         ...   \n",
       "1472  trend increas cost core price gener remain qui...         8.0   \n",
       "1473  domest financi market recov foreign econom pro...        12.0   \n",
       "1474  background alreadytight domest labor market on...        12.0   \n",
       "1486  backdrop eas stanc monetari polici judg warran...         3.0   \n",
       "1490  action taken cushion effect prospect econom gr...         3.0   \n",
       "\n",
       "      sent_length  \n",
       "1              35  \n",
       "2              24  \n",
       "3              15  \n",
       "7              37  \n",
       "8              38  \n",
       "...           ...  \n",
       "1472           13  \n",
       "1473           21  \n",
       "1474           47  \n",
       "1486           28  \n",
       "1490           30  \n",
       "\n",
       "[468 rows x 7 columns]"
      ]
     },
     "execution_count": 135,
     "metadata": {},
     "output_type": "execute_result"
    }
   ],
   "source": [
    "ecsit_sents"
   ]
  },
  {
   "cell_type": "code",
   "execution_count": 136,
   "metadata": {},
   "outputs": [],
   "source": [
    "ecsit_agg = ecsit_sents.groupby('statement_index').agg(positive=('tokens', total_positive), negative=('tokens', total_negative), length=('sent_length', sum))"
   ]
  },
  {
   "cell_type": "code",
   "execution_count": 137,
   "metadata": {},
   "outputs": [],
   "source": [
    "ecsit_agg['sentiment'] = (ecsit_agg['positive'] - ecsit_agg['negative']) / ecsit_agg['length']"
   ]
  },
  {
   "cell_type": "code",
   "execution_count": 138,
   "metadata": {},
   "outputs": [
    {
     "data": {
      "text/html": [
       "<div>\n",
       "<style scoped>\n",
       "    .dataframe tbody tr th:only-of-type {\n",
       "        vertical-align: middle;\n",
       "    }\n",
       "\n",
       "    .dataframe tbody tr th {\n",
       "        vertical-align: top;\n",
       "    }\n",
       "\n",
       "    .dataframe thead th {\n",
       "        text-align: right;\n",
       "    }\n",
       "</style>\n",
       "<table border=\"1\" class=\"dataframe\">\n",
       "  <thead>\n",
       "    <tr style=\"text-align: right;\">\n",
       "      <th></th>\n",
       "      <th>positive</th>\n",
       "      <th>negative</th>\n",
       "      <th>length</th>\n",
       "      <th>sentiment</th>\n",
       "    </tr>\n",
       "    <tr>\n",
       "      <th>statement_index</th>\n",
       "      <th></th>\n",
       "      <th></th>\n",
       "      <th></th>\n",
       "      <th></th>\n",
       "    </tr>\n",
       "  </thead>\n",
       "  <tbody>\n",
       "    <tr>\n",
       "      <th>0</th>\n",
       "      <td>5</td>\n",
       "      <td>3</td>\n",
       "      <td>172</td>\n",
       "      <td>0.011628</td>\n",
       "    </tr>\n",
       "    <tr>\n",
       "      <th>2</th>\n",
       "      <td>6</td>\n",
       "      <td>3</td>\n",
       "      <td>206</td>\n",
       "      <td>0.014563</td>\n",
       "    </tr>\n",
       "    <tr>\n",
       "      <th>3</th>\n",
       "      <td>7</td>\n",
       "      <td>3</td>\n",
       "      <td>183</td>\n",
       "      <td>0.021858</td>\n",
       "    </tr>\n",
       "    <tr>\n",
       "      <th>4</th>\n",
       "      <td>7</td>\n",
       "      <td>2</td>\n",
       "      <td>186</td>\n",
       "      <td>0.026882</td>\n",
       "    </tr>\n",
       "    <tr>\n",
       "      <th>5</th>\n",
       "      <td>6</td>\n",
       "      <td>2</td>\n",
       "      <td>181</td>\n",
       "      <td>0.022099</td>\n",
       "    </tr>\n",
       "    <tr>\n",
       "      <th>...</th>\n",
       "      <td>...</td>\n",
       "      <td>...</td>\n",
       "      <td>...</td>\n",
       "      <td>...</td>\n",
       "    </tr>\n",
       "    <tr>\n",
       "      <th>170</th>\n",
       "      <td>1</td>\n",
       "      <td>1</td>\n",
       "      <td>53</td>\n",
       "      <td>0.000000</td>\n",
       "    </tr>\n",
       "    <tr>\n",
       "      <th>172</th>\n",
       "      <td>0</td>\n",
       "      <td>0</td>\n",
       "      <td>83</td>\n",
       "      <td>0.000000</td>\n",
       "    </tr>\n",
       "    <tr>\n",
       "      <th>174</th>\n",
       "      <td>4</td>\n",
       "      <td>2</td>\n",
       "      <td>81</td>\n",
       "      <td>0.024691</td>\n",
       "    </tr>\n",
       "    <tr>\n",
       "      <th>177</th>\n",
       "      <td>0</td>\n",
       "      <td>0</td>\n",
       "      <td>28</td>\n",
       "      <td>0.000000</td>\n",
       "    </tr>\n",
       "    <tr>\n",
       "      <th>179</th>\n",
       "      <td>1</td>\n",
       "      <td>1</td>\n",
       "      <td>30</td>\n",
       "      <td>0.000000</td>\n",
       "    </tr>\n",
       "  </tbody>\n",
       "</table>\n",
       "<p>126 rows × 4 columns</p>\n",
       "</div>"
      ],
      "text/plain": [
       "                 positive  negative  length  sentiment\n",
       "statement_index                                       \n",
       "0                       5         3     172   0.011628\n",
       "2                       6         3     206   0.014563\n",
       "3                       7         3     183   0.021858\n",
       "4                       7         2     186   0.026882\n",
       "5                       6         2     181   0.022099\n",
       "...                   ...       ...     ...        ...\n",
       "170                     1         1      53   0.000000\n",
       "172                     0         0      83   0.000000\n",
       "174                     4         2      81   0.024691\n",
       "177                     0         0      28   0.000000\n",
       "179                     1         1      30   0.000000\n",
       "\n",
       "[126 rows x 4 columns]"
      ]
     },
     "execution_count": 138,
     "metadata": {},
     "output_type": "execute_result"
    }
   ],
   "source": [
    "ecsit_agg"
   ]
  },
  {
   "cell_type": "code",
   "execution_count": 139,
   "metadata": {},
   "outputs": [
    {
     "data": {
      "text/plain": [
       "(array([ 4.,  7., 10., 19., 35., 25., 15.,  7.,  1.,  3.]),\n",
       " array([-0.04109589, -0.03181389, -0.02253188, -0.01324988, -0.00396788,\n",
       "         0.00531412,  0.01459613,  0.02387813,  0.03316013,  0.04244214,\n",
       "         0.05172414]),\n",
       " <BarContainer object of 10 artists>)"
      ]
     },
     "execution_count": 139,
     "metadata": {},
     "output_type": "execute_result"
    },
    {
     "data": {
      "image/png": "[encoded data removed]",
      "text/plain": [
       "<Figure size 640x480 with 1 Axes>"
      ]
     },
     "metadata": {},
     "output_type": "display_data"
    }
   ],
   "source": [
    "res = ecsit_agg.reset_index()\n",
    "\n",
    "plt.hist(res['sentiment'])"
   ]
  },
  {
   "cell_type": "code",
   "execution_count": 140,
   "metadata": {},
   "outputs": [
    {
     "data": {
      "text/plain": [
       "[<matplotlib.lines.Line2D at 0x7fbb0f477050>]"
      ]
     },
     "execution_count": 140,
     "metadata": {},
     "output_type": "execute_result"
    },
    {
     "data": {
      "image/png": "[encoded data removed]",
      "text/plain": [
       "<Figure size 640x480 with 1 Axes>"
      ]
     },
     "metadata": {},
     "output_type": "display_data"
    }
   ],
   "source": [
    "plt.plot(res['statement_index'], res['sentiment'])"
   ]
  },
  {
   "cell_type": "code",
   "execution_count": 141,
   "metadata": {},
   "outputs": [],
   "source": [
    "stat_df = pd.read_csv('statements.csv')"
   ]
  },
  {
   "cell_type": "code",
   "execution_count": 142,
   "metadata": {},
   "outputs": [],
   "source": [
    "stat_df = stat_df[~stat_df['title'].duplicated()]"
   ]
  },
  {
   "cell_type": "code",
   "execution_count": 143,
   "metadata": {},
   "outputs": [],
   "source": [
    "stat_df.rename(columns={'Unnamed: 0': 'statement_index'}, inplace=True)"
   ]
  },
  {
   "cell_type": "code",
   "execution_count": 144,
   "metadata": {},
   "outputs": [],
   "source": [
    "ecsit_agg['title'] = stat_df['title']"
   ]
  },
  {
   "cell_type": "code",
   "execution_count": 145,
   "metadata": {},
   "outputs": [],
   "source": [
    "ecsit_agg['date'] = ecsit_agg['title'].apply(lambda x : x.split(' ')[-1])"
   ]
  },
  {
   "cell_type": "code",
   "execution_count": 146,
   "metadata": {},
   "outputs": [],
   "source": [
    "ecsit_agg['date'] = pd.to_datetime(ecsit_agg['date'])"
   ]
  },
  {
   "cell_type": "code",
   "execution_count": 147,
   "metadata": {},
   "outputs": [
    {
     "data": {
      "text/plain": [
       "<Axes: xlabel='date'>"
      ]
     },
     "execution_count": 147,
     "metadata": {},
     "output_type": "execute_result"
    },
    {
     "data": {
      "image/png": "[encoded data removed]",
      "text/plain": [
       "<Figure size 640x480 with 1 Axes>"
      ]
     },
     "metadata": {},
     "output_type": "display_data"
    }
   ],
   "source": [
    "ecsit_agg.plot('date', 'sentiment')"
   ]
  }
 ],
 "metadata": {
  "kernelspec": {
   "display_name": "fed-nlp",
   "language": "python",
   "name": "python3"
  },
  "language_info": {
   "codemirror_mode": {
    "name": "ipython",
    "version": 3
   },
   "file_extension": ".py",
   "mimetype": "text/x-python",
   "name": "python",
   "nbconvert_exporter": "python",
   "pygments_lexer": "ipython3",
   "version": "3.11.4"
  },
  "orig_nbformat": 4
 },
 "nbformat": 4,
 "nbformat_minor": 2
}
