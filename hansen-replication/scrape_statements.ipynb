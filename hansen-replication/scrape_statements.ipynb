{
 "cells": [
  {
   "cell_type": "markdown",
   "metadata": {},
   "source": [
    "# Scraping FOMC Policy Statements"
   ]
  },
  {
   "cell_type": "code",
   "execution_count": 213,
   "metadata": {},
   "outputs": [],
   "source": [
    "import requests\n",
    "from bs4 import BeautifulSoup\n",
    "import bs4\n",
    "import random\n",
    "import time\n",
    "import pandas as pd\n",
    "import re\n",
    "import numpy as np"
   ]
  },
  {
   "cell_type": "markdown",
   "metadata": {},
   "source": [
    "I imitate a request from a normal user by taking the headers from one of my requests to the Fed website and using these in my subsequent requests. For whatever reason, my normal way of grabbing request headers did not work, but the version I got from [curlconverter.com](https://curlconverter.com/) seemed to work fine."
   ]
  },
  {
   "cell_type": "code",
   "execution_count": 2,
   "metadata": {},
   "outputs": [],
   "source": [
    "cookies = {\n",
    "    'JSESSIONID': '3BEF2ACFDAA5C6A04A42198CA8E30A44',\n",
    "    'ak_bmsc': 'E8CCCEB6062513F0289F84F4C0AC2A30~000000000000000000000000000000~YAAQxh/XF4DVSpiKAQAAndeFuRXWl6BZ43njAtjeko96aLJCSlOQcL+hjKC0K+Zp4WBwHxqgUcASS3+2/hmVzotCS9gKN3OP/KFfWbhtYhySxbcnKCZxuRUrmWhQeISO9sWACxxUkrbX4MUnVa64RKJqELkuMB4KY2euSnJ+UqrZTfm038LAPx9gFiNeLDxY8G7NeskPdBQDQFGM+a513Igxog+mP78sxWqB3XfC3DPzZ5R+5MWrt/pSX3+hEg3AOHtR2KULGZxzXobCY+g90+1rtLmLwlpsk4Z0v/p9xo2sZGaXtxzOgiZ1G5LIuKAVHaPPH+wISJBIKlDV6IAQ1/3v9fRAoOL8WzVElDtAxJOGnyxM9HPUPFGkikNemAkFj9C5irHbKNiL17ucxcbU',\n",
    "    'bm_sv': '1F00644910C6E626FD359D1B33690F6B~YAAQ1mrcF4eod5CKAQAAnyOvuRVFZ516Gq+KLXMdGVaehSXqBISu+cS0nofU6GQcJYx3ZxCnEtJyrBNbZIOz5ywU3TTNt8RgFrYnMlLkQveQxe7pEUmjh/S1ksPOc5bkRaUk72hFkbNz4Y/LYRFMDn9vCZt3V9ZgR9NSfFSiyCtf2eTeTtwQagK0An/C841QN1AEe6kCukrHHZnQhJMjfjyMjUHQHvYznJTzkpe0/W0Czo6Wcg9VBZLvuaGoyU5vZgzY+A==~1',\n",
    "    'cookiesession1': '678A3E44D8504EE07ECF240D79740297',\n",
    "}\n",
    "\n",
    "headers = {\n",
    "    'User-Agent': 'Mozilla/5.0 (X11; Ubuntu; Linux x86_64; rv:109.0) Gecko/20100101 Firefox/117.0',\n",
    "    'Accept': 'text/html,application/xhtml+xml,application/xml;q=0.9,image/avif,image/webp,*/*;q=0.8',\n",
    "    'Accept-Language': 'en-US,en;q=0.5',\n",
    "    # 'Accept-Encoding': 'gzip, deflate, br',\n",
    "    'Referer': 'https://www.fedsearch.org/fomc-docs/search?advanced_search=true&from_year=1998&search_precision=All+Words&start=180&sort=Most+Recent+First&to_month=9&to_year=2014&number=10&fomc_document_type=policystatement&Search=Search&text=&from_month=3',\n",
    "    'Connection': 'keep-alive',\n",
    "    # 'Cookie': 'JSESSIONID=3BEF2ACFDAA5C6A04A42198CA8E30A44; ak_bmsc=E8CCCEB6062513F0289F84F4C0AC2A30~000000000000000000000000000000~YAAQxh/XF4DVSpiKAQAAndeFuRXWl6BZ43njAtjeko96aLJCSlOQcL+hjKC0K+Zp4WBwHxqgUcASS3+2/hmVzotCS9gKN3OP/KFfWbhtYhySxbcnKCZxuRUrmWhQeISO9sWACxxUkrbX4MUnVa64RKJqELkuMB4KY2euSnJ+UqrZTfm038LAPx9gFiNeLDxY8G7NeskPdBQDQFGM+a513Igxog+mP78sxWqB3XfC3DPzZ5R+5MWrt/pSX3+hEg3AOHtR2KULGZxzXobCY+g90+1rtLmLwlpsk4Z0v/p9xo2sZGaXtxzOgiZ1G5LIuKAVHaPPH+wISJBIKlDV6IAQ1/3v9fRAoOL8WzVElDtAxJOGnyxM9HPUPFGkikNemAkFj9C5irHbKNiL17ucxcbU; bm_sv=1F00644910C6E626FD359D1B33690F6B~YAAQ1mrcF4eod5CKAQAAnyOvuRVFZ516Gq+KLXMdGVaehSXqBISu+cS0nofU6GQcJYx3ZxCnEtJyrBNbZIOz5ywU3TTNt8RgFrYnMlLkQveQxe7pEUmjh/S1ksPOc5bkRaUk72hFkbNz4Y/LYRFMDn9vCZt3V9ZgR9NSfFSiyCtf2eTeTtwQagK0An/C841QN1AEe6kCukrHHZnQhJMjfjyMjUHQHvYznJTzkpe0/W0Czo6Wcg9VBZLvuaGoyU5vZgzY+A==~1; cookiesession1=678A3E44D8504EE07ECF240D79740297',\n",
    "    'Upgrade-Insecure-Requests': '1',\n",
    "    'Sec-Fetch-Dest': 'document',\n",
    "    'Sec-Fetch-Mode': 'navigate',\n",
    "    'Sec-Fetch-Site': 'same-origin',\n",
    "    'Sec-Fetch-User': '?1',\n",
    "    'Pragma': 'no-cache',\n",
    "    'Cache-Control': 'no-cache',\n",
    "}"
   ]
  },
  {
   "cell_type": "markdown",
   "metadata": {},
   "source": [
    "Now, I once again rely on CurlConverter to get the request parameters from the page, keeping the year restriction parameters and varying the `start` parameter to get links to policy statements in groups of 10. I use BeautifulSoup to find the elements of interest: a \"type\" field which happens to contain the date, and a separate anchor tag that contains a link to the speech."
   ]
  },
  {
   "cell_type": "code",
   "execution_count": null,
   "metadata": {},
   "outputs": [],
   "source": [
    "\n",
    "def fetch_speeches(offset):\n",
    "    params = {\n",
    "        'advanced_search': 'true',\n",
    "        'from_year': '1998',\n",
    "        'search_precision': 'All Words',\n",
    "        'start': str(offset),\n",
    "        'sort': 'Most Recent First',\n",
    "        'to_month': '9',\n",
    "        'to_year': '2014',\n",
    "        'number': '10',\n",
    "        'fomc_document_type': 'policystatement',\n",
    "        'Search': 'Search',\n",
    "        'text': '',\n",
    "        'from_month': '3',\n",
    "    }\n",
    "\n",
    "    response = requests.get('https://www.fedsearch.org/fomc-docs/search', params=params, cookies=cookies, headers=headers)\n",
    "    soup = BeautifulSoup(response.text)\n",
    "\n",
    "    \n",
    "    speeches = soup.find('div', id='pagenav').find_all_next('strong')\n",
    "\n",
    "    urls = []\n",
    "    for speech in speeches:\n",
    "        record = {}\n",
    "        if speech.find('a') is None:\n",
    "            continue\n",
    "        url = speech.find('a')['href']\n",
    "        urls.append(url)\n",
    "\n",
    "    type_elems = soup.find('div', id='pagenav').find_all_next('span', {'class': 'greentext'})\n",
    "\n",
    "    types = []\n",
    "    for type_elem in type_elems:\n",
    "        oneline = type_elem.text.replace('\\t', '').replace('\\r', '').replace('\\n', '')\n",
    "        type_text = re.search('Type: (.*) \\(', oneline).group(1).strip()\n",
    "        types.append(type_text)\n",
    "\n",
    "    records = []\n",
    "    for url, type_elem in zip(urls, types):\n",
    "        records.append({'url': url, 'title': type_elem})\n",
    "    return records"
   ]
  },
  {
   "cell_type": "markdown",
   "metadata": {},
   "source": [
    "Here I test the function above to make sure it is working correctly."
   ]
  },
  {
   "cell_type": "code",
   "execution_count": 3,
   "metadata": {},
   "outputs": [
    {
     "data": {
      "text/plain": [
       "[{'url': 'https://www.federalreserve.gov/boarddocs/press/general/1999/19990824/',\n",
       "  'title': 'Policy Statement on 08/24/1999'},\n",
       " {'url': 'https://www.federalreserve.gov/boarddocs/press/general/1999/19990824/default.htm',\n",
       "  'title': 'Policy Statement on 08/24/1999'},\n",
       " {'url': 'https://www.federalreserve.gov/boarddocs/press/general/1999/19990630/',\n",
       "  'title': 'Policy Statement on 06/30/1999'},\n",
       " {'url': 'https://www.federalreserve.gov/boarddocs/press/general/1999/19990630/default.htm',\n",
       "  'title': 'Policy Statement on 06/30/1999'},\n",
       " {'url': 'https://www.federalreserve.gov/boarddocs/press/general/1999/19990518/',\n",
       "  'title': 'Policy Statement on 05/18/1999'},\n",
       " {'url': 'https://www.federalreserve.gov/boarddocs/press/general/1998/19981117/',\n",
       "  'title': 'Policy Statement on 11/17/1998'},\n",
       " {'url': 'https://www.federalreserve.gov/boarddocs/press/general/1998/19981117/default.htm',\n",
       "  'title': 'Policy Statement on 11/17/1998'},\n",
       " {'url': 'https://www.federalreserve.gov/boarddocs/press/general/1998/19981015/',\n",
       "  'title': 'Policy Statement on 10/15/1998'},\n",
       " {'url': 'https://www.federalreserve.gov/boarddocs/press/general/1998/19981015/default.htm',\n",
       "  'title': 'Policy Statement on 10/15/1998'},\n",
       " {'url': 'https://www.federalreserve.gov/boarddocs/press/general/1998/19980929/',\n",
       "  'title': 'Policy Statement on 09/29/1998'}]"
      ]
     },
     "execution_count": 3,
     "metadata": {},
     "output_type": "execute_result"
    }
   ],
   "source": [
    "fetch_speeches(170)"
   ]
  },
  {
   "cell_type": "markdown",
   "metadata": {},
   "source": [
    "Now, I repeat this over 19 times to get all 181 policy statements (there are some that are posted multiple times, which I deal with later). As always, I make sure to put a delay between requests to be courteous to the website administrators."
   ]
  },
  {
   "cell_type": "code",
   "execution_count": null,
   "metadata": {},
   "outputs": [],
   "source": [
    "records = []\n",
    "\n",
    "for i in range(19):\n",
    "    time.sleep(random.random() * 5  + 5)\n",
    "    print(i)\n",
    "    records = records + fetch_speeches(i * 10)"
   ]
  },
  {
   "cell_type": "markdown",
   "metadata": {},
   "source": [
    "Next, I start exploring the actual links to the speeches to see how many different formats I must account for. Thankfully, there are relatively few."
   ]
  },
  {
   "cell_type": "markdown",
   "metadata": {},
   "source": [
    "I first tackled the format used most recently, using BeautifulSoup to locate the relevant text."
   ]
  },
  {
   "cell_type": "code",
   "execution_count": 349,
   "metadata": {},
   "outputs": [],
   "source": [
    "def get_format_1(url):\n",
    "    response = requests.get(url)\n",
    "    soup = BeautifulSoup(response.text)\n",
    "    paras = soup.find('div', {'id': 'article'}).find('div', {'class': 'col-xs-12 col-sm-8 col-md-8'}).find_all('p') #, {'class': None}).find_all('p')\n",
    "    # print(paras)\n",
    "    para_text = []\n",
    "    for para in paras:\n",
    "        if para.find('a') is None :\n",
    "            para_text = para_text + [para.text.strip()]\n",
    "    return para_text"
   ]
  },
  {
   "cell_type": "markdown",
   "metadata": {},
   "source": [
    "A few test cases of speeches published in this format."
   ]
  },
  {
   "cell_type": "code",
   "execution_count": 332,
   "metadata": {},
   "outputs": [
    {
     "data": {
      "text/plain": [
       "[\"Information received since the Federal Open Market Committee met in June indicates that growth in economic activity rebounded in the second quarter. Labor market conditions improved, with the unemployment rate declining further. However, a range of labor market indicators suggests that there remains significant underutilization of labor resources. Household spending appears to be rising moderately and business fixed investment is advancing, while the recovery in the housing sector remains slow. Fiscal policy is restraining economic growth, although the extent of restraint is diminishing. Inflation has moved somewhat closer to the Committee's longer-run objective. Longer-term inflation expectations have remained stable.\",\n",
       " 'Consistent with its statutory mandate, the Committee seeks to foster maximum employment and price stability. The Committee expects that, with appropriate policy accommodation, economic activity will expand at a moderate pace, with labor market indicators and inflation moving toward levels the Committee judges consistent with its dual mandate. The Committee sees the risks to the outlook for economic activity and the labor market as nearly balanced and judges that the likelihood of inflation running persistently below 2 percent has diminished somewhat.',\n",
       " \"The Committee currently judges that there is sufficient underlying strength in the broader economy to support ongoing improvement in labor market conditions. In light of the cumulative progress toward maximum employment and the improvement in the outlook for labor market conditions since the inception of the current asset purchase program, the Committee decided to make a further measured reduction in the pace of its asset purchases. Beginning in August, the Committee will add to its holdings of agency mortgage-backed securities at a pace of $10 billion per month rather than $15 billion per month, and will add to its holdings of longer-term Treasury securities at a pace of $15 billion per month rather than $20 billion per month. The Committee is maintaining its existing policy of reinvesting principal payments from its holdings of agency debt and agency mortgage-backed securities in agency mortgage-backed securities and of rolling over maturing Treasury securities at auction. The Committee's sizable and still-increasing holdings of longer-term securities should maintain downward pressure on longer-term interest rates, support mortgage markets, and help to make broader financial conditions more accommodative, which in turn should promote a stronger economic recovery and help to ensure that inflation, over time, is at the rate most consistent with the Committee's dual mandate.\",\n",
       " \"The Committee will closely monitor incoming information on economic and financial developments in coming months and will continue its purchases of Treasury and agency mortgage-backed securities, and employ its other policy tools as appropriate, until the outlook for the labor market has improved substantially in a context of price stability. If incoming information broadly supports the Committee's expectation of ongoing improvement in labor market conditions and inflation moving back toward its longer-run objective, the Committee will likely reduce the pace of asset purchases in further measured steps at future meetings. However, asset purchases are not on a preset course, and the Committee's decisions about their pace will remain contingent on the Committee's outlook for the labor market and inflation as well as its assessment of the likely efficacy and costs of such purchases.\",\n",
       " \"To support continued progress toward maximum employment and price stability, the Committee today reaffirmed its view that a highly accommodative stance of monetary policy remains appropriate. In determining how long to maintain the current 0 to 1/4 percent target range for the federal funds rate, the Committee will assess progress--both realized and expected--toward its objectives of maximum employment and 2 percent inflation. This assessment will take into account a wide range of information, including measures of labor market conditions, indicators of inflation pressures and inflation expectations, and readings on financial developments. The Committee continues to anticipate, based on its assessment of these factors, that it likely will be appropriate to maintain the current target range for the federal funds rate for a considerable time after the asset purchase program ends, especially if projected inflation continues to run below the Committee's 2 percent longer-run goal, and provided that longer-term inflation expectations remain well anchored.\",\n",
       " 'When the Committee decides to begin to remove policy accommodation, it will take a balanced approach consistent with its longer-run goals of maximum employment and inflation of 2 percent. The Committee currently anticipates that, even after employment and inflation are near mandate-consistent levels, economic conditions may, for some time, warrant keeping the target federal funds rate below levels the Committee views as normal in the longer run.',\n",
       " 'Voting for the FOMC monetary policy action were: Janet L. Yellen, Chair; William C. Dudley, Vice Chairman; Lael Brainard; Stanley Fischer; Richard W. Fisher; Narayana Kocherlakota; Loretta J. Mester; Jerome H. Powell; and Daniel K. Tarullo. Voting against was Charles I. Plosser who objected to the guidance indicating that it likely will be appropriate to maintain the current target range for the federal funds rate for \"a considerable time after the asset purchase program ends,\" because such language is time dependent and does not reflect the considerable economic progress that has been made toward the Committee\\'s goals.']"
      ]
     },
     "execution_count": 332,
     "metadata": {},
     "output_type": "execute_result"
    }
   ],
   "source": [
    "# get_format_1('https://www.federalreserve.gov/newsevents/pressreleases/monetary20090923a.htm')\n",
    "get_format_1('https://www.federalreserve.gov/newsevents/pressreleases/monetary20140730a.htm')\n",
    "# get_format_1('https://www.federalreserve.gov/newsevents/pressreleases/monetary20080916a.htm')"
   ]
  },
  {
   "cell_type": "markdown",
   "metadata": {},
   "source": [
    "Here's another test case for some of the older speeches. It turned out that I had to create three separate formats for the older speeches, as there were more frequent changes to how the speeches were formatted in these earlier years."
   ]
  },
  {
   "cell_type": "code",
   "execution_count": 348,
   "metadata": {},
   "outputs": [],
   "source": [
    "def get_format_2(url):\n",
    "    response = requests.get(url)\n",
    "    soup = BeautifulSoup(response.text)\n",
    "    elems = soup.find('table', attrs={'width': '600'})\n",
    "    paras = elems.find('p').find('p').find('p').find_all('p')\n",
    "    para_text = []\n",
    "    for elem in paras:\n",
    "        if len(re.findall('[0-9]{4} Monetary policy', elem.text)) > 0:\n",
    "            break\n",
    "        para_text.append(elem.text.strip())\n",
    "    return para_text"
   ]
  },
  {
   "cell_type": "code",
   "execution_count": 331,
   "metadata": {},
   "outputs": [
    {
     "data": {
      "text/plain": [
       "['The Federal Open Market Committee decided today to raise its target for the federal funds rate by 25 basis points to 2-3/4 percent.',\n",
       " 'The Committee believes that, even after this action, the stance of monetary policy remains accommodative and, coupled with robust underlying growth in productivity, is providing ongoing support to economic activity.  Output evidently continues to grow at a solid pace despite the rise in energy prices, and labor market conditions continue to improve gradually.  Though longer-term inflation expectations remain well contained, pressures on inflation have picked up in recent months and pricing power is more evident.  The rise in energy prices, however, has not notably fed through to core consumer prices.',\n",
       " 'The Committee perceives that, with appropriate monetary policy action, the upside and downside risks to the attainment of both sustainable growth and price stability should be kept roughly equal.  With underlying inflation expected to be contained, the Committee believes that policy accommodation can be removed at a pace that is likely to be measured.  Nonetheless, the Committee will respond to changes in economic prospects as needed to fulfill its obligation to maintain price stability.',\n",
       " 'Voting for the FOMC monetary policy action were: Alan Greenspan, Chairman;\\r\\nTimothy F. Geithner, Vice Chairman; Ben S. Bernanke; Susan S. Bies; Roger W. Ferguson, Jr.; Edward M. Gramlich; Jack Guynn; Donald L. Kohn; Michael H. Moskow; Mark W. Olson; \\r\\nAnthony M. Santomero; and Gary H. Stern.',\n",
       " 'In a related action, the Board of Governors unanimously approved a 25-basis-point increase in the discount rate to 3-3/4 percent.  In taking this action, the Board approved the requests submitted by the Boards of Directors of the Federal Reserve Banks of Boston, New York, Philadelphia, Cleveland, Richmond, Atlanta, Chicago, St. Louis, Minneapolis, and San Francisco.']"
      ]
     },
     "execution_count": 331,
     "metadata": {},
     "output_type": "execute_result"
    }
   ],
   "source": [
    "get_format_2('https://www.federalreserve.gov/boarddocs/press/monetary/2005/20050322/default.htm')\n"
   ]
  },
  {
   "cell_type": "code",
   "execution_count": 347,
   "metadata": {},
   "outputs": [],
   "source": [
    "# for use on and before aug 24 1999\n",
    "\n",
    "def get_format_3(url):\n",
    "    response = requests.get(url, 'lxml')\n",
    "    soup = BeautifulSoup(response.text)\n",
    "    td = soup.find('table', {'width': '600'}).find('td')\n",
    "    para_text = []\n",
    "    for elem in td.children:\n",
    "        if isinstance(elem, bs4.element.NavigableString):\n",
    "            para_text += [elem.text.strip()]\n",
    "        else:\n",
    "            for child in elem.children:\n",
    "                para_text += child.text.strip().split('\\r\\n\\r\\n\\t')\n",
    "        \n",
    "    return para_text"
   ]
  },
  {
   "cell_type": "code",
   "execution_count": 328,
   "metadata": {},
   "outputs": [
    {
     "name": "stdout",
     "output_type": "stream",
     "text": [
      "i\n",
      "i\n"
     ]
    },
    {
     "data": {
      "text/plain": [
       "['The Federal Open Market Committee decided today to ease the stance of monetary policy slightly, expecting the federal funds rate to decline 1/4 percentage point to around 5-1/4 percent.',\n",
       " 'The action was taken to cushion the effects on prospective economic growth in the United States of increasing weakness in foreign economies and of less accommodative financial conditions domestically.  The recent changes in the global economy and adjustments in U.S. financial markets mean that a slightly lower federal funds rate should now be consistent with keeping inflation low and sustaining economic growth going forward.',\n",
       " 'The discount rate remains unchanged at 5 percent.']"
      ]
     },
     "execution_count": 328,
     "metadata": {},
     "output_type": "execute_result"
    }
   ],
   "source": [
    "get_format_3('https://www.federalreserve.gov/boarddocs/press/general/1998/19980929/default.htm')\n",
    "# get_format_3('https://www.federalreserve.gov/boarddocs/press/general/1999/19990824/')"
   ]
  },
  {
   "cell_type": "code",
   "execution_count": 346,
   "metadata": {},
   "outputs": [],
   "source": [
    "\n",
    "def get_format_4(url):\n",
    "    response = requests.get(url)\n",
    "    soup = BeautifulSoup(response.text, 'html.parser')\n",
    "    # print(soup)\n",
    "    td = soup.find('table', {'width': '600'}).find('td')\n",
    "    para_text = []\n",
    "    para_text = [sent.strip() for sent in td.text.split('\\r\\n\\r') if sent.strip() != '']\n",
    "        \n",
    "    return para_text"
   ]
  },
  {
   "cell_type": "code",
   "execution_count": 326,
   "metadata": {},
   "outputs": [
    {
     "data": {
      "text/plain": [
       "['The Federal Open Market Committee at its meeting today decided to lower its target for the federal funds rate by 50 basis points to 5 percent. In a related action, the Board of Governors approved a 50 basis point reduction in the discount rate to 4-1/2 percent.',\n",
       " 'Persistent pressures on profit margins are restraining investment spending and, through declines in equity wealth, consumption. The associated backup in inventories has induced a rapid response in manufacturing output and, with spending having firmed a bit since last year, inventory adjustment appears to be well underway.',\n",
       " 'Although current developments do not appear to have materially diminished the prospects for long-term growth in productivity, excess productive capacity has emerged recently.  The possibility that this excess could continue for some time and the potential for weakness in global economic conditions suggest substantial risks that demand and production could remain soft.  In these circumstances, when the economic situation could be evolving rapidly, the Federal Reserve will need to monitor developments closely.',\n",
       " 'The Committee continues to believe that against the background of its long-run goals of price stability and sustainable economic growth and of the information currently available, the risks are weighted mainly toward conditions that may generate economic weakness in the foreseeable future.',\n",
       " 'In taking the discount rate action, the Federal Reserve Board approved requests submitted by the Boards of Directors of all twelve Reserve Banks.']"
      ]
     },
     "execution_count": 326,
     "metadata": {},
     "output_type": "execute_result"
    }
   ],
   "source": [
    "get_format_4('https://www.federalreserve.gov/boarddocs/press/general/2001/20010320/')\n",
    "get_format_4('https://www.federalreserve.gov/boarddocs/press/general/2000/20000628/')"
   ]
  },
  {
   "cell_type": "markdown",
   "metadata": {},
   "source": [
    "Now, I make a dataframe from the existing records which I will use to eventually store the full text versions."
   ]
  },
  {
   "cell_type": "code",
   "execution_count": null,
   "metadata": {},
   "outputs": [],
   "source": [
    "df = pd.DataFrame.from_records(records)\n",
    "# declare the text field as an object so I can store arrays of paragraphs to preserve structure\n",
    "df['text'] = None\n",
    "df['text'] = df['text'].astype('object')"
   ]
  },
  {
   "cell_type": "markdown",
   "metadata": {},
   "source": [
    "Next, I iterate through this dataframe, using the dates of format changes as landmarks to decide which format to use when extracting text from the page."
   ]
  },
  {
   "cell_type": "code",
   "execution_count": null,
   "metadata": {},
   "outputs": [],
   "source": [
    "for index, row in df.iterrows():\n",
    "    print(index)\n",
    "    time.sleep(random.random() * 4 + 4)\n",
    "    if index <= 80:\n",
    "        df['text'][index] = get_format_1(row[0])\n",
    "    elif index > 80 and index <= 92:\n",
    "        df['text'][index] = get_format_2(row[0])\n",
    "    elif index > 92 and index < 170:\n",
    "        df['text'][index] = get_format_4(row[0])\n",
    "    else:\n",
    "        df['text'][index] = get_format_3(row[0])"
   ]
  },
  {
   "cell_type": "markdown",
   "metadata": {},
   "source": [
    "Finally, I store this as a csv"
   ]
  },
  {
   "cell_type": "code",
   "execution_count": 383,
   "metadata": {},
   "outputs": [],
   "source": [
    "df.to_csv('statements.csv')"
   ]
  }
 ],
 "metadata": {
  "kernelspec": {
   "display_name": "fed-nlp",
   "language": "python",
   "name": "python3"
  },
  "language_info": {
   "codemirror_mode": {
    "name": "ipython",
    "version": 3
   },
   "file_extension": ".py",
   "mimetype": "text/x-python",
   "name": "python",
   "nbconvert_exporter": "python",
   "pygments_lexer": "ipython3",
   "version": "3.11.4"
  },
  "orig_nbformat": 4
 },
 "nbformat": 4,
 "nbformat_minor": 2
}
