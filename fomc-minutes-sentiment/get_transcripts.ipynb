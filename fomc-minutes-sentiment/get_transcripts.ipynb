{
 "cells": [
  {
   "cell_type": "code",
   "execution_count": 41,
   "metadata": {},
   "outputs": [],
   "source": [
    "\n",
    "import requests\n",
    "from bs4 import BeautifulSoup\n",
    "import bs4\n",
    "import random\n",
    "import time\n",
    "import pandas as pd\n",
    "import re\n",
    "import numpy as np\n",
    "import os"
   ]
  },
  {
   "cell_type": "code",
   "execution_count": 28,
   "metadata": {},
   "outputs": [],
   "source": [
    "base_url = 'https://www.federalreserve.gov'"
   ]
  },
  {
   "cell_type": "code",
   "execution_count": 35,
   "metadata": {},
   "outputs": [],
   "source": [
    "def get_minute_links(year):\n",
    "    url = f'{base_url}/monetarypolicy/fomchistorical{year}.htm'\n",
    "    response = requests.get(url).text\n",
    "    soup = BeautifulSoup(response)\n",
    "    # print(soup.prettify())\n",
    "    panels = soup.find_all('div', class_='panel')\n",
    "    links = []\n",
    "    for panel in panels:\n",
    "        elem = panel(text=re.compile(r'Transcript'))[0].parent\n",
    "        links.append(f'{base_url}{elem[\"href\"]}')\n",
    "    print(len(links))\n",
    "    return links"
   ]
  },
  {
   "cell_type": "code",
   "execution_count": 36,
   "metadata": {},
   "outputs": [
    {
     "name": "stdout",
     "output_type": "stream",
     "text": [
      "1999\n",
      "8\n",
      "2000\n",
      "8\n",
      "2001\n",
      "13\n",
      "2002\n",
      "8\n",
      "2003\n",
      "13\n",
      "2004\n",
      "8\n",
      "2005\n",
      "8\n",
      "2006\n",
      "8\n",
      "2007\n",
      "11\n",
      "2008\n",
      "14\n",
      "2009\n",
      "11\n",
      "2010\n",
      "10\n",
      "2011\n",
      "10\n",
      "2012\n",
      "8\n",
      "2013\n",
      "9\n",
      "2014\n",
      "9\n",
      "2015\n",
      "8\n",
      "2016\n",
      "8\n",
      "2017\n",
      "8\n",
      "180\n",
      "['https://www.federalreserve.gov/monetarypolicy/files/FOMC19990203meeting.pdf', 'https://www.federalreserve.gov/monetarypolicy/files/FOMC19990330meeting.pdf', 'https://www.federalreserve.gov/monetarypolicy/files/FOMC19990518meeting.pdf', 'https://www.federalreserve.gov/monetarypolicy/files/FOMC19990630meeting.pdf', 'https://www.federalreserve.gov/monetarypolicy/files/FOMC19990824meeting.pdf', 'https://www.federalreserve.gov/monetarypolicy/files/FOMC19991005meeting.pdf', 'https://www.federalreserve.gov/monetarypolicy/files/FOMC19991116meeting.pdf', 'https://www.federalreserve.gov/monetarypolicy/files/FOMC19991221meeting.pdf', 'https://www.federalreserve.gov/monetarypolicy/files/FOMC20000202meeting.pdf', 'https://www.federalreserve.gov/monetarypolicy/files/FOMC20000321meeting.pdf', 'https://www.federalreserve.gov/monetarypolicy/files/FOMC20000516meeting.pdf', 'https://www.federalreserve.gov/monetarypolicy/files/FOMC20000628meeting.pdf', 'https://www.federalreserve.gov/monetarypolicy/files/FOMC20000822meeting.pdf', 'https://www.federalreserve.gov/monetarypolicy/files/FOMC20001003meeting.pdf', 'https://www.federalreserve.gov/monetarypolicy/files/FOMC20001115meeting.pdf', 'https://www.federalreserve.gov/monetarypolicy/files/FOMC20001219meeting.pdf', 'https://www.federalreserve.gov/monetarypolicy/files/FOMC20010103ConfCall.pdf', 'https://www.federalreserve.gov/monetarypolicy/files/FOMC20010131meeting.pdf', 'https://www.federalreserve.gov/monetarypolicy/files/FOMC20010320meeting.pdf', 'https://www.federalreserve.gov/monetarypolicy/files/FOMC20010411ConfCall.pdf', 'https://www.federalreserve.gov/monetarypolicy/files/FOMC20010418ConfCall.pdf', 'https://www.federalreserve.gov/monetarypolicy/files/FOMC20010515meeting.pdf', 'https://www.federalreserve.gov/monetarypolicy/files/FOMC20010627meeting.pdf', 'https://www.federalreserve.gov/monetarypolicy/files/FOMC20010821meeting.pdf', 'https://www.federalreserve.gov/monetarypolicy/files/FOMC20010913ConfCall.pdf', 'https://www.federalreserve.gov/monetarypolicy/files/FOMC20010917ConfCall.pdf', 'https://www.federalreserve.gov/monetarypolicy/files/FOMC20011002meeting.pdf', 'https://www.federalreserve.gov/monetarypolicy/files/FOMC20011106meeting.pdf', 'https://www.federalreserve.gov/monetarypolicy/files/FOMC20011211meeting.pdf', 'https://www.federalreserve.gov/monetarypolicy/files/FOMC20020130meeting.pdf', 'https://www.federalreserve.gov/monetarypolicy/files/FOMC20020319meeting.pdf', 'https://www.federalreserve.gov/monetarypolicy/files/FOMC20020507meeting.pdf', 'https://www.federalreserve.gov/monetarypolicy/files/FOMC20020626meeting.pdf', 'https://www.federalreserve.gov/monetarypolicy/files/FOMC20020813meeting.pdf', 'https://www.federalreserve.gov/monetarypolicy/files/FOMC20020924meeting.pdf', 'https://www.federalreserve.gov/monetarypolicy/files/FOMC20021106meeting.pdf', 'https://www.federalreserve.gov/monetarypolicy/files/FOMC20021210meeting.pdf', 'https://www.federalreserve.gov/monetarypolicy/files/FOMC20030129meeting.pdf', 'https://www.federalreserve.gov/monetarypolicy/files/FOMC20030318meeting.pdf', 'https://www.federalreserve.gov/monetarypolicy/files/FOMC20030325confcall.pdf', 'https://www.federalreserve.gov/monetarypolicy/files/FOMC20030401confcall.pdf', 'https://www.federalreserve.gov/monetarypolicy/files/FOMC20030408confcall.pdf', 'https://www.federalreserve.gov/monetarypolicy/files/FOMC20030416confcall.pdf', 'https://www.federalreserve.gov/monetarypolicy/files/FOMC20030506meeting.pdf', 'https://www.federalreserve.gov/monetarypolicy/files/FOMC20030625meeting.pdf', 'https://www.federalreserve.gov/monetarypolicy/files/FOMC20030812meeting.pdf', 'https://www.federalreserve.gov/monetarypolicy/files/FOMC20030915meeting.pdf', 'https://www.federalreserve.gov/monetarypolicy/files/FOMC20030916meeting.pdf', 'https://www.federalreserve.gov/monetarypolicy/files/FOMC20031028meeting.pdf', 'https://www.federalreserve.gov/monetarypolicy/files/FOMC20031209meeting.pdf', 'https://www.federalreserve.gov/monetarypolicy/files/FOMC20040128meeting.pdf', 'https://www.federalreserve.gov/monetarypolicy/files/FOMC20040316meeting.pdf', 'https://www.federalreserve.gov/monetarypolicy/files/FOMC20040504meeting.pdf', 'https://www.federalreserve.gov/monetarypolicy/files/FOMC20040630meeting.pdf', 'https://www.federalreserve.gov/monetarypolicy/files/FOMC20040810meeting.pdf', 'https://www.federalreserve.gov/monetarypolicy/files/FOMC20040921meeting.pdf', 'https://www.federalreserve.gov/monetarypolicy/files/FOMC20041110meeting.pdf', 'https://www.federalreserve.gov/monetarypolicy/files/FOMC20041214meeting.pdf', 'https://www.federalreserve.gov/monetarypolicy/files/FOMC20050202meeting.pdf', 'https://www.federalreserve.gov/monetarypolicy/files/FOMC20050322meeting.pdf', 'https://www.federalreserve.gov/monetarypolicy/files/FOMC20050503meeting.pdf', 'https://www.federalreserve.gov/monetarypolicy/files/FOMC20050630meeting.pdf', 'https://www.federalreserve.gov/monetarypolicy/files/FOMC20050809meeting.pdf', 'https://www.federalreserve.gov/monetarypolicy/files/FOMC20050920meeting.pdf', 'https://www.federalreserve.gov/monetarypolicy/files/FOMC20051101meeting.pdf', 'https://www.federalreserve.gov/monetarypolicy/files/FOMC20051213meeting.pdf', 'https://www.federalreserve.gov/monetarypolicy/files/FOMC20060131meeting.pdf', 'https://www.federalreserve.gov/monetarypolicy/files/FOMC20060328meeting.pdf', 'https://www.federalreserve.gov/monetarypolicy/files/FOMC20060510meeting.pdf', 'https://www.federalreserve.gov/monetarypolicy/files/FOMC20060629meeting.pdf', 'https://www.federalreserve.gov/monetarypolicy/files/FOMC20060808meeting.pdf', 'https://www.federalreserve.gov/monetarypolicy/files/FOMC20060920meeting.pdf', 'https://www.federalreserve.gov/monetarypolicy/files/FOMC20061025meeting.pdf', 'https://www.federalreserve.gov/monetarypolicy/files/FOMC20061212meeting.pdf', 'https://www.federalreserve.gov/monetarypolicy/files/FOMC20070131meeting.pdf', 'https://www.federalreserve.gov/monetarypolicy/files/FOMC20070321meeting.pdf', 'https://www.federalreserve.gov/monetarypolicy/files/FOMC20070509meeting.pdf', 'https://www.federalreserve.gov/monetarypolicy/files/FOMC20070628meeting.pdf', 'https://www.federalreserve.gov/monetarypolicy/files/FOMC20070807meeting.pdf', 'https://www.federalreserve.gov/monetarypolicy/files/FOMC20070810confcall.pdf', 'https://www.federalreserve.gov/monetarypolicy/files/FOMC20070816confcall.pdf', 'https://www.federalreserve.gov/monetarypolicy/files/FOMC20070918meeting.pdf', 'https://www.federalreserve.gov/monetarypolicy/files/FOMC20071031meeting.pdf', 'https://www.federalreserve.gov/monetarypolicy/files/FOMC20071206confcall.pdf', 'https://www.federalreserve.gov/monetarypolicy/files/FOMC20071211meeting.pdf', 'https://www.federalreserve.gov/monetarypolicy/files/FOMC20080109confcall.pdf', 'https://www.federalreserve.gov/monetarypolicy/files/FOMC20080121confcall.pdf', 'https://www.federalreserve.gov/monetarypolicy/files/FOMC20080130meeting.pdf', 'https://www.federalreserve.gov/monetarypolicy/files/FOMC20080310confcall.pdf', 'https://www.federalreserve.gov/monetarypolicy/files/FOMC20080318meeting.pdf', 'https://www.federalreserve.gov/monetarypolicy/files/FOMC20080430meeting.pdf', 'https://www.federalreserve.gov/monetarypolicy/files/FOMC20080625meeting.pdf', 'https://www.federalreserve.gov/monetarypolicy/files/FOMC20080724confcall.pdf', 'https://www.federalreserve.gov/monetarypolicy/files/FOMC20080805meeting.pdf', 'https://www.federalreserve.gov/monetarypolicy/files/FOMC20080916meeting.pdf', 'https://www.federalreserve.gov/monetarypolicy/files/FOMC20080929confcall.pdf', 'https://www.federalreserve.gov/monetarypolicy/files/FOMC20081007confcall.pdf', 'https://www.federalreserve.gov/monetarypolicy/files/FOMC20081029meeting.pdf', 'https://www.federalreserve.gov/monetarypolicy/files/FOMC20081216meeting.pdf', 'https://www.federalreserve.gov/monetarypolicy/files/FOMC20090116confcall.pdf', 'https://www.federalreserve.gov/monetarypolicy/files/FOMC20090128meeting.pdf', 'https://www.federalreserve.gov/monetarypolicy/files/FOMC20090207confcall.pdf', 'https://www.federalreserve.gov/monetarypolicy/files/FOMC20090318meeting.pdf', 'https://www.federalreserve.gov/monetarypolicy/files/FOMC20090429meeting.pdf', 'https://www.federalreserve.gov/monetarypolicy/files/FOMC20090603confcall.pdf', 'https://www.federalreserve.gov/monetarypolicy/files/FOMC20090624meeting.pdf', 'https://www.federalreserve.gov/monetarypolicy/files/FOMC20090812meeting.pdf', 'https://www.federalreserve.gov/monetarypolicy/files/FOMC20090923meeting.pdf', 'https://www.federalreserve.gov/monetarypolicy/files/FOMC20091104meeting.pdf', 'https://www.federalreserve.gov/monetarypolicy/files/FOMC20091216meeting.pdf', 'https://www.federalreserve.gov/monetarypolicy/files/FOMC20100127meeting.pdf', 'https://www.federalreserve.gov/monetarypolicy/files/FOMC20100316meeting.pdf', 'https://www.federalreserve.gov/monetarypolicy/files/FOMC20100428meeting.pdf', 'https://www.federalreserve.gov/monetarypolicy/files/FOMC20100509confcall.pdf', 'https://www.federalreserve.gov/monetarypolicy/files/FOMC20100623meeting.pdf', 'https://www.federalreserve.gov/monetarypolicy/files/FOMC20100810meeting.pdf', 'https://www.federalreserve.gov/monetarypolicy/files/FOMC20100921meeting.pdf', 'https://www.federalreserve.gov/monetarypolicy/files/FOMC20101015confcall.pdf', 'https://www.federalreserve.gov/monetarypolicy/files/FOMC20101103meeting.pdf', 'https://www.federalreserve.gov/monetarypolicy/files/FOMC20101214meeting.pdf', 'https://www.federalreserve.gov/monetarypolicy/files/FOMC20110126meeting.pdf', 'https://www.federalreserve.gov/monetarypolicy/files/FOMC20110315meeting.pdf', 'https://www.federalreserve.gov/monetarypolicy/files/FOMC20110427meeting.pdf', 'https://www.federalreserve.gov/monetarypolicy/files/FOMC20110622meeting.pdf', 'https://www.federalreserve.gov/monetarypolicy/files/FOMC20110801confcall.pdf', 'https://www.federalreserve.gov/monetarypolicy/files/FOMC20110809meeting.pdf', 'https://www.federalreserve.gov/monetarypolicy/files/FOMC20110921meeting.pdf', 'https://www.federalreserve.gov/monetarypolicy/files/FOMC20111102meeting.pdf', 'https://www.federalreserve.gov/monetarypolicy/files/FOMC20111128confcall.pdf', 'https://www.federalreserve.gov/monetarypolicy/files/FOMC20111213meeting.pdf', 'https://www.federalreserve.gov/monetarypolicy/files/FOMC20120125meeting.pdf', 'https://www.federalreserve.gov/monetarypolicy/files/FOMC20120313meeting.pdf', 'https://www.federalreserve.gov/monetarypolicy/files/FOMC20120425meeting.pdf', 'https://www.federalreserve.gov/monetarypolicy/files/FOMC20120620meeting.pdf', 'https://www.federalreserve.gov/monetarypolicy/files/FOMC20120801meeting.pdf', 'https://www.federalreserve.gov/monetarypolicy/files/FOMC20120913meeting.pdf', 'https://www.federalreserve.gov/monetarypolicy/files/FOMC20121024meeting.pdf', 'https://www.federalreserve.gov/monetarypolicy/files/FOMC20121212meeting.pdf', 'https://www.federalreserve.gov/monetarypolicy/files/FOMC20130130meeting.pdf', 'https://www.federalreserve.gov/monetarypolicy/files/FOMC20130320meeting.pdf', 'https://www.federalreserve.gov/monetarypolicy/files/FOMC20130501meeting.pdf', 'https://www.federalreserve.gov/monetarypolicy/files/FOMC20130619meeting.pdf', 'https://www.federalreserve.gov/monetarypolicy/files/FOMC20130731meeting.pdf', 'https://www.federalreserve.gov/monetarypolicy/files/FOMC20130918meeting.pdf', 'https://www.federalreserve.gov/monetarypolicy/files/FOMC20131016confcall.pdf', 'https://www.federalreserve.gov/monetarypolicy/files/FOMC20131030meeting.pdf', 'https://www.federalreserve.gov/monetarypolicy/files/FOMC20131218meeting.pdf', 'https://www.federalreserve.gov/monetarypolicy/files/FOMC20140129meeting.pdf', 'https://www.federalreserve.gov/monetarypolicy/files/FOMC20140304confcall.pdf', 'https://www.federalreserve.gov/monetarypolicy/files/FOMC20140319meeting.pdf', 'https://www.federalreserve.gov/monetarypolicy/files/FOMC20140430meeting.pdf', 'https://www.federalreserve.gov/monetarypolicy/files/FOMC20140618meeting.pdf', 'https://www.federalreserve.gov/monetarypolicy/files/FOMC20140730meeting.pdf', 'https://www.federalreserve.gov/monetarypolicy/files/FOMC20140917meeting.pdf', 'https://www.federalreserve.gov/monetarypolicy/files/FOMC20141029meeting.pdf', 'https://www.federalreserve.gov/monetarypolicy/files/FOMC20141217meeting.pdf', 'https://www.federalreserve.gov/monetarypolicy/files/FOMC20150128meeting.pdf', 'https://www.federalreserve.gov/monetarypolicy/files/FOMC20150318meeting.pdf', 'https://www.federalreserve.gov/monetarypolicy/files/FOMC20150429meeting.pdf', 'https://www.federalreserve.gov/monetarypolicy/files/FOMC20150617meeting.pdf', 'https://www.federalreserve.gov/monetarypolicy/files/FOMC20150729meeting.pdf', 'https://www.federalreserve.gov/monetarypolicy/files/FOMC20150917meeting.pdf', 'https://www.federalreserve.gov/monetarypolicy/files/FOMC20151028meeting.pdf', 'https://www.federalreserve.gov/monetarypolicy/files/FOMC20151216meeting.pdf', 'https://www.federalreserve.gov/monetarypolicy/files/FOMC20160127meeting.pdf', 'https://www.federalreserve.gov/monetarypolicy/files/FOMC20160316meeting.pdf', 'https://www.federalreserve.gov/monetarypolicy/files/FOMC20160427meeting.pdf', 'https://www.federalreserve.gov/monetarypolicy/files/FOMC20160615meeting.pdf', 'https://www.federalreserve.gov/monetarypolicy/files/FOMC20160727meeting.pdf', 'https://www.federalreserve.gov/monetarypolicy/files/FOMC20160921meeting.pdf', 'https://www.federalreserve.gov/monetarypolicy/files/FOMC20161102meeting.pdf', 'https://www.federalreserve.gov/monetarypolicy/files/FOMC20161214meeting.pdf', 'https://www.federalreserve.gov/monetarypolicy/files/FOMC20170201meeting.pdf', 'https://www.federalreserve.gov/monetarypolicy/files/FOMC20170315meeting.pdf', 'https://www.federalreserve.gov/monetarypolicy/files/FOMC20170503meeting.pdf', 'https://www.federalreserve.gov/monetarypolicy/files/FOMC20170614meeting.pdf', 'https://www.federalreserve.gov/monetarypolicy/files/FOMC20170726meeting.pdf', 'https://www.federalreserve.gov/monetarypolicy/files/FOMC20170920meeting.pdf', 'https://www.federalreserve.gov/monetarypolicy/files/FOMC20171101meeting.pdf', 'https://www.federalreserve.gov/monetarypolicy/files/FOMC20171213meeting.pdf']\n"
     ]
    }
   ],
   "source": [
    "all_links = []\n",
    "\n",
    "for i in range(1999, 2018):\n",
    "    time.sleep(3 + random.random()* 2)\n",
    "    print(i)\n",
    "    all_links += get_minute_links(i)\n",
    "\n",
    "print(len(all_links))\n",
    "print(all_links)\n"
   ]
  },
  {
   "cell_type": "code",
   "execution_count": 47,
   "metadata": {},
   "outputs": [
    {
     "name": "stdout",
     "output_type": "stream",
     "text": [
      "0/180 documents completed.\n",
      "10/180 documents completed.\n",
      "20/180 documents completed.\n",
      "30/180 documents completed.\n",
      "40/180 documents completed.\n",
      "50/180 documents completed.\n",
      "60/180 documents completed.\n",
      "70/180 documents completed.\n",
      "80/180 documents completed.\n",
      "90/180 documents completed.\n",
      "100/180 documents completed.\n",
      "110/180 documents completed.\n",
      "120/180 documents completed.\n",
      "130/180 documents completed.\n",
      "140/180 documents completed.\n",
      "150/180 documents completed.\n",
      "160/180 documents completed.\n",
      "170/180 documents completed.\n"
     ]
    }
   ],
   "source": [
    "os.makedirs('pdfs', exist_ok=True)\n",
    "\n",
    "for i, item in enumerate(all_links):\n",
    "    if i % 10 == 0:\n",
    "        print(f'{i}/{len(all_links)} documents completed.')\n",
    "    response = requests.get(item)\n",
    "    fname = item.split('/')[-1]\n",
    "    with open(os.path.join('pdfs', fname), 'wb') as f:\n",
    "        f.write(response.content)\n",
    "    time.sleep(5 + 5 * random.random())"
   ]
  }
 ],
 "metadata": {
  "kernelspec": {
   "display_name": "fed-nlp",
   "language": "python",
   "name": "python3"
  },
  "language_info": {
   "codemirror_mode": {
    "name": "ipython",
    "version": 3
   },
   "file_extension": ".py",
   "mimetype": "text/x-python",
   "name": "python",
   "nbconvert_exporter": "python",
   "pygments_lexer": "ipython3",
   "version": "3.11.4"
  }
 },
 "nbformat": 4,
 "nbformat_minor": 2
}
