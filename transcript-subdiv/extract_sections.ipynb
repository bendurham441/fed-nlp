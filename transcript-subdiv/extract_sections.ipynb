{
 "cells": [
  {
   "cell_type": "code",
   "execution_count": 92,
   "metadata": {},
   "outputs": [],
   "source": [
    "import pandas as pd\n",
    "from thefuzz import fuzz"
   ]
  },
  {
   "cell_type": "code",
   "execution_count": 34,
   "metadata": {},
   "outputs": [],
   "source": [
    "divs = pd.read_csv('section_boundaries.csv', index_col=0)[508:]"
   ]
  },
  {
   "cell_type": "code",
   "execution_count": 35,
   "metadata": {},
   "outputs": [
    {
     "data": {
      "text/html": [
       "<div>\n",
       "<style scoped>\n",
       "    .dataframe tbody tr th:only-of-type {\n",
       "        vertical-align: middle;\n",
       "    }\n",
       "\n",
       "    .dataframe tbody tr th {\n",
       "        vertical-align: top;\n",
       "    }\n",
       "\n",
       "    .dataframe thead th {\n",
       "        text-align: right;\n",
       "    }\n",
       "</style>\n",
       "<table border=\"1\" class=\"dataframe\">\n",
       "  <thead>\n",
       "    <tr style=\"text-align: right;\">\n",
       "      <th></th>\n",
       "      <th>datecode</th>\n",
       "      <th>type</th>\n",
       "      <th>start_phrase</th>\n",
       "      <th>end_phrase</th>\n",
       "    </tr>\n",
       "  </thead>\n",
       "  <tbody>\n",
       "    <tr>\n",
       "      <th>508</th>\n",
       "      <td>20170920</td>\n",
       "      <td>FOMC2</td>\n",
       "      <td>Thank you, Madam Chair. I will be referring to...</td>\n",
       "      <td>Thank you, Madam Chair. As you noted, this vot...</td>\n",
       "    </tr>\n",
       "    <tr>\n",
       "      <th>509</th>\n",
       "      <td>20170920</td>\n",
       "      <td>FOMC1</td>\n",
       "      <td>All in favor? [Chorus of ayes] Any opposed? [N...</td>\n",
       "      <td>Well, my thanks to everyone for a rich discuss...</td>\n",
       "    </tr>\n",
       "    <tr>\n",
       "      <th>510</th>\n",
       "      <td>20171101</td>\n",
       "      <td>FOMC1</td>\n",
       "      <td>Thank you. All in favor? [Chorus of ayes] Any ...</td>\n",
       "      <td>Thank you. My thanks to everyone for a thought...</td>\n",
       "    </tr>\n",
       "    <tr>\n",
       "      <th>511</th>\n",
       "      <td>20171101</td>\n",
       "      <td>FOMC2</td>\n",
       "      <td>Good morning, everybody. Let’s get started. An...</td>\n",
       "      <td>Thank you, Madam Chair. As you indicated, this...</td>\n",
       "    </tr>\n",
       "    <tr>\n",
       "      <th>512</th>\n",
       "      <td>20171213</td>\n",
       "      <td>FOMC1</td>\n",
       "      <td>Any questions for David? [No response] Okay. S...</td>\n",
       "      <td>Thank you. Well, my thanks to everyone for a t...</td>\n",
       "    </tr>\n",
       "    <tr>\n",
       "      <th>513</th>\n",
       "      <td>20171213</td>\n",
       "      <td>FOMC2</td>\n",
       "      <td>Any questions for David? [No response] Okay. S...</td>\n",
       "      <td>Thank you, Madam Chair. The vote will be on th...</td>\n",
       "    </tr>\n",
       "  </tbody>\n",
       "</table>\n",
       "</div>"
      ],
      "text/plain": [
       "     datecode   type                                       start_phrase  \\\n",
       "508  20170920  FOMC2  Thank you, Madam Chair. I will be referring to...   \n",
       "509  20170920  FOMC1  All in favor? [Chorus of ayes] Any opposed? [N...   \n",
       "510  20171101  FOMC1  Thank you. All in favor? [Chorus of ayes] Any ...   \n",
       "511  20171101  FOMC2  Good morning, everybody. Let’s get started. An...   \n",
       "512  20171213  FOMC1  Any questions for David? [No response] Okay. S...   \n",
       "513  20171213  FOMC2  Any questions for David? [No response] Okay. S...   \n",
       "\n",
       "                                            end_phrase  \n",
       "508  Thank you, Madam Chair. As you noted, this vot...  \n",
       "509  Well, my thanks to everyone for a rich discuss...  \n",
       "510  Thank you. My thanks to everyone for a thought...  \n",
       "511  Thank you, Madam Chair. As you indicated, this...  \n",
       "512  Thank you. Well, my thanks to everyone for a t...  \n",
       "513  Thank you, Madam Chair. The vote will be on th...  "
      ]
     },
     "execution_count": 35,
     "metadata": {},
     "output_type": "execute_result"
    }
   ],
   "source": [
    "divs"
   ]
  },
  {
   "cell_type": "code",
   "execution_count": 52,
   "metadata": {},
   "outputs": [],
   "source": [
    "new = divs.pivot(index='datecode', columns='type', values=['start_phrase', 'end_phrase']).reset_index()"
   ]
  },
  {
   "cell_type": "code",
   "execution_count": 143,
   "metadata": {},
   "outputs": [],
   "source": [
    "res_dfs = []\n",
    "for group in pd.read_csv('../working-csvs/raw_transcripts.csv', index_col=0).groupby('date'):\n",
    "    datecode = int(group[0].replace('-', '')) \n",
    "    if datecode not in divs['datecode'].unique():\n",
    "        continue\n",
    "    FOMC1_bounds = [new.loc[new.datecode == datecode].start_phrase.FOMC1.iloc[0], new.loc[new.datecode == datecode].start_phrase.FOMC2.iloc[0]]\n",
    "    FOMC2_bounds = [new.loc[new.datecode == datecode].end_phrase.FOMC1.iloc[0], new.loc[new.datecode == datecode].end_phrase.FOMC2.iloc[0]]\n",
    "    sections = [FOMC1_bounds, FOMC2_bounds]\n",
    "    transc = group[1]\n",
    "    for i, section in enumerate(sections):\n",
    "        transc[f'sec{i + 1}startsim'] = transc['content'].apply(lambda x : fuzz.ratio(x, section[0]))\n",
    "        transc[f'sec{i + 1}endsim'] = transc['content'].apply(lambda x : fuzz.ratio(x, section[1]))\n",
    "    maxes = transc.idxmax(numeric_only=True)\n",
    "    FOMC1 = transc.loc[maxes.sec1startsim:maxes.sec1endsim].copy()\n",
    "    FOMC1['section'] = 1\n",
    "    FOMC2 = transc.loc[maxes.sec2startsim:maxes.sec2endsim].copy()\n",
    "    FOMC2['section'] = 2\n",
    "    result = pd.concat([FOMC1, FOMC2])\n",
    "    result = result.loc[:, ~result.columns.isin(['sec1startsim', 'sec1endsim', 'sec2startsim', 'sec2endsim'])]\n",
    "    res_dfs.append(result)"
   ]
  },
  {
   "cell_type": "code",
   "execution_count": 147,
   "metadata": {},
   "outputs": [],
   "source": [
    "pd.concat(res_dfs).to_csv('../working-csvs/raw_transcripts_sectioned.csv')"
   ]
  }
 ],
 "metadata": {
  "kernelspec": {
   "display_name": "fed-nlp",
   "language": "python",
   "name": "python3"
  },
  "language_info": {
   "codemirror_mode": {
    "name": "ipython",
    "version": 3
   },
   "file_extension": ".py",
   "mimetype": "text/x-python",
   "name": "python",
   "nbconvert_exporter": "python",
   "pygments_lexer": "ipython3",
   "version": "3.11.4"
  }
 },
 "nbformat": 4,
 "nbformat_minor": 2
}
