{
 "cells": [
  {
   "cell_type": "code",
   "execution_count": 20,
   "metadata": {},
   "outputs": [],
   "source": [
    "import os\n",
    "import pandas as pd"
   ]
  },
  {
   "cell_type": "code",
   "execution_count": 18,
   "metadata": {},
   "outputs": [],
   "source": [
    "records = []\n",
    "\n",
    "for file in os.listdir('../data-collection/pdfs/'):\n",
    "    offset = 4\n",
    "    if file[:4] != 'FOMC':\n",
    "        offset = 0\n",
    "    typecode = file[offset + 8].lower()\n",
    "    if typecode != 'm':\n",
    "        continue\n",
    "    datecode = file[offset:offset + 8]\n",
    "    typecode = file[offset + 8].lower()\n",
    "    records.extend([{'datecode': int(datecode), 'type': type} for type in ['FOMC1', 'FOMC2']])"
   ]
  },
  {
   "cell_type": "code",
   "execution_count": 30,
   "metadata": {},
   "outputs": [],
   "source": [
    "df = pd.DataFrame.from_records(records).sort_values(by='datecode').reset_index()[['datecode', 'type']]\n",
    "df.to_csv('section_boundaries_blank.csv')"
   ]
  }
 ],
 "metadata": {
  "kernelspec": {
   "display_name": "fed-nlp",
   "language": "python",
   "name": "python3"
  },
  "language_info": {
   "codemirror_mode": {
    "name": "ipython",
    "version": 3
   },
   "file_extension": ".py",
   "mimetype": "text/x-python",
   "name": "python",
   "nbconvert_exporter": "python",
   "pygments_lexer": "ipython3",
   "version": "3.11.4"
  }
 },
 "nbformat": 4,
 "nbformat_minor": 2
}
