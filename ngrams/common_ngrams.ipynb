{
 "cells": [
  {
   "cell_type": "markdown",
   "metadata": {},
   "source": [
    "# Terminology N-Gram Identification\n",
    "\n",
    "The basic idea here is to find groups of two or three words (bigrams or trigrams) which together represent some technology. As such it would be ideal to treat these groups of terms as one single token in other NLP operations. A few examples might include \"inflation expectations\" or \"unemployment rate.\" I plan on adding these ngrams to the documents.\n",
    "\n",
    "I learned about this idea from Hansen, McMahon, and Prat's 2020 paper \"Transparency and Deliberation within the FOMC: a Computational Linguistics Approach.\" These authors in turn cite Justeson and Kat'z 1995 paper \"Technical terminology: some linguistic properties and an algorithm for identification in text.\""
   ]
  },
  {
   "cell_type": "code",
   "execution_count": 6,
   "metadata": {},
   "outputs": [],
   "source": [
    "import pandas as pd\n",
    "import os\n",
    "\n",
    "from nltk import word_tokenize, pos_tag, bigrams, trigrams"
   ]
  },
  {
   "cell_type": "code",
   "execution_count": 7,
   "metadata": {},
   "outputs": [],
   "source": [
    "tdf = pd.read_csv('../working-csvs/fomc_sectioned.csv', index_col=0)"
   ]
  },
  {
   "cell_type": "code",
   "execution_count": 8,
   "metadata": {},
   "outputs": [
    {
     "data": {
      "text/html": [
       "<div>\n",
       "<style scoped>\n",
       "    .dataframe tbody tr th:only-of-type {\n",
       "        vertical-align: middle;\n",
       "    }\n",
       "\n",
       "    .dataframe tbody tr th {\n",
       "        vertical-align: top;\n",
       "    }\n",
       "\n",
       "    .dataframe thead th {\n",
       "        text-align: right;\n",
       "    }\n",
       "</style>\n",
       "<table border=\"1\" class=\"dataframe\">\n",
       "  <thead>\n",
       "    <tr style=\"text-align: right;\">\n",
       "      <th></th>\n",
       "      <th>speaker</th>\n",
       "      <th>content</th>\n",
       "      <th>index</th>\n",
       "      <th>date</th>\n",
       "      <th>type</th>\n",
       "      <th>section</th>\n",
       "      <th>lname</th>\n",
       "    </tr>\n",
       "  </thead>\n",
       "  <tbody>\n",
       "    <tr>\n",
       "      <th>0</th>\n",
       "      <td>CHAIRMAN GREENSPAN.</td>\n",
       "      <td>I want to note that revisions, if any, on the ...</td>\n",
       "      <td>72</td>\n",
       "      <td>1994-02-04</td>\n",
       "      <td>meeting</td>\n",
       "      <td>1</td>\n",
       "      <td>greenspan</td>\n",
       "    </tr>\n",
       "    <tr>\n",
       "      <th>1</th>\n",
       "      <td>MR. LINDSEY.</td>\n",
       "      <td>I have two questions. The first has to do with...</td>\n",
       "      <td>73</td>\n",
       "      <td>1994-02-04</td>\n",
       "      <td>meeting</td>\n",
       "      <td>1</td>\n",
       "      <td>lindsey</td>\n",
       "    </tr>\n",
       "    <tr>\n",
       "      <th>2</th>\n",
       "      <td>MR. LINDSEY.</td>\n",
       "      <td>Could I get a copy of that breakdown?</td>\n",
       "      <td>75</td>\n",
       "      <td>1994-02-04</td>\n",
       "      <td>meeting</td>\n",
       "      <td>1</td>\n",
       "      <td>lindsey</td>\n",
       "    </tr>\n",
       "    <tr>\n",
       "      <th>3</th>\n",
       "      <td>MR. LINDSEY.</td>\n",
       "      <td>Horrors!</td>\n",
       "      <td>77</td>\n",
       "      <td>1994-02-04</td>\n",
       "      <td>meeting</td>\n",
       "      <td>1</td>\n",
       "      <td>lindsey</td>\n",
       "    </tr>\n",
       "    <tr>\n",
       "      <th>4</th>\n",
       "      <td>CHAIRMAN GREENSPAN.</td>\n",
       "      <td>This is known as the statistical sausage factory!</td>\n",
       "      <td>78</td>\n",
       "      <td>1994-02-04</td>\n",
       "      <td>meeting</td>\n",
       "      <td>1</td>\n",
       "      <td>greenspan</td>\n",
       "    </tr>\n",
       "    <tr>\n",
       "      <th>...</th>\n",
       "      <td>...</td>\n",
       "      <td>...</td>\n",
       "      <td>...</td>\n",
       "      <td>...</td>\n",
       "      <td>...</td>\n",
       "      <td>...</td>\n",
       "      <td>...</td>\n",
       "    </tr>\n",
       "    <tr>\n",
       "      <th>25987</th>\n",
       "      <td>MR. QUARLES.</td>\n",
       "      <td>Thank you, Mr. Chairman.  I support today's pr...</td>\n",
       "      <td>246</td>\n",
       "      <td>2018-12-19</td>\n",
       "      <td>meeting</td>\n",
       "      <td>2</td>\n",
       "      <td>quarles</td>\n",
       "    </tr>\n",
       "    <tr>\n",
       "      <th>25988</th>\n",
       "      <td>CHAIRMAN POWELL.</td>\n",
       "      <td>Thank you.  President Kashkari.</td>\n",
       "      <td>247</td>\n",
       "      <td>2018-12-19</td>\n",
       "      <td>meeting</td>\n",
       "      <td>2</td>\n",
       "      <td>powell</td>\n",
       "    </tr>\n",
       "    <tr>\n",
       "      <th>25989</th>\n",
       "      <td>MR. KASHKARI.</td>\n",
       "      <td>Thank you, Mr. Chairman.  If I might, I wanted...</td>\n",
       "      <td>248</td>\n",
       "      <td>2018-12-19</td>\n",
       "      <td>meeting</td>\n",
       "      <td>2</td>\n",
       "      <td>kashkari</td>\n",
       "    </tr>\n",
       "    <tr>\n",
       "      <th>25990</th>\n",
       "      <td>CHAIRMAN POWELL.</td>\n",
       "      <td>Thank you.  Vice Chair Williams.</td>\n",
       "      <td>249</td>\n",
       "      <td>2018-12-19</td>\n",
       "      <td>meeting</td>\n",
       "      <td>2</td>\n",
       "      <td>powell</td>\n",
       "    </tr>\n",
       "    <tr>\n",
       "      <th>25991</th>\n",
       "      <td>CHAIRMAN POWELL.</td>\n",
       "      <td>Thank you.  And thanks to everybody.  Particul...</td>\n",
       "      <td>251</td>\n",
       "      <td>2018-12-19</td>\n",
       "      <td>meeting</td>\n",
       "      <td>2</td>\n",
       "      <td>powell</td>\n",
       "    </tr>\n",
       "  </tbody>\n",
       "</table>\n",
       "<p>25992 rows × 7 columns</p>\n",
       "</div>"
      ],
      "text/plain": [
       "                   speaker                                            content  \\\n",
       "0      CHAIRMAN GREENSPAN.  I want to note that revisions, if any, on the ...   \n",
       "1             MR. LINDSEY.  I have two questions. The first has to do with...   \n",
       "2             MR. LINDSEY.              Could I get a copy of that breakdown?   \n",
       "3             MR. LINDSEY.                                           Horrors!   \n",
       "4      CHAIRMAN GREENSPAN.  This is known as the statistical sausage factory!   \n",
       "...                    ...                                                ...   \n",
       "25987         MR. QUARLES.  Thank you, Mr. Chairman.  I support today's pr...   \n",
       "25988     CHAIRMAN POWELL.                    Thank you.  President Kashkari.   \n",
       "25989        MR. KASHKARI.  Thank you, Mr. Chairman.  If I might, I wanted...   \n",
       "25990     CHAIRMAN POWELL.                   Thank you.  Vice Chair Williams.   \n",
       "25991     CHAIRMAN POWELL.  Thank you.  And thanks to everybody.  Particul...   \n",
       "\n",
       "       index        date     type  section      lname  \n",
       "0         72  1994-02-04  meeting        1  greenspan  \n",
       "1         73  1994-02-04  meeting        1    lindsey  \n",
       "2         75  1994-02-04  meeting        1    lindsey  \n",
       "3         77  1994-02-04  meeting        1    lindsey  \n",
       "4         78  1994-02-04  meeting        1  greenspan  \n",
       "...      ...         ...      ...      ...        ...  \n",
       "25987    246  2018-12-19  meeting        2    quarles  \n",
       "25988    247  2018-12-19  meeting        2     powell  \n",
       "25989    248  2018-12-19  meeting        2   kashkari  \n",
       "25990    249  2018-12-19  meeting        2     powell  \n",
       "25991    251  2018-12-19  meeting        2     powell  \n",
       "\n",
       "[25992 rows x 7 columns]"
      ]
     },
     "execution_count": 8,
     "metadata": {},
     "output_type": "execute_result"
    }
   ],
   "source": [
    "tdf"
   ]
  },
  {
   "cell_type": "code",
   "execution_count": 9,
   "metadata": {},
   "outputs": [],
   "source": [
    "tdf['tokens'] = tdf['content'].apply(lambda x : word_tokenize(str(x)))"
   ]
  },
  {
   "cell_type": "markdown",
   "metadata": {},
   "source": [
    "*Important Observation*: Part of speech tags are sensitive to capitalization. I previously tried to get all bigrams, lowercase them, and then get the parts of speech, but the POS tagger tags \"I\" as a personal pronoun as expected, but tags \"i\" as a noun which is captured by the colocations used here. To combat this, I modofied my code to only lowercase trigrams and store them in a dictionary after recognizing that they fit the POS forms common to terminology."
   ]
  },
  {
   "cell_type": "code",
   "execution_count": 10,
   "metadata": {},
   "outputs": [],
   "source": [
    "def keep_bigram_by_pos(bigram):\n",
    "    tokens = word_tokenize(bigram)\n",
    "    pos_tags = [tag for word, tag in pos_tag(tokens)]\n",
    "    if pos_tags[0][0:2] == 'JJ' and pos_tags[1][0:2] == 'NN':\n",
    "        return True\n",
    "    elif pos_tags[0][0:2] == 'NN'and pos_tags[1][0:2] == 'NN':\n",
    "        return True\n",
    "    return False"
   ]
  },
  {
   "cell_type": "code",
   "execution_count": 11,
   "metadata": {},
   "outputs": [],
   "source": [
    "def get_terminology_bigrams(documents):\n",
    "    bigram_dict = {}\n",
    "    ignore_list = set()\n",
    "    for doc in documents:\n",
    "        bigram_list = [' '.join([a,b]) for (a,b) in bigrams(doc)]\n",
    "        for bigram in bigram_list:\n",
    "            if bigram in ignore_list or not keep_bigram_by_pos(bigram):\n",
    "                ignore_list.add(bigram)\n",
    "                continue\n",
    "            if bigram in bigram_dict:\n",
    "                bigram_dict[bigram.lower()] += 1\n",
    "            else:\n",
    "                bigram_dict[bigram.lower()] = 1\n",
    "    return bigram_dict"
   ]
  },
  {
   "cell_type": "code",
   "execution_count": 12,
   "metadata": {},
   "outputs": [],
   "source": [
    "def keep_trigram_by_pos(trigram):\n",
    "    tokens = word_tokenize(trigram)\n",
    "    pos_tags = [tag for word, tag in pos_tag(tokens)]\n",
    "    if pos_tags[0][0:2] == 'JJ' and pos_tags[1][0:2] == 'JJ' and pos_tags[2][0:2] == 'NN':\n",
    "        return True\n",
    "    elif pos_tags[0][0:2] == 'JJ' and pos_tags[1][0:2] == 'NN' and pos_tags[2][0:2] == 'NN':\n",
    "        return True\n",
    "    elif pos_tags[0][0:2] == 'NN' and pos_tags[1][0:2] == 'JJ' and pos_tags[2][0:2] == 'NN':\n",
    "        return True\n",
    "    elif pos_tags[0][0:2] == 'NN' and pos_tags[1][0:2] == 'NN' and pos_tags[2][0:2] == 'NN':\n",
    "        return True\n",
    "    elif pos_tags[0][0:2] == 'NN' and pos_tags[1][0:2] == 'IN' and pos_tags[2][0:2] == 'NN':\n",
    "        return True\n",
    "    return False"
   ]
  },
  {
   "cell_type": "code",
   "execution_count": 13,
   "metadata": {},
   "outputs": [],
   "source": [
    "def get_terminology_trigrams(documents):\n",
    "    trigram_dict = {}\n",
    "    ignore_list = set()\n",
    "    for doc in documents:\n",
    "        trigram_list = [' '.join([a,b,c]) for (a,b,c) in trigrams(doc)]\n",
    "        for trigram in trigram_list:\n",
    "            if trigram in ignore_list or not keep_trigram_by_pos(trigram):\n",
    "                ignore_list.add(trigram)\n",
    "                continue\n",
    "            if trigram in trigram_dict:\n",
    "                trigram_dict[trigram.lower()] += 1\n",
    "            else:\n",
    "                trigram_dict[trigram.lower()] = 1\n",
    "    return trigram_dict"
   ]
  },
  {
   "cell_type": "code",
   "execution_count": 14,
   "metadata": {},
   "outputs": [],
   "source": [
    "documents = tdf['tokens'].tolist()\n",
    "bgdict = get_terminology_bigrams(documents)"
   ]
  },
  {
   "cell_type": "code",
   "execution_count": 15,
   "metadata": {},
   "outputs": [],
   "source": [
    "tgdict = get_terminology_trigrams(documents)"
   ]
  },
  {
   "cell_type": "code",
   "execution_count": null,
   "metadata": {},
   "outputs": [],
   "source": [
    "relevant_bigrams = {bg: freq for bg,freq in bgdict.items() if freq > 100}\n",
    "relevant_bigrams"
   ]
  },
  {
   "cell_type": "code",
   "execution_count": null,
   "metadata": {},
   "outputs": [],
   "source": [
    "relevant_trigrams = {tg: freq for tg,freq in tgdict.items() if freq > 50}\n",
    "relevant_trigrams"
   ]
  },
  {
   "cell_type": "code",
   "execution_count": 18,
   "metadata": {},
   "outputs": [],
   "source": [
    "with open('bigrams', 'w') as bg_file:\n",
    "    for bg in relevant_bigrams:\n",
    "        bg_file.write(bg + '\\n')"
   ]
  },
  {
   "cell_type": "code",
   "execution_count": 19,
   "metadata": {},
   "outputs": [],
   "source": [
    "with open('trigrams', 'w') as tg_file:\n",
    "    for tf in relevant_trigrams:\n",
    "        tg_file.write(tf + '\\n')"
   ]
  }
 ],
 "metadata": {
  "kernelspec": {
   "display_name": "fed-nlp",
   "language": "python",
   "name": "python3"
  },
  "language_info": {
   "codemirror_mode": {
    "name": "ipython",
    "version": 3
   },
   "file_extension": ".py",
   "mimetype": "text/x-python",
   "name": "python",
   "nbconvert_exporter": "python",
   "pygments_lexer": "ipython3",
   "version": "3.11.4"
  }
 },
 "nbformat": 4,
 "nbformat_minor": 2
}
