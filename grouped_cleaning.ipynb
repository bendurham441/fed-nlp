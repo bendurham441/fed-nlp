{
 "cells": [
  {
   "cell_type": "markdown",
   "metadata": {},
   "source": [
    "# Cleaning the Grouped Speaker Observations\n",
    "\n",
    "Upon inspection, I found some problems in need of fixing with the grouped speaker-meeting observations. For one, there are a few misspellings, seemingl"
   ]
  },
  {
   "cell_type": "code",
   "execution_count": 6,
   "metadata": {},
   "outputs": [],
   "source": [
    "import pandas as pd"
   ]
  },
  {
   "cell_type": "code",
   "execution_count": 26,
   "metadata": {},
   "outputs": [
    {
     "data": {
      "text/html": [
       "<div>\n",
       "<style scoped>\n",
       "    .dataframe tbody tr th:only-of-type {\n",
       "        vertical-align: middle;\n",
       "    }\n",
       "\n",
       "    .dataframe tbody tr th {\n",
       "        vertical-align: top;\n",
       "    }\n",
       "\n",
       "    .dataframe thead th {\n",
       "        text-align: right;\n",
       "    }\n",
       "</style>\n",
       "<table border=\"1\" class=\"dataframe\">\n",
       "  <thead>\n",
       "    <tr style=\"text-align: right;\">\n",
       "      <th></th>\n",
       "      <th>date</th>\n",
       "      <th>speaker</th>\n",
       "      <th>text_enhanced</th>\n",
       "    </tr>\n",
       "  </thead>\n",
       "  <tbody>\n",
       "    <tr>\n",
       "      <th>1696</th>\n",
       "      <td>1994-02-04</td>\n",
       "      <td>CHAIRMAN GREENSPAN.</td>\n",
       "      <td>As you know, this is our organizational meetin...</td>\n",
       "    </tr>\n",
       "    <tr>\n",
       "      <th>1697</th>\n",
       "      <td>1994-02-04</td>\n",
       "      <td>MR. BERNARD.</td>\n",
       "      <td>Secretary and Economist, Donald Kohn; Deputy S...</td>\n",
       "    </tr>\n",
       "    <tr>\n",
       "      <th>1698</th>\n",
       "      <td>1994-02-04</td>\n",
       "      <td>MR. BOEHNE.</td>\n",
       "      <td>Normally in an economic expansion, development...</td>\n",
       "    </tr>\n",
       "    <tr>\n",
       "      <th>1699</th>\n",
       "      <td>1994-02-04</td>\n",
       "      <td>MR. BROADDUS.</td>\n",
       "      <td>My report is going to be pretty bland after th...</td>\n",
       "    </tr>\n",
       "    <tr>\n",
       "      <th>1700</th>\n",
       "      <td>1994-02-04</td>\n",
       "      <td>MR. COYNE.</td>\n",
       "      <td>Oh, believe me, you will get asked!  I think i...</td>\n",
       "    </tr>\n",
       "    <tr>\n",
       "      <th>...</th>\n",
       "      <td>...</td>\n",
       "      <td>...</td>\n",
       "      <td>...</td>\n",
       "    </tr>\n",
       "    <tr>\n",
       "      <th>6827</th>\n",
       "      <td>2017-12-13</td>\n",
       "      <td>MS. BRAINARD.</td>\n",
       "      <td>I don't think of this as a normative statement...</td>\n",
       "    </tr>\n",
       "    <tr>\n",
       "      <th>6828</th>\n",
       "      <td>2017-12-13</td>\n",
       "      <td>MS. GEORGE.</td>\n",
       "      <td>Lorie, on exhibit 2, chart 12, would you expla...</td>\n",
       "    </tr>\n",
       "    <tr>\n",
       "      <th>6829</th>\n",
       "      <td>2017-12-13</td>\n",
       "      <td>MS. LOGAN.</td>\n",
       "      <td>Thank you.  I will begin on your second exhibi...</td>\n",
       "    </tr>\n",
       "    <tr>\n",
       "      <th>6830</th>\n",
       "      <td>2017-12-13</td>\n",
       "      <td>MS. MESTER.</td>\n",
       "      <td>Thank you, Madam Chair.  Reports received from...</td>\n",
       "    </tr>\n",
       "    <tr>\n",
       "      <th>6831</th>\n",
       "      <td>2017-12-13</td>\n",
       "      <td>VICE CHAIRMAN DUDLEY.</td>\n",
       "      <td>So moved.  So you're just saying you have a ve...</td>\n",
       "    </tr>\n",
       "  </tbody>\n",
       "</table>\n",
       "<p>5136 rows × 3 columns</p>\n",
       "</div>"
      ],
      "text/plain": [
       "            date                speaker  \\\n",
       "1696  1994-02-04    CHAIRMAN GREENSPAN.   \n",
       "1697  1994-02-04           MR. BERNARD.   \n",
       "1698  1994-02-04            MR. BOEHNE.   \n",
       "1699  1994-02-04          MR. BROADDUS.   \n",
       "1700  1994-02-04             MR. COYNE.   \n",
       "...          ...                    ...   \n",
       "6827  2017-12-13          MS. BRAINARD.   \n",
       "6828  2017-12-13            MS. GEORGE.   \n",
       "6829  2017-12-13             MS. LOGAN.   \n",
       "6830  2017-12-13            MS. MESTER.   \n",
       "6831  2017-12-13  VICE CHAIRMAN DUDLEY.   \n",
       "\n",
       "                                          text_enhanced  \n",
       "1696  As you know, this is our organizational meetin...  \n",
       "1697  Secretary and Economist, Donald Kohn; Deputy S...  \n",
       "1698  Normally in an economic expansion, development...  \n",
       "1699  My report is going to be pretty bland after th...  \n",
       "1700  Oh, believe me, you will get asked!  I think i...  \n",
       "...                                                 ...  \n",
       "6827  I don't think of this as a normative statement...  \n",
       "6828  Lorie, on exhibit 2, chart 12, would you expla...  \n",
       "6829  Thank you.  I will begin on your second exhibi...  \n",
       "6830  Thank you, Madam Chair.  Reports received from...  \n",
       "6831  So moved.  So you're just saying you have a ve...  \n",
       "\n",
       "[5136 rows x 3 columns]"
      ]
     },
     "execution_count": 26,
     "metadata": {},
     "output_type": "execute_result"
    }
   ],
   "source": [
    "tdf = pd.read_csv('speaker_grouped.csv', index_col=0)\n",
    "tdf = tdf[pd.to_datetime(tdf['date']).dt.year >= 1994]\n",
    "tdf"
   ]
  },
  {
   "cell_type": "code",
   "execution_count": 27,
   "metadata": {},
   "outputs": [],
   "source": [
    "general_speakers = ['SPEAKER(?).', 'SEVERAL.', 'PARTICIPANT.', 'PARTICIPANTS.', 'SPEAKER (?).', 'SEVERAL(?).']"
   ]
  },
  {
   "cell_type": "code",
   "execution_count": 28,
   "metadata": {},
   "outputs": [],
   "source": [
    "tdf = tdf[~tdf.speaker.isin(general_speakers)]"
   ]
  },
  {
   "cell_type": "code",
   "execution_count": 29,
   "metadata": {},
   "outputs": [],
   "source": [
    "tdf.to_csv('speaker_grouped_trimmed.csv')"
   ]
  }
 ],
 "metadata": {
  "kernelspec": {
   "display_name": "fed-nlp",
   "language": "python",
   "name": "python3"
  },
  "language_info": {
   "codemirror_mode": {
    "name": "ipython",
    "version": 3
   },
   "file_extension": ".py",
   "mimetype": "text/x-python",
   "name": "python",
   "nbconvert_exporter": "python",
   "pygments_lexer": "ipython3",
   "version": "3.11.4"
  }
 },
 "nbformat": 4,
 "nbformat_minor": 2
}
