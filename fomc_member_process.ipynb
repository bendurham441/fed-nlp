{
 "cells": [
  {
   "cell_type": "code",
   "execution_count": 23,
   "metadata": {},
   "outputs": [],
   "source": [
    "import pandas as pd\n",
    "import datetime"
   ]
  },
  {
   "cell_type": "code",
   "execution_count": 2,
   "metadata": {},
   "outputs": [],
   "source": [
    "fomc = pd.read_csv('fomc_members.csv')"
   ]
  },
  {
   "cell_type": "code",
   "execution_count": 25,
   "metadata": {},
   "outputs": [],
   "source": [
    "fomc.fillna('', inplace=True)"
   ]
  },
  {
   "cell_type": "code",
   "execution_count": 28,
   "metadata": {},
   "outputs": [],
   "source": [
    "def to_date(string):\n",
    "    if string != '':\n",
    "        return datetime.datetime.strptime(string, '%m-%d-%Y')\n",
    "    return datetime.date.today()"
   ]
  },
  {
   "cell_type": "code",
   "execution_count": 21,
   "metadata": {},
   "outputs": [
    {
     "data": {
      "text/plain": [
       "datetime.date(2023, 11, 14)"
      ]
     },
     "execution_count": 21,
     "metadata": {},
     "output_type": "execute_result"
    }
   ],
   "source": [
    "to_date('')"
   ]
  },
  {
   "cell_type": "code",
   "execution_count": 32,
   "metadata": {},
   "outputs": [],
   "source": [
    "def make_member_dict():\n",
    "    members = {}\n",
    "\n",
    "    for i, row in fomc.iterrows():\n",
    "        new = [to_date(row['start']), to_date(row['end'])]\n",
    "        name = row['lname']\n",
    "        if name in members:\n",
    "            members[name].append(new)\n",
    "        else:\n",
    "            members[name] = [new]\n",
    "    return members"
   ]
  },
  {
   "cell_type": "code",
   "execution_count": 33,
   "metadata": {},
   "outputs": [
    {
     "data": {
      "text/plain": [
       "{'kugler': [[datetime.datetime(2023, 9, 13, 0, 0),\n",
       "   datetime.date(2023, 11, 14)]],\n",
       " 'barr': [[datetime.datetime(2022, 7, 19, 0, 0), datetime.date(2023, 11, 14)]],\n",
       " 'jefferson': [[datetime.datetime(2022, 5, 23, 0, 0),\n",
       "   datetime.date(2023, 11, 14)]],\n",
       " 'cook': [[datetime.datetime(2022, 5, 23, 0, 0), datetime.date(2023, 11, 14)]],\n",
       " 'waller': [[datetime.datetime(2020, 12, 18, 0, 0),\n",
       "   datetime.date(2023, 11, 14)]],\n",
       " 'bowman': [[datetime.datetime(2018, 11, 26, 0, 0),\n",
       "   datetime.date(2023, 11, 14)]],\n",
       " 'clarida': [[datetime.datetime(2018, 9, 17, 0, 0),\n",
       "   datetime.datetime(2022, 1, 14, 0, 0)]],\n",
       " 'quarles': [[datetime.datetime(2017, 9, 17, 0, 0),\n",
       "   datetime.datetime(2021, 12, 25, 0, 0)]],\n",
       " 'brainard': [[datetime.datetime(2014, 6, 16, 0, 0),\n",
       "   datetime.datetime(2023, 2, 18, 0, 0)]],\n",
       " 'fischer': [[datetime.datetime(2014, 5, 28, 0, 0),\n",
       "   datetime.datetime(2017, 10, 16, 0, 0)]],\n",
       " 'stein': [[datetime.datetime(2012, 5, 30, 0, 0),\n",
       "   datetime.datetime(2014, 5, 28, 0, 0)]],\n",
       " 'powell': [[datetime.datetime(2012, 5, 25, 0, 0),\n",
       "   datetime.date(2023, 11, 14)]],\n",
       " 'raskin': [[datetime.datetime(2010, 10, 4, 0, 0),\n",
       "   datetime.datetime(2014, 3, 13, 0, 0)]],\n",
       " 'tarullo': [[datetime.datetime(2009, 1, 28, 0, 0),\n",
       "   datetime.datetime(2017, 4, 5, 0, 0)]],\n",
       " 'duke': [[datetime.datetime(2008, 8, 5, 0, 0),\n",
       "   datetime.datetime(2013, 8, 31, 0, 0)]],\n",
       " 'mishkin': [[datetime.datetime(2006, 9, 5, 0, 0),\n",
       "   datetime.datetime(2008, 8, 31, 0, 0)]],\n",
       " 'kroszner': [[datetime.datetime(2006, 3, 1, 0, 0),\n",
       "   datetime.datetime(2009, 1, 21, 0, 0)]],\n",
       " 'warsh': [[datetime.datetime(2006, 2, 24, 0, 0),\n",
       "   datetime.datetime(2011, 4, 2, 0, 0)]],\n",
       " 'kohn': [[datetime.datetime(2002, 8, 5, 0, 0),\n",
       "   datetime.datetime(2010, 9, 1, 0, 0)]],\n",
       " 'bernanke': [[datetime.datetime(2002, 8, 5, 0, 0),\n",
       "   datetime.datetime(2005, 6, 21, 0, 0)],\n",
       "  [datetime.datetime(2006, 2, 1, 0, 0), datetime.datetime(2014, 1, 31, 0, 0)]],\n",
       " 'olson': [[datetime.datetime(2001, 12, 7, 0, 0),\n",
       "   datetime.datetime(2006, 6, 3, 0, 0)]],\n",
       " 'bies': [[datetime.datetime(2001, 12, 7, 0, 0),\n",
       "   datetime.datetime(2007, 3, 30, 0, 0)]],\n",
       " 'gramlich': [[datetime.datetime(1997, 11, 5, 0, 0),\n",
       "   datetime.datetime(2005, 8, 31, 0, 0)]],\n",
       " 'ferguson': [[datetime.datetime(1997, 11, 5, 0, 0),\n",
       "   datetime.datetime(2006, 4, 28, 0, 0)]],\n",
       " 'rivlin': [[datetime.datetime(1996, 6, 25, 0, 0),\n",
       "   datetime.datetime(1999, 7, 16, 0, 0)]],\n",
       " 'meyer': [[datetime.datetime(1996, 6, 24, 0, 0),\n",
       "   datetime.datetime(2002, 1, 31, 0, 0)]],\n",
       " 'yellen': [[datetime.datetime(1994, 8, 12, 0, 0),\n",
       "   datetime.datetime(1997, 2, 17, 0, 0)],\n",
       "  [datetime.datetime(2010, 10, 4, 0, 0), datetime.datetime(2018, 2, 3, 0, 0)]],\n",
       " 'blinder': [[datetime.datetime(1994, 6, 27, 0, 0),\n",
       "   datetime.datetime(1996, 1, 31, 0, 0)]],\n",
       " 'phillips': [[datetime.datetime(1991, 12, 2, 0, 0),\n",
       "   datetime.datetime(1998, 6, 30, 0, 0)]],\n",
       " 'lindsey': [[datetime.datetime(1991, 11, 26, 0, 0),\n",
       "   datetime.datetime(1997, 2, 5, 0, 0)]],\n",
       " 'mullins': [[datetime.datetime(1990, 5, 21, 0, 0),\n",
       "   datetime.datetime(1994, 2, 14, 0, 0)]],\n",
       " 'laware': [[datetime.datetime(1998, 8, 15, 0, 0),\n",
       "   datetime.datetime(1995, 4, 30, 0, 0)]],\n",
       " 'greenspan': [[datetime.datetime(1987, 8, 11, 0, 0),\n",
       "   datetime.datetime(2006, 1, 31, 0, 0)]],\n",
       " 'kelley': [[datetime.datetime(1987, 5, 26, 0, 0),\n",
       "   datetime.datetime(2001, 1, 31, 0, 0)]]}"
      ]
     },
     "execution_count": 33,
     "metadata": {},
     "output_type": "execute_result"
    }
   ],
   "source": []
  }
 ],
 "metadata": {
  "kernelspec": {
   "display_name": "fed-nlp",
   "language": "python",
   "name": "python3"
  },
  "language_info": {
   "codemirror_mode": {
    "name": "ipython",
    "version": 3
   },
   "file_extension": ".py",
   "mimetype": "text/x-python",
   "name": "python",
   "nbconvert_exporter": "python",
   "pygments_lexer": "ipython3",
   "version": "3.11.4"
  }
 },
 "nbformat": 4,
 "nbformat_minor": 2
}
