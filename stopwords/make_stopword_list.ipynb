{
 "cells": [
  {
   "cell_type": "code",
   "execution_count": 4,
   "metadata": {},
   "outputs": [],
   "source": [
    "stopwords = []\n",
    "with open('StopWords_DatesandNumbers.txt') as f:\n",
    "    lines = [line.split('|')[0].strip().lower() for line in f]\n",
    "    stopwords.extend(lines)\n",
    "with open('StopWords_GenericLong.txt') as f:\n",
    "    lines = [line.strip().lower() for line in f]\n",
    "    stopwords.extend(lines)\n",
    "stopwords = [word for word in stopwords if len(word) > 1]\n",
    "stopwords.extend(['i', 'don'])\n",
    "\n",
    "with open('stopwords.txt', 'w') as f:\n",
    "    for word in stopwords:\n",
    "        f.write(f'{word}\\n')"
   ]
  }
 ],
 "metadata": {
  "kernelspec": {
   "display_name": "fed-nlp",
   "language": "python",
   "name": "python3"
  },
  "language_info": {
   "codemirror_mode": {
    "name": "ipython",
    "version": 3
   },
   "file_extension": ".py",
   "mimetype": "text/x-python",
   "name": "python",
   "nbconvert_exporter": "python",
   "pygments_lexer": "ipython3",
   "version": "3.11.4"
  }
 },
 "nbformat": 4,
 "nbformat_minor": 2
}
