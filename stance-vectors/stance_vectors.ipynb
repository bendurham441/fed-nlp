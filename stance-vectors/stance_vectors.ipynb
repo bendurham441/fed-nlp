{
 "cells": [
  {
   "cell_type": "code",
   "execution_count": 63,
   "metadata": {},
   "outputs": [],
   "source": [
    "import pandas as pd\n",
    "from nltk.stem import PorterStemmer\n",
    "from nltk import sent_tokenize"
   ]
  },
  {
   "cell_type": "code",
   "execution_count": 2,
   "metadata": {},
   "outputs": [
    {
     "name": "stdout",
     "output_type": "stream",
     "text": [
      "/home/bdurham/dev/fed-nlp\n"
     ]
    }
   ],
   "source": [
    "import setup_modules\n",
    "from lib.preprocessing import process, ngram_enhance, setup_enhance"
   ]
  },
  {
   "cell_type": "code",
   "execution_count": 48,
   "metadata": {},
   "outputs": [],
   "source": [
    "fomc = pd.read_csv('../working-csvs/fomc.csv', index_col=0)\n",
    "dfs = pd.read_csv('../working-csvs/raw_transcripts_sectioned.csv', index_col=0)"
   ]
  },
  {
   "cell_type": "code",
   "execution_count": 100,
   "metadata": {},
   "outputs": [],
   "source": [
    "sg = dfs.groupby(['date', 'speaker', 'section'])['content'].agg(\" \".join).reset_index()"
   ]
  },
  {
   "cell_type": "code",
   "execution_count": 101,
   "metadata": {},
   "outputs": [],
   "source": [
    "sg['sentences'] = sg['content'].map(sent_tokenize)\n",
    "sg.drop(['content'], axis=1, inplace=True)\n",
    "sgs = sg.explode('sentences')\n",
    "sgs.rename(columns={'sentences': 'content'}, inplace=True)\n"
   ]
  },
  {
   "cell_type": "code",
   "execution_count": 102,
   "metadata": {},
   "outputs": [
    {
     "data": {
      "text/html": [
       "<div>\n",
       "<style scoped>\n",
       "    .dataframe tbody tr th:only-of-type {\n",
       "        vertical-align: middle;\n",
       "    }\n",
       "\n",
       "    .dataframe tbody tr th {\n",
       "        vertical-align: top;\n",
       "    }\n",
       "\n",
       "    .dataframe thead th {\n",
       "        text-align: right;\n",
       "    }\n",
       "</style>\n",
       "<table border=\"1\" class=\"dataframe\">\n",
       "  <thead>\n",
       "    <tr style=\"text-align: right;\">\n",
       "      <th></th>\n",
       "      <th>date</th>\n",
       "      <th>speaker</th>\n",
       "      <th>section</th>\n",
       "      <th>content</th>\n",
       "    </tr>\n",
       "  </thead>\n",
       "  <tbody>\n",
       "    <tr>\n",
       "      <th>0</th>\n",
       "      <td>2007-01-31</td>\n",
       "      <td>CHAIRMAN BERNANKE.</td>\n",
       "      <td>1</td>\n",
       "      <td>Seeing that there are no further questions, I ...</td>\n",
       "    </tr>\n",
       "    <tr>\n",
       "      <th>0</th>\n",
       "      <td>2007-01-31</td>\n",
       "      <td>CHAIRMAN BERNANKE.</td>\n",
       "      <td>1</td>\n",
       "      <td>Remember, we do have the two-handed option if ...</td>\n",
       "    </tr>\n",
       "    <tr>\n",
       "      <th>0</th>\n",
       "      <td>2007-01-31</td>\n",
       "      <td>CHAIRMAN BERNANKE.</td>\n",
       "      <td>1</td>\n",
       "      <td>President Yellen.</td>\n",
       "    </tr>\n",
       "    <tr>\n",
       "      <th>0</th>\n",
       "      <td>2007-01-31</td>\n",
       "      <td>CHAIRMAN BERNANKE.</td>\n",
       "      <td>1</td>\n",
       "      <td>Thank you.</td>\n",
       "    </tr>\n",
       "    <tr>\n",
       "      <th>0</th>\n",
       "      <td>2007-01-31</td>\n",
       "      <td>CHAIRMAN BERNANKE.</td>\n",
       "      <td>1</td>\n",
       "      <td>President Moskow.</td>\n",
       "    </tr>\n",
       "    <tr>\n",
       "      <th>...</th>\n",
       "      <td>...</td>\n",
       "      <td>...</td>\n",
       "      <td>...</td>\n",
       "      <td>...</td>\n",
       "    </tr>\n",
       "    <tr>\n",
       "      <th>3391</th>\n",
       "      <td>2017-12-13</td>\n",
       "      <td>VICE CHAIRMAN DUDLEY.</td>\n",
       "      <td>2</td>\n",
       "      <td>So we do observe that inverted yield curves pr...</td>\n",
       "    </tr>\n",
       "    <tr>\n",
       "      <th>3391</th>\n",
       "      <td>2017-12-13</td>\n",
       "      <td>VICE CHAIRMAN DUDLEY.</td>\n",
       "      <td>2</td>\n",
       "      <td>In this cycle, I expect the yield curve will c...</td>\n",
       "    </tr>\n",
       "    <tr>\n",
       "      <th>3391</th>\n",
       "      <td>2017-12-13</td>\n",
       "      <td>VICE CHAIRMAN DUDLEY.</td>\n",
       "      <td>2</td>\n",
       "      <td>But, to me, worrying now that we're committing...</td>\n",
       "    </tr>\n",
       "    <tr>\n",
       "      <th>3391</th>\n",
       "      <td>2017-12-13</td>\n",
       "      <td>VICE CHAIRMAN DUDLEY.</td>\n",
       "      <td>2</td>\n",
       "      <td>Our tightening moves have not yet tightened ov...</td>\n",
       "    </tr>\n",
       "    <tr>\n",
       "      <th>3391</th>\n",
       "      <td>2017-12-13</td>\n",
       "      <td>VICE CHAIRMAN DUDLEY.</td>\n",
       "      <td>2</td>\n",
       "      <td>Thank you, Madam Chair.</td>\n",
       "    </tr>\n",
       "  </tbody>\n",
       "</table>\n",
       "<p>157211 rows × 4 columns</p>\n",
       "</div>"
      ],
      "text/plain": [
       "            date                speaker  section  \\\n",
       "0     2007-01-31     CHAIRMAN BERNANKE.        1   \n",
       "0     2007-01-31     CHAIRMAN BERNANKE.        1   \n",
       "0     2007-01-31     CHAIRMAN BERNANKE.        1   \n",
       "0     2007-01-31     CHAIRMAN BERNANKE.        1   \n",
       "0     2007-01-31     CHAIRMAN BERNANKE.        1   \n",
       "...          ...                    ...      ...   \n",
       "3391  2017-12-13  VICE CHAIRMAN DUDLEY.        2   \n",
       "3391  2017-12-13  VICE CHAIRMAN DUDLEY.        2   \n",
       "3391  2017-12-13  VICE CHAIRMAN DUDLEY.        2   \n",
       "3391  2017-12-13  VICE CHAIRMAN DUDLEY.        2   \n",
       "3391  2017-12-13  VICE CHAIRMAN DUDLEY.        2   \n",
       "\n",
       "                                                content  \n",
       "0     Seeing that there are no further questions, I ...  \n",
       "0     Remember, we do have the two-handed option if ...  \n",
       "0                                     President Yellen.  \n",
       "0                                            Thank you.  \n",
       "0                                     President Moskow.  \n",
       "...                                                 ...  \n",
       "3391  So we do observe that inverted yield curves pr...  \n",
       "3391  In this cycle, I expect the yield curve will c...  \n",
       "3391  But, to me, worrying now that we're committing...  \n",
       "3391  Our tightening moves have not yet tightened ov...  \n",
       "3391                            Thank you, Madam Chair.  \n",
       "\n",
       "[157211 rows x 4 columns]"
      ]
     },
     "execution_count": 102,
     "metadata": {},
     "output_type": "execute_result"
    }
   ],
   "source": [
    "sgs"
   ]
  },
  {
   "cell_type": "code",
   "execution_count": 103,
   "metadata": {},
   "outputs": [],
   "source": [
    "bigrams, trigrams = setup_enhance('../ngrams/bigrams', '../ngrams/trigrams')\n",
    "sgs['enhanced'] = sgs['content'].map(lambda x : ngram_enhance(x, bigrams, trigrams))"
   ]
  },
  {
   "cell_type": "code",
   "execution_count": 104,
   "metadata": {},
   "outputs": [],
   "source": [
    "stemmer = PorterStemmer()\n",
    "sgs['tokens'] = sgs['enhanced'].map(lambda x : process(x, stemmer=stemmer))"
   ]
  },
  {
   "cell_type": "code",
   "execution_count": 106,
   "metadata": {},
   "outputs": [
    {
     "data": {
      "text/html": [
       "<div>\n",
       "<style scoped>\n",
       "    .dataframe tbody tr th:only-of-type {\n",
       "        vertical-align: middle;\n",
       "    }\n",
       "\n",
       "    .dataframe tbody tr th {\n",
       "        vertical-align: top;\n",
       "    }\n",
       "\n",
       "    .dataframe thead th {\n",
       "        text-align: right;\n",
       "    }\n",
       "</style>\n",
       "<table border=\"1\" class=\"dataframe\">\n",
       "  <thead>\n",
       "    <tr style=\"text-align: right;\">\n",
       "      <th></th>\n",
       "      <th>date</th>\n",
       "      <th>speaker</th>\n",
       "      <th>section</th>\n",
       "      <th>content</th>\n",
       "      <th>enhanced</th>\n",
       "      <th>tokens</th>\n",
       "    </tr>\n",
       "  </thead>\n",
       "  <tbody>\n",
       "    <tr>\n",
       "      <th>0</th>\n",
       "      <td>2007-01-31</td>\n",
       "      <td>CHAIRMAN BERNANKE.</td>\n",
       "      <td>1</td>\n",
       "      <td>Seeing that there are no further questions, I ...</td>\n",
       "      <td>Seeing that there are no further questions, I ...</td>\n",
       "      <td>[see, question, propos, start, econom, go, rou...</td>\n",
       "    </tr>\n",
       "    <tr>\n",
       "      <th>0</th>\n",
       "      <td>2007-01-31</td>\n",
       "      <td>CHAIRMAN BERNANKE.</td>\n",
       "      <td>1</td>\n",
       "      <td>Remember, we do have the two-handed option if ...</td>\n",
       "      <td>Remember, we do have the two-handed option if ...</td>\n",
       "      <td>[rememb, two, hand, option, anyon, care, exercis]</td>\n",
       "    </tr>\n",
       "    <tr>\n",
       "      <th>0</th>\n",
       "      <td>2007-01-31</td>\n",
       "      <td>CHAIRMAN BERNANKE.</td>\n",
       "      <td>1</td>\n",
       "      <td>President Yellen.</td>\n",
       "      <td>President Yellen.</td>\n",
       "      <td>[presid, yellen]</td>\n",
       "    </tr>\n",
       "    <tr>\n",
       "      <th>0</th>\n",
       "      <td>2007-01-31</td>\n",
       "      <td>CHAIRMAN BERNANKE.</td>\n",
       "      <td>1</td>\n",
       "      <td>Thank you.</td>\n",
       "      <td>Thank you.</td>\n",
       "      <td>[thank]</td>\n",
       "    </tr>\n",
       "    <tr>\n",
       "      <th>0</th>\n",
       "      <td>2007-01-31</td>\n",
       "      <td>CHAIRMAN BERNANKE.</td>\n",
       "      <td>1</td>\n",
       "      <td>President Moskow.</td>\n",
       "      <td>President Moskow.</td>\n",
       "      <td>[presid, moskow]</td>\n",
       "    </tr>\n",
       "    <tr>\n",
       "      <th>0</th>\n",
       "      <td>2007-01-31</td>\n",
       "      <td>CHAIRMAN BERNANKE.</td>\n",
       "      <td>1</td>\n",
       "      <td>I notice that they're not playing in the Seven...</td>\n",
       "      <td>I notice that they're not playing in the Seven...</td>\n",
       "      <td>[notic, play, seventh, feder, reserv, district...</td>\n",
       "    </tr>\n",
       "    <tr>\n",
       "      <th>0</th>\n",
       "      <td>2007-01-31</td>\n",
       "      <td>CHAIRMAN BERNANKE.</td>\n",
       "      <td>1</td>\n",
       "      <td>Thank you.</td>\n",
       "      <td>Thank you.</td>\n",
       "      <td>[thank]</td>\n",
       "    </tr>\n",
       "    <tr>\n",
       "      <th>0</th>\n",
       "      <td>2007-01-31</td>\n",
       "      <td>CHAIRMAN BERNANKE.</td>\n",
       "      <td>1</td>\n",
       "      <td>President Stern.</td>\n",
       "      <td>President Stern.</td>\n",
       "      <td>[presid, stern]</td>\n",
       "    </tr>\n",
       "    <tr>\n",
       "      <th>0</th>\n",
       "      <td>2007-01-31</td>\n",
       "      <td>CHAIRMAN BERNANKE.</td>\n",
       "      <td>1</td>\n",
       "      <td>Thank you.</td>\n",
       "      <td>Thank you.</td>\n",
       "      <td>[thank]</td>\n",
       "    </tr>\n",
       "    <tr>\n",
       "      <th>0</th>\n",
       "      <td>2007-01-31</td>\n",
       "      <td>CHAIRMAN BERNANKE.</td>\n",
       "      <td>1</td>\n",
       "      <td>President Minehan.</td>\n",
       "      <td>President Minehan.</td>\n",
       "      <td>[presid, minehan]</td>\n",
       "    </tr>\n",
       "  </tbody>\n",
       "</table>\n",
       "</div>"
      ],
      "text/plain": [
       "         date             speaker  section  \\\n",
       "0  2007-01-31  CHAIRMAN BERNANKE.        1   \n",
       "0  2007-01-31  CHAIRMAN BERNANKE.        1   \n",
       "0  2007-01-31  CHAIRMAN BERNANKE.        1   \n",
       "0  2007-01-31  CHAIRMAN BERNANKE.        1   \n",
       "0  2007-01-31  CHAIRMAN BERNANKE.        1   \n",
       "0  2007-01-31  CHAIRMAN BERNANKE.        1   \n",
       "0  2007-01-31  CHAIRMAN BERNANKE.        1   \n",
       "0  2007-01-31  CHAIRMAN BERNANKE.        1   \n",
       "0  2007-01-31  CHAIRMAN BERNANKE.        1   \n",
       "0  2007-01-31  CHAIRMAN BERNANKE.        1   \n",
       "\n",
       "                                             content  \\\n",
       "0  Seeing that there are no further questions, I ...   \n",
       "0  Remember, we do have the two-handed option if ...   \n",
       "0                                  President Yellen.   \n",
       "0                                         Thank you.   \n",
       "0                                  President Moskow.   \n",
       "0  I notice that they're not playing in the Seven...   \n",
       "0                                         Thank you.   \n",
       "0                                   President Stern.   \n",
       "0                                         Thank you.   \n",
       "0                                 President Minehan.   \n",
       "\n",
       "                                            enhanced  \\\n",
       "0  Seeing that there are no further questions, I ...   \n",
       "0  Remember, we do have the two-handed option if ...   \n",
       "0                                 President Yellen.    \n",
       "0                                        Thank you.    \n",
       "0                                 President Moskow.    \n",
       "0  I notice that they're not playing in the Seven...   \n",
       "0                                        Thank you.    \n",
       "0                                  President Stern.    \n",
       "0                                        Thank you.    \n",
       "0                                President Minehan.    \n",
       "\n",
       "                                              tokens  \n",
       "0  [see, question, propos, start, econom, go, rou...  \n",
       "0  [rememb, two, hand, option, anyon, care, exercis]  \n",
       "0                                   [presid, yellen]  \n",
       "0                                            [thank]  \n",
       "0                                   [presid, moskow]  \n",
       "0  [notic, play, seventh, feder, reserv, district...  \n",
       "0                                            [thank]  \n",
       "0                                    [presid, stern]  \n",
       "0                                            [thank]  \n",
       "0                                  [presid, minehan]  "
      ]
     },
     "execution_count": 106,
     "metadata": {},
     "output_type": "execute_result"
    }
   ],
   "source": [
    "sgs.iloc[:10]"
   ]
  },
  {
   "cell_type": "code",
   "execution_count": 111,
   "metadata": {},
   "outputs": [],
   "source": [
    "sgs['probs'] = sgs['tokens'].map(lambda x : ldamodel[dict.doc2bow(x)])"
   ]
  },
  {
   "cell_type": "code",
   "execution_count": 150,
   "metadata": {},
   "outputs": [
    {
     "data": {
      "text/plain": [
       "[(22, 0.0745)]"
      ]
     },
     "execution_count": 150,
     "metadata": {},
     "output_type": "execute_result"
    }
   ],
   "source": [
    "def topk_topics(topic_vec, k=3):\n",
    "    # print(topic_vec[0][1])\n",
    "    probs = [item[1] for item in topic_vec]\n",
    "    probs.sort(reverse=True)\n",
    "    threshold = probs[k - 1]\n",
    "    topk = [item for item in topic_vec if item[1] >= max(threshold, 0.03)]\n",
    "    rounded = [(topic, round(prob,4)) for topic, prob in topk]\n",
    "    # print(topk)\n",
    "    return rounded\n",
    "topk_topics(sgs.iloc[0]['probs'])"
   ]
  },
  {
   "cell_type": "code",
   "execution_count": 152,
   "metadata": {},
   "outputs": [],
   "source": [
    "sgs['topk'] = sgs['probs'].map(lambda x : topk_topics(x, k=3))"
   ]
  },
  {
   "cell_type": "code",
   "execution_count": 163,
   "metadata": {},
   "outputs": [
    {
     "name": "stdout",
     "output_type": "stream",
     "text": [
      "In fact, I believe that we should be working harder to return inflation to 2 percent over a reasonable horizon.\n",
      "[(25, 0.0344)]\n",
      "Meanwhile reserve balances have risen by more than $200 billion over the same period.\n",
      "[(24, 0.0643), (28, 0.0478)]\n",
      "Unfortunately, the more recent releases have been less encouraging, and financial markets are unsettled.\n",
      "[(29, 0.0423)]\n",
      "President Fisher.\n",
      "[(22, 0.0336)]\n",
      "I don't think I've looked at what the yield curve looks like in that situation.\n",
      "[(28, 0.0398), (35, 0.0339)]\n",
      "In particular, Brian was extraordinarily patient with me as he helped me get up to speed in learning all of the intricacies of Federal Reserve governance and communication, such as when I asked him, \"So when we send a memo to the FOMC, what do we actually include in that memo?\"\n",
      "[(23, 0.0503), (24, 0.0471), (30, 0.0362)]\n",
      "Turning to costs, I think there is a political risk associated with the scenario of ending remittances and booking a deferred asset while the interest on reserves that we pay to banks is rising.\n",
      "[(8, 0.0331), (24, 0.0341), (38, 0.0405)]\n",
      "While I'm sure there's going to be an ongoing discussion, I would still continue to use the date, but over time, explain that it represents a departure from our standard policy rules and our own historic reaction function.\n",
      "[(16, 0.0317), (30, 0.0669)]\n",
      "Either way--real or statistical noise--we think the recent spate of weaker-than- expected indicators will probably amount to a stumble along the path of an ongoing, moderate expansion in real activity.\n",
      "[(9, 0.0361), (36, 0.0598)]\n",
      "Men in the age category of 20 to 24 years currently have an unemployment rate of 18.7 percent, 5 percentage points higher than women.\n",
      "[(2, 0.0393), (6, 0.0367), (32, 0.0476)]\n",
      "Yes.\n",
      "[(20, 0.0411)]\n",
      "So I propose to give some guidance today in the press conference, and I will come back to that in just a second.\n",
      "[(22, 0.0327), (42, 0.0397)]\n",
      "That's something that we've always done, but I think it is kind of odd, and it warps the interpretation of the SEP compared with what it otherwise could be.\n",
      "[(7, 0.0309)]\n",
      "I guess the one thing I would say from my perspective is, if the principles come out, some people are going to say, \"Oh, okay.\n",
      "[(4, 0.0382), (22, 0.0333), (23, 0.0428)]\n",
      "Retail is performing rather well.\n",
      "[(17, 0.0318)]\n",
      "I project it to decline to 3.9 percent in 2018, before gradually rising to 4.1 percent by 2020.\n",
      "[(2, 0.0301), (27, 0.0318)]\n"
     ]
    }
   ],
   "source": [
    "for i, row in sgs.sample(20)[['content', 'topk']].iterrows():\n",
    "    if len(row['topk']) > 0:\n",
    "        print(row['content'])\n",
    "        print(row['topk'])"
   ]
  },
  {
   "cell_type": "code",
   "execution_count": 166,
   "metadata": {},
   "outputs": [
    {
     "name": "stderr",
     "output_type": "stream",
     "text": [
      "Downloading config.json: 100%|██████████| 758/758 [00:00<00:00, 1.35MB/s]\n",
      "Downloading pytorch_model.bin: 100%|██████████| 438M/438M [01:23<00:00, 5.26MB/s] \n",
      "Downloading tokenizer_config.json: 100%|██████████| 252/252 [00:00<00:00, 1.89MB/s]\n",
      "Downloading vocab.txt: 100%|██████████| 232k/232k [00:00<00:00, 3.19MB/s]\n",
      "Downloading (…)cial_tokens_map.json: 100%|██████████| 112/112 [00:00<00:00, 183kB/s]\n"
     ]
    }
   ],
   "source": [
    "from transformers import pipeline\n",
    "pipe = pipeline(\"text-classification\", model=\"ProsusAI/finbert\")"
   ]
  },
  {
   "cell_type": "code",
   "execution_count": 169,
   "metadata": {},
   "outputs": [
    {
     "data": {
      "text/plain": [
       "[{'label': 'neutral', 'score': 0.8503028154373169},\n",
       " {'label': 'negative', 'score': 0.9071136713027954}]"
      ]
     },
     "execution_count": 169,
     "metadata": {},
     "output_type": "execute_result"
    }
   ],
   "source": [
    "pipe([\"testing\", \"terrible inflation plaguing the country\"])"
   ]
  },
  {
   "cell_type": "code",
   "execution_count": 191,
   "metadata": {},
   "outputs": [],
   "source": [
    "sgs = sgs.reset_index().drop(columns=['index'], axis=1)\n",
    "sgs['sentiment'] = pipe(sgs['content'].tolist())"
   ]
  },
  {
   "cell_type": "code",
   "execution_count": 193,
   "metadata": {},
   "outputs": [],
   "source": [
    "sgs.to_csv('sgs.csv')"
   ]
  }
 ],
 "metadata": {
  "kernelspec": {
   "display_name": "fed-nlp",
   "language": "python",
   "name": "python3"
  },
  "language_info": {
   "codemirror_mode": {
    "name": "ipython",
    "version": 3
   },
   "file_extension": ".py",
   "mimetype": "text/x-python",
   "name": "python",
   "nbconvert_exporter": "python",
   "pygments_lexer": "ipython3",
   "version": "3.11.4"
  }
 },
 "nbformat": 4,
 "nbformat_minor": 2
}
