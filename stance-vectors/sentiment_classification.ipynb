{
 "cells": [
  {
   "cell_type": "code",
   "execution_count": 1,
   "metadata": {},
   "outputs": [
    {
     "name": "stderr",
     "output_type": "stream",
     "text": [
      "2024-03-23 15:35:10.454000: I external/local_tsl/tsl/cuda/cudart_stub.cc:31] Could not find cuda drivers on your machine, GPU will not be used.\n",
      "2024-03-23 15:35:10.612264: E external/local_xla/xla/stream_executor/cuda/cuda_dnn.cc:9261] Unable to register cuDNN factory: Attempting to register factory for plugin cuDNN when one has already been registered\n",
      "2024-03-23 15:35:10.612326: E external/local_xla/xla/stream_executor/cuda/cuda_fft.cc:607] Unable to register cuFFT factory: Attempting to register factory for plugin cuFFT when one has already been registered\n",
      "2024-03-23 15:35:10.644964: E external/local_xla/xla/stream_executor/cuda/cuda_blas.cc:1515] Unable to register cuBLAS factory: Attempting to register factory for plugin cuBLAS when one has already been registered\n",
      "2024-03-23 15:35:10.693508: I external/local_tsl/tsl/cuda/cudart_stub.cc:31] Could not find cuda drivers on your machine, GPU will not be used.\n",
      "2024-03-23 15:35:10.695024: I tensorflow/core/platform/cpu_feature_guard.cc:182] This TensorFlow binary is optimized to use available CPU instructions in performance-critical operations.\n",
      "To enable the following instructions: AVX2 FMA, in other operations, rebuild TensorFlow with the appropriate compiler flags.\n",
      "2024-03-23 15:35:11.753019: W tensorflow/compiler/tf2tensorrt/utils/py_utils.cc:38] TF-TRT Warning: Could not find TensorRT\n"
     ]
    }
   ],
   "source": [
    "import pandas as pd\n",
    "from transformers import pipeline"
   ]
  },
  {
   "cell_type": "code",
   "execution_count": 2,
   "metadata": {},
   "outputs": [],
   "source": [
    "sgs = pd.read_csv('../working-csvs/fomc_sents.csv', index_col=0)"
   ]
  },
  {
   "cell_type": "code",
   "execution_count": 3,
   "metadata": {},
   "outputs": [
    {
     "data": {
      "text/html": [
       "<div>\n",
       "<style scoped>\n",
       "    .dataframe tbody tr th:only-of-type {\n",
       "        vertical-align: middle;\n",
       "    }\n",
       "\n",
       "    .dataframe tbody tr th {\n",
       "        vertical-align: top;\n",
       "    }\n",
       "\n",
       "    .dataframe thead th {\n",
       "        text-align: right;\n",
       "    }\n",
       "</style>\n",
       "<table border=\"1\" class=\"dataframe\">\n",
       "  <thead>\n",
       "    <tr style=\"text-align: right;\">\n",
       "      <th></th>\n",
       "      <th>lname</th>\n",
       "      <th>date</th>\n",
       "      <th>section</th>\n",
       "      <th>content</th>\n",
       "    </tr>\n",
       "  </thead>\n",
       "  <tbody>\n",
       "    <tr>\n",
       "      <th>0</th>\n",
       "      <td>barkin</td>\n",
       "      <td>2018-01-31</td>\n",
       "      <td>1</td>\n",
       "      <td>Thank you, Madam Chair.</td>\n",
       "    </tr>\n",
       "    <tr>\n",
       "      <th>1</th>\n",
       "      <td>barkin</td>\n",
       "      <td>2018-01-31</td>\n",
       "      <td>1</td>\n",
       "      <td>I am privileged to be here to participate in t...</td>\n",
       "    </tr>\n",
       "    <tr>\n",
       "      <th>2</th>\n",
       "      <td>barkin</td>\n",
       "      <td>2018-01-31</td>\n",
       "      <td>1</td>\n",
       "      <td>So thank you for that.</td>\n",
       "    </tr>\n",
       "    <tr>\n",
       "      <th>3</th>\n",
       "      <td>barkin</td>\n",
       "      <td>2018-01-31</td>\n",
       "      <td>1</td>\n",
       "      <td>Speaking of humility, I am humbled to be here ...</td>\n",
       "    </tr>\n",
       "    <tr>\n",
       "      <th>4</th>\n",
       "      <td>barkin</td>\n",
       "      <td>2018-01-31</td>\n",
       "      <td>1</td>\n",
       "      <td>I hope at the end of my remarks you won't thin...</td>\n",
       "    </tr>\n",
       "    <tr>\n",
       "      <th>...</th>\n",
       "      <td>...</td>\n",
       "      <td>...</td>\n",
       "      <td>...</td>\n",
       "      <td>...</td>\n",
       "    </tr>\n",
       "    <tr>\n",
       "      <th>261983</th>\n",
       "      <td>yellen</td>\n",
       "      <td>2018-01-31</td>\n",
       "      <td>2</td>\n",
       "      <td>Further comments?</td>\n",
       "    </tr>\n",
       "    <tr>\n",
       "      <th>261984</th>\n",
       "      <td>yellen</td>\n",
       "      <td>2018-01-31</td>\n",
       "      <td>2</td>\n",
       "      <td>Okay.</td>\n",
       "    </tr>\n",
       "    <tr>\n",
       "      <th>261985</th>\n",
       "      <td>yellen</td>\n",
       "      <td>2018-01-31</td>\n",
       "      <td>2</td>\n",
       "      <td>Well, hearing this discussion, I think my incl...</td>\n",
       "    </tr>\n",
       "    <tr>\n",
       "      <th>261986</th>\n",
       "      <td>yellen</td>\n",
       "      <td>2018-01-31</td>\n",
       "      <td>2</td>\n",
       "      <td>I recognize that there is some risk in doing i...</td>\n",
       "    </tr>\n",
       "    <tr>\n",
       "      <th>261987</th>\n",
       "      <td>yellen</td>\n",
       "      <td>2018-01-31</td>\n",
       "      <td>2</td>\n",
       "      <td>So let me ask Jim Clouse to make clear what th...</td>\n",
       "    </tr>\n",
       "  </tbody>\n",
       "</table>\n",
       "<p>261988 rows × 4 columns</p>\n",
       "</div>"
      ],
      "text/plain": [
       "         lname        date  section  \\\n",
       "0       barkin  2018-01-31        1   \n",
       "1       barkin  2018-01-31        1   \n",
       "2       barkin  2018-01-31        1   \n",
       "3       barkin  2018-01-31        1   \n",
       "4       barkin  2018-01-31        1   \n",
       "...        ...         ...      ...   \n",
       "261983  yellen  2018-01-31        2   \n",
       "261984  yellen  2018-01-31        2   \n",
       "261985  yellen  2018-01-31        2   \n",
       "261986  yellen  2018-01-31        2   \n",
       "261987  yellen  2018-01-31        2   \n",
       "\n",
       "                                                  content  \n",
       "0                                 Thank you, Madam Chair.  \n",
       "1       I am privileged to be here to participate in t...  \n",
       "2                                  So thank you for that.  \n",
       "3       Speaking of humility, I am humbled to be here ...  \n",
       "4       I hope at the end of my remarks you won't thin...  \n",
       "...                                                   ...  \n",
       "261983                                  Further comments?  \n",
       "261984                                              Okay.  \n",
       "261985  Well, hearing this discussion, I think my incl...  \n",
       "261986  I recognize that there is some risk in doing i...  \n",
       "261987  So let me ask Jim Clouse to make clear what th...  \n",
       "\n",
       "[261988 rows x 4 columns]"
      ]
     },
     "execution_count": 3,
     "metadata": {},
     "output_type": "execute_result"
    }
   ],
   "source": [
    "sgs"
   ]
  },
  {
   "cell_type": "code",
   "execution_count": 4,
   "metadata": {},
   "outputs": [],
   "source": [
    "pipe = pipeline(\"text-classification\", model=\"ProsusAI/finbert\")"
   ]
  },
  {
   "cell_type": "code",
   "execution_count": 5,
   "metadata": {},
   "outputs": [],
   "source": [
    "sgs['sentiment'] = pipe(sgs['content'].tolist())"
   ]
  },
  {
   "cell_type": "markdown",
   "metadata": {},
   "source": [
    "runtime: 189m 7.2s"
   ]
  },
  {
   "cell_type": "code",
   "execution_count": 19,
   "metadata": {},
   "outputs": [],
   "source": [
    "sgs['sent_category'] = sgs['sentiment'].map(lambda x : x['label'])\n",
    "sgs['sent_prob'] = sgs['sentiment'].map(lambda x : x['score'])"
   ]
  },
  {
   "cell_type": "code",
   "execution_count": 20,
   "metadata": {},
   "outputs": [],
   "source": [
    "def sent_map(category):\n",
    "    if category == 'neutral':\n",
    "        return 0\n",
    "    elif category == 'positive':\n",
    "        return 1\n",
    "    return -1"
   ]
  },
  {
   "cell_type": "code",
   "execution_count": 24,
   "metadata": {},
   "outputs": [],
   "source": [
    "sgs['sent'] = sgs['sent_category'].map(sent_map)"
   ]
  },
  {
   "cell_type": "code",
   "execution_count": 34,
   "metadata": {},
   "outputs": [],
   "source": [
    "sgs.drop(columns=['sentiment', 'sent_category'], inplace=True)"
   ]
  },
  {
   "cell_type": "code",
   "execution_count": 36,
   "metadata": {},
   "outputs": [],
   "source": [
    "sgs.to_csv('../working-csvs/fomc-sents-w-sentiment.csv')"
   ]
  }
 ],
 "metadata": {
  "kernelspec": {
   "display_name": "fed-nlp",
   "language": "python",
   "name": "python3"
  },
  "language_info": {
   "codemirror_mode": {
    "name": "ipython",
    "version": 3
   },
   "file_extension": ".py",
   "mimetype": "text/x-python",
   "name": "python",
   "nbconvert_exporter": "python",
   "pygments_lexer": "ipython3",
   "version": "3.11.4"
  }
 },
 "nbformat": 4,
 "nbformat_minor": 2
}
